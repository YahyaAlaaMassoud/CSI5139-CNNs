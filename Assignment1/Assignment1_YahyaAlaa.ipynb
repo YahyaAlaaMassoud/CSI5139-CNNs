{
 "cells": [
  {
   "cell_type": "markdown",
   "metadata": {},
   "source": [
    "# <a name=\"head\">CSI5139</a>\n",
    "* * *\n",
    "# Assignment 1 | Image Labelling - Linear Classification\n",
    "* * * \n",
    "## In this jupyter notebook, I will be dicussing the following\n",
    "***\n",
    "- ### [1.1 Getting Started](#1_1)\n",
    "    - #### [1.1.1 Fetching and preprocessing the dataset from the folders in an automatic way](#1_1_1)\n",
    "    - #### [1.1.2 Collect data as inputs (X) and groundtruth (y)](#1_1_2)\n",
    "    - #### [1.1.3 Splitting the data into train/dev/test sets](#1_1_3)\n",
    "- ### [1.2 Binary Classifier](#1_2)\n",
    "    - #### [1.2.1 Model selection and training](#1_2_1)\n",
    "    - #### [1.2.2 Measuring perfomance metrics (accuracy, percision, recall, and confusion matrix)](#1_2_2)\n",
    "    - #### [1.2.3 Plotting ROC curve](#1_2_3)\n",
    "- ### [1.3 Multiclass Classifier](#1_3)\n",
    "    - #### [1.3.1 Preparing the classification data](#1_3_1)\n",
    "    - #### [1.3.2 Model selection and training](#1_3_2)\n",
    "    - #### [1.3.3 Measuring perfomance metrics (accuracy and confusion matrix)](#1_3_3)\n",
    "- ### [1.4 Improved Classification of Colour Image (Bonus) | Huge increase in performance (100%)](#1_4)\n",
    "    - #### [1.4.1 Testing the model from **1.3** with external images](#1_4_1)\n",
    "    - #### [1.4.2 Preparing the classification color data](#1_4_2)\n",
    "    - #### [1.4.3 Feature selection and extraction](#1_4_3)\n",
    "    - #### [1.4.4 Model selection and training](#1_4_4)\n",
    "    - #### [1.4.5 Measuring perfomance metrics (accuracy and confusion matrix)](#1_4_5)\n",
    "- ### [Conclusion](#conc)"
   ]
  },
  {
   "cell_type": "markdown",
   "metadata": {},
   "source": [
    "### Installing (if not already installed) and importing all the packages that are going to be used thoughout the assignment. "
   ]
  },
  {
   "cell_type": "code",
   "execution_count": 1,
   "metadata": {},
   "outputs": [
    {
     "name": "stdout",
     "output_type": "stream",
     "text": [
      "Requirement already satisfied: numpy in c:\\users\\administrator\\anaconda3\\envs\\ottawa\\lib\\site-packages (1.16.5)\n",
      "Requirement already satisfied: matplotlib in c:\\users\\administrator\\anaconda3\\envs\\ottawa\\lib\\site-packages (3.1.1)\n",
      "Requirement already satisfied: cycler>=0.10 in c:\\users\\administrator\\anaconda3\\envs\\ottawa\\lib\\site-packages (from matplotlib) (0.10.0)\n",
      "Requirement already satisfied: kiwisolver>=1.0.1 in c:\\users\\administrator\\anaconda3\\envs\\ottawa\\lib\\site-packages (from matplotlib) (1.1.0)\n",
      "Requirement already satisfied: pyparsing!=2.0.4,!=2.1.2,!=2.1.6,>=2.0.1 in c:\\users\\administrator\\anaconda3\\envs\\ottawa\\lib\\site-packages (from matplotlib) (2.4.2)\n",
      "Requirement already satisfied: python-dateutil>=2.1 in c:\\users\\administrator\\anaconda3\\envs\\ottawa\\lib\\site-packages (from matplotlib) (2.8.0)\n",
      "Requirement already satisfied: numpy>=1.11 in c:\\users\\administrator\\anaconda3\\envs\\ottawa\\lib\\site-packages (from matplotlib) (1.16.5)\n",
      "Requirement already satisfied: six in c:\\users\\administrator\\appdata\\roaming\\python\\python36\\site-packages (from cycler>=0.10->matplotlib) (1.12.0)\n",
      "Requirement already satisfied: setuptools in c:\\users\\administrator\\anaconda3\\envs\\ottawa\\lib\\site-packages (from kiwisolver>=1.0.1->matplotlib) (41.0.1)\n",
      "Requirement already satisfied: scikit-learn in c:\\users\\administrator\\anaconda3\\envs\\ottawa\\lib\\site-packages (0.21.2)\n",
      "Requirement already satisfied: numpy>=1.11.0 in c:\\users\\administrator\\anaconda3\\envs\\ottawa\\lib\\site-packages (from scikit-learn) (1.16.5)\n",
      "Requirement already satisfied: scipy>=0.17.0 in c:\\users\\administrator\\anaconda3\\envs\\ottawa\\lib\\site-packages (from scikit-learn) (1.3.1)\n",
      "Requirement already satisfied: joblib>=0.11 in c:\\users\\administrator\\anaconda3\\envs\\ottawa\\lib\\site-packages (from scikit-learn) (0.13.2)\n",
      "Requirement already satisfied: scikit-image in c:\\users\\administrator\\anaconda3\\envs\\ottawa\\lib\\site-packages (0.15.0)\n",
      "Requirement already satisfied: scipy>=0.17.0 in c:\\users\\administrator\\anaconda3\\envs\\ottawa\\lib\\site-packages (from scikit-image) (1.3.1)\n",
      "Requirement already satisfied: matplotlib!=3.0.0,>=2.0.0 in c:\\users\\administrator\\anaconda3\\envs\\ottawa\\lib\\site-packages (from scikit-image) (3.1.1)\n",
      "Requirement already satisfied: networkx>=2.0 in c:\\users\\administrator\\anaconda3\\envs\\ottawa\\lib\\site-packages (from scikit-image) (2.3)\n",
      "Requirement already satisfied: pillow>=4.3.0 in c:\\users\\administrator\\anaconda3\\envs\\ottawa\\lib\\site-packages (from scikit-image) (5.4.1)\n",
      "Requirement already satisfied: imageio>=2.0.1 in c:\\users\\administrator\\anaconda3\\envs\\ottawa\\lib\\site-packages (from scikit-image) (2.5.0)\n",
      "Requirement already satisfied: PyWavelets>=0.4.0 in c:\\users\\administrator\\anaconda3\\envs\\ottawa\\lib\\site-packages (from scikit-image) (1.0.3)\n",
      "Requirement already satisfied: cycler>=0.10 in c:\\users\\administrator\\anaconda3\\envs\\ottawa\\lib\\site-packages (from matplotlib!=3.0.0,>=2.0.0->scikit-image) (0.10.0)\n",
      "Requirement already satisfied: kiwisolver>=1.0.1 in c:\\users\\administrator\\anaconda3\\envs\\ottawa\\lib\\site-packages (from matplotlib!=3.0.0,>=2.0.0->scikit-image) (1.1.0)\n",
      "Requirement already satisfied: pyparsing!=2.0.4,!=2.1.2,!=2.1.6,>=2.0.1 in c:\\users\\administrator\\anaconda3\\envs\\ottawa\\lib\\site-packages (from matplotlib!=3.0.0,>=2.0.0->scikit-image) (2.4.2)\n",
      "Requirement already satisfied: python-dateutil>=2.1 in c:\\users\\administrator\\anaconda3\\envs\\ottawa\\lib\\site-packages (from matplotlib!=3.0.0,>=2.0.0->scikit-image) (2.8.0)\n",
      "Requirement already satisfied: numpy>=1.11 in c:\\users\\administrator\\anaconda3\\envs\\ottawa\\lib\\site-packages (from matplotlib!=3.0.0,>=2.0.0->scikit-image) (1.16.5)\n",
      "Requirement already satisfied: decorator>=4.3.0 in c:\\users\\administrator\\anaconda3\\envs\\ottawa\\lib\\site-packages (from networkx>=2.0->scikit-image) (4.4.0)\n",
      "Requirement already satisfied: six in c:\\users\\administrator\\appdata\\roaming\\python\\python36\\site-packages (from cycler>=0.10->matplotlib!=3.0.0,>=2.0.0->scikit-image) (1.12.0)\n",
      "Requirement already satisfied: setuptools in c:\\users\\administrator\\anaconda3\\envs\\ottawa\\lib\\site-packages (from kiwisolver>=1.0.1->matplotlib!=3.0.0,>=2.0.0->scikit-image) (41.0.1)\n"
     ]
    },
    {
     "data": {
      "application/javascript": [
       "IPython.notebook.set_autosave_interval(60000)"
      ]
     },
     "metadata": {},
     "output_type": "display_data"
    },
    {
     "name": "stdout",
     "output_type": "stream",
     "text": [
      "Autosaving every 60 seconds\n"
     ]
    }
   ],
   "source": [
    "! pip install numpy\n",
    "! pip install matplotlib\n",
    "! pip install scikit-learn\n",
    "! pip install scikit-image\n",
    "\n",
    "%autosave 60\n",
    "%matplotlib inline\n",
    "import os\n",
    "import skimage\n",
    "from skimage.transform import rescale, resize\n",
    "import matplotlib\n",
    "import matplotlib.pyplot as plt\n",
    "import ntpath\n",
    "import numpy as np"
   ]
  },
  {
   "cell_type": "markdown",
   "metadata": {},
   "source": [
    "## <a name=\"1_1\">1.1 Getting Started</a>\n",
    "***\n",
    "- #### [1.1.1 Fetching and preprocessing the dataset from the folders in an automatic way](#1_1_1)\n",
    "- #### [1.1.2 Collecting data as inputs (X) and groundtruth (y)](#1_1_2)\n",
    "- #### [1.1.3 Splitting the data into train/dev/test sets](#1_1_3)"
   ]
  },
  {
   "cell_type": "markdown",
   "metadata": {},
   "source": [
    "### <a name=\"1_1_1\">1.1.1 Fetching the dataset from the folders in an automatic way</a>\n",
    "***\n",
    "Since I want my implementation to be as generic and reusable as possible, I have designed and implemented some helper functions that will be used to fetch and prepare the images from the dataset's folders.\n",
    "\n",
    "By doing that, I will have ONE a high-level API function that is responsible for gathering and preparing the images within a dataset directories (not just for this dataset, it can also work with any other dataset with the same structure), that is given only the dataset directory name, and some options to follow (image color channel, rescaling factor, etc.).\n",
    "\n",
    "<a href=\"#1_1\" style=\"float: right\">Return to Beggining of Section</a>\n",
    "<br>\n",
    "<a href=\"#head\" style=\"float: right\">Return to Table of Contents</a>"
   ]
  },
  {
   "cell_type": "code",
   "execution_count": 2,
   "metadata": {},
   "outputs": [],
   "source": [
    "def get_subdirectories(dir_name):\n",
    "    '''\n",
    "        This functions returns a list of all subdirectories' paths under a specific directory name.\n",
    "        \n",
    "        params:\n",
    "            dir_name: str\n",
    "        returns:\n",
    "            subdirectories_list: List[str]\n",
    "    '''\n",
    "    if (os.path.isdir(dir_name)):\n",
    "        return [os.path.join(dir_name, subdir_name) for subdir_name in os.listdir(dir_name) if os.path.isdir(os.path.join(dir_name, subdir_name))]\n",
    "    else:\n",
    "        return []\n",
    "    \n",
    "def get_files_within_dir(dir_name, ext):\n",
    "    '''\n",
    "        This function returns all the files' paths withing a specific directory with the same extension as [ext]\n",
    "        \n",
    "        params:\n",
    "            dir_name: str\n",
    "            ext: str\n",
    "        returns:\n",
    "            all_files_found_list: List[str]\n",
    "    '''\n",
    "    if (os.path.isdir(dir_name)):\n",
    "        return [os.path.join(dir_name, file_name) for file_name in os.listdir(dir_name) if file_name.endswith(ext)]\n",
    "    else:\n",
    "        return []\n",
    "    \n",
    "def read_images_from_files(filenames, rescale_factor, rgb=True, flatten=False):\n",
    "    '''\n",
    "        This function takes a list of images' filenames, reads all the images, and return them based on some parameters given,\n",
    "        to the function as the rescaling factor, either RGB or grayscale, and either the image will be flattened or not\n",
    "        \n",
    "        params: \n",
    "            filenames: List[str]\n",
    "            rescale_factor: float\n",
    "            rgb: bool (optional) default=True\n",
    "            flatten: bool (optional) default=False\n",
    "        return:\n",
    "            List[Tuple[np.ndarray, Tuple[int, int], str]] -> List[(image, original_size, filename)]\n",
    "    '''\n",
    "    def read_image_from_file(filename):\n",
    "        '''\n",
    "            This function takes an image's filename, read the image pixels in either RGB or grayscale format as specified,\n",
    "            resizes the image with the given rescaling factor, flattens the image so it can be one vector on numbers,\n",
    "            and returns the preprocessed image and its original shape\n",
    "            \n",
    "            params: \n",
    "                filename: str\n",
    "            returns:\n",
    "                img: np.ndarray\n",
    "                org_size: Tuple[int, int]\n",
    "        '''\n",
    "        img = skimage.io.imread(filename, as_gray=(not rgb))\n",
    "        org_size = img.shape\n",
    "        img = rescale(img, rescale_factor, anti_aliasing=True)\n",
    "        \n",
    "        if (flatten==True):\n",
    "            img = img.flatten()\n",
    "        return img, org_size\n",
    "        \n",
    "    images = []\n",
    "    for filename in filenames:\n",
    "        img, org_size = read_image_from_file(filename)\n",
    "        images.append((img, org_size, filename))\n",
    "    return images\n",
    "\n",
    "def get_all_images(dataset_dirname, rescale_factor, RGB=True, flatten=False):\n",
    "    '''\n",
    "        This function acts as the main API function, and is responsible for fetching and preprocessing all the images\n",
    "        within the dataset directory, it uses the already defined helper functions\n",
    "        \n",
    "        params:\n",
    "            dataset_dirname: str\n",
    "            rescale_factor: float\n",
    "            RGB: bool\n",
    "            flatten: bool\n",
    "        return:\n",
    "            all_images: List[Tuple[np.ndarray, Tuple[int, int], str]] -> List[(image, original_size, filename)]\n",
    "    '''\n",
    "    subdirectories = get_subdirectories(dataset_dirname)\n",
    "    all_images = []\n",
    "    for subdir in subdirectories:\n",
    "        images_filenames = get_files_within_dir(subdir, '.png')\n",
    "        subdir_images = read_images_from_files(filenames=images_filenames, rescale_factor=rescale_factor, rgb=RGB, flatten=flatten)\n",
    "        all_images += subdir_images\n",
    "    return all_images\n",
    "\n",
    "def get_images_by_keywords(all_images, keywords):\n",
    "    '''\n",
    "        This function takes all the images, and some keywords, and returns a subset of all the images based on whether or not\n",
    "        the keywords were found in their filenames\n",
    "        \n",
    "        params: \n",
    "            all_images: List[Tuple[np.ndarray, Tuple[int, int], str]] -> List[(image, original_size, filename)]\n",
    "            keywords: List[str]\n",
    "        return:\n",
    "            images: List[np.ndarray]\n",
    "            original_sizes: List[Tuple[int, int]] -> each image's original shape\n",
    "    '''\n",
    "    def keywords_found(filename):\n",
    "        '''\n",
    "            This function takes a file name, and checks whether or not the keywords are found in the filename\n",
    "            \n",
    "            params:\n",
    "                filename: str\n",
    "            return:\n",
    "                found: bool\n",
    "        '''\n",
    "        found = True\n",
    "        image_filename = ntpath.basename(filename)\n",
    "        for keyword in keywords:\n",
    "            found = (found and (keyword in image_filename))\n",
    "        return found\n",
    "    \n",
    "    images = [image[0] for image in all_images if keywords_found(image[2]) == True]\n",
    "    org_sizes = [image[1] for image in all_images if keywords_found(image[2]) == True]\n",
    "    return images, org_sizes"
   ]
  },
  {
   "cell_type": "markdown",
   "metadata": {},
   "source": [
    "Now I need to collect the data for the **first task**, so all I need to do is to call the helper method that we already have implemented.\n",
    "\n",
    "#### Important Note: The ***DATASET_DIRNAME*** variable must be set to the path to the dataset, ex. ***/path/to/data/set/Phos2_0_2MP***, in this notebook, the dataset directory and the jupyter notebook are in the exact same directory\n",
    "\n",
    "<a href=\"#1_1\" style=\"float: right\">Return to Beggining of Section</a>\n",
    "<br>\n",
    "<a href=\"#head\" style=\"float: right\">Return to Table of Contents</a>"
   ]
  },
  {
   "cell_type": "code",
   "execution_count": 3,
   "metadata": {},
   "outputs": [],
   "source": [
    "'''\n",
    "    Defining the global variables that I will be using to extract and pre-process the image data\n",
    "        - Dataset directory name\n",
    "        - Rescaling factor as mentioned in the assignment PDF (1/5)\n",
    "        - The corresponding keywords for each of the classes of the images based on their illuminations\n",
    "'''\n",
    "DATASET_DIRNAME = \"Phos2_0_2MP\"\n",
    "RESCALING_FACTOR = 1. / 5.\n",
    "#############################################################################\n",
    "NONUNI_KEYWORDS = [\"_nonuni_\"]      # For the 1st task | Class 0\n",
    "UNI_KEYWORDS = [\"_uni_\"]            # For the 1st task | Class 1\n",
    "#############################################################################\n",
    "OVEREXPOSED_KEYWORDS = [\"_plus_\"]   # For the 2nd and 3rd task | Class 0\n",
    "UNDEREXPOSED_KEYWORDS = [\"_minus_\"] # For the 2nd and 3rd task | Class 1\n",
    "REGULAR_KEYWORDS = [\"_uni_\", \"_0\"]  # For the 2nd and 3rd task | Class 2\n",
    "NONUNI_KEYWORDS = [\"_nonuni_\"]      # For the 2nd and 3rd task | Class 2"
   ]
  },
  {
   "cell_type": "markdown",
   "metadata": {},
   "source": [
    "### <a name=\"1_1_2\">1.1.2 Collecting data as inputs (X) and groundtruth (y)</a>\n",
    "***\n",
    "Now I just need to call the function **get_all_images** to get a list of all images ready for the **Task 1** and **Task 2**, as the data needed is grayscale.\n",
    "\n",
    "<a href=\"#1_1\" style=\"float: right\">Return to Beggining of Section</a>\n",
    "<br>\n",
    "<a href=\"#head\" style=\"float: right\">Return to Table of Contents</a>"
   ]
  },
  {
   "cell_type": "code",
   "execution_count": 4,
   "metadata": {},
   "outputs": [
    {
     "name": "stderr",
     "output_type": "stream",
     "text": [
      "c:\\users\\administrator\\anaconda3\\envs\\ottawa\\lib\\site-packages\\skimage\\transform\\_warps.py:23: UserWarning: The default multichannel argument (None) is deprecated.  Please specify either True or False explicitly.  multichannel will default to False starting with release 0.16.\n",
      "  warn('The default multichannel argument (None) is deprecated.  Please '\n"
     ]
    }
   ],
   "source": [
    "grayscale_data = get_all_images(DATASET_DIRNAME, RESCALING_FACTOR, RGB=False, flatten=True)"
   ]
  },
  {
   "cell_type": "code",
   "execution_count": 5,
   "metadata": {},
   "outputs": [],
   "source": [
    "def generate_labels_list(list_len, label):\n",
    "    '''\n",
    "        This function takes a list length and a specific label and generates a numpy array with that specific length\n",
    "        and have all the elements values set to that specific label\n",
    "        \n",
    "        params:\n",
    "            list_len: int\n",
    "            label: int\n",
    "        return:\n",
    "            generated_labels: List[int]\n",
    "    '''\n",
    "    return np.full(list_len, label).tolist()"
   ]
  },
  {
   "cell_type": "markdown",
   "metadata": {},
   "source": [
    "Now I just need to fetch the data for each class to be used in **Task 1**, so I will use only the **non-uniform** illumination and the **uniform** illumination images as my 2 classes of interest, as well as defining labels for each class, so I will choose **label 0** for the **non-uniform** illumination images and **label 1** for the **uniform** illumination images.\n",
    "\n",
    "<a href=\"#1_1\" style=\"float: right\">Return to Beggining of Section</a>\n",
    "<br>\n",
    "<a href=\"#head\" style=\"float: right\">Return to Table of Contents</a>"
   ]
  },
  {
   "cell_type": "code",
   "execution_count": 6,
   "metadata": {},
   "outputs": [
    {
     "name": "stdout",
     "output_type": "stream",
     "text": [
      "Number of examples on non-uniform illumination pictures is: 90 with label 0\n",
      "Number of examples on uniform illumination pictures is: 135 with label 1\n"
     ]
    }
   ],
   "source": [
    "# fetching non-uniform illumination images by searching for the \"nonuni\" keyword in the images' filenames \n",
    "nonuni_images, nonuni_org_sizes = get_images_by_keywords(grayscale_data, NONUNI_KEYWORDS)\n",
    "nonuni_labels = generate_labels_list(len(nonuni_images), 0)\n",
    "\n",
    "# fetching uniform illumination images by searching for the \"uni\" keyword in the images' filenames \n",
    "uni_images, uni_org_sizes = get_images_by_keywords(grayscale_data, UNI_KEYWORDS)\n",
    "uni_labels = generate_labels_list(len(uni_images), 1)\n",
    "\n",
    "# defining length of each class of images\n",
    "nonuni_len = len(nonuni_images)\n",
    "uni_len = len(uni_images)\n",
    "print(\"Number of examples on non-uniform illumination pictures is: \" + str(nonuni_len) + \" with label \" + str(nonuni_labels[0]))\n",
    "print(\"Number of examples on uniform illumination pictures is: \" + str(uni_len) + \" with label \" + str(uni_labels[0]))"
   ]
  },
  {
   "cell_type": "markdown",
   "metadata": {},
   "source": [
    "Let's just define a function that plots an image to make sure we are fetching the data in the right way by plotting a random examples for the images in either class 0 or 1.\n",
    "\n",
    "<a href=\"#1_1\" style=\"float: right\">Return to Beggining of Section</a>\n",
    "<br>\n",
    "<a href=\"#head\" style=\"float: right\">Return to Table of Contents</a>"
   ]
  },
  {
   "cell_type": "code",
   "execution_count": 7,
   "metadata": {},
   "outputs": [
    {
     "data": {
      "image/png": "[encoded data removed]",
      "text/plain": [
       "<Figure size 1440x1440 with 2 Axes>"
      ]
     },
     "metadata": {
      "needs_background": "light"
     },
     "output_type": "display_data"
    }
   ],
   "source": [
    "def plot_image(image, title=None):\n",
    "    plt.title(title)\n",
    "    plt.imshow(image,\n",
    "               cmap = matplotlib.cm.binary,\n",
    "               interpolation=\"nearest\")\n",
    "\n",
    "def plot_random_image(image_list, label_list, org_size_list):\n",
    "    ''' \n",
    "        plotting a random image from the images with non-uniform illumination\n",
    "        first we generate a random index bounded by the non-uniform illumination images data length\n",
    "        then we get that image's original size\n",
    "        then we rescale that size using the golbally defined RESCALING FACTOR\n",
    "        then we reshape the random image using that rescaled shape\n",
    "        finally we plot the image\n",
    "    '''\n",
    "    if (len(image_list) == len(label_list) and len(label_list) == len(org_size_list)):\n",
    "        rand_idx = np.random.randint(low=0, high=len(image_list)-1)\n",
    "        org_size = org_size_list[rand_idx]\n",
    "        rescaled_shape = (int(org_size[0] * RESCALING_FACTOR), int(org_size[1] * RESCALING_FACTOR))\n",
    "        plot_image(image_list[rand_idx].reshape(rescaled_shape), \"Class \" + str(label_list[rand_idx]))\n",
    "    else:\n",
    "        return None\n",
    "\n",
    "fig = plt.figure(figsize=(20, 20))\n",
    "fig.add_subplot(1, 2, 1)\n",
    "plot_random_image(nonuni_images, nonuni_labels, nonuni_org_sizes)\n",
    "fig.add_subplot(1, 2, 2)\n",
    "plot_random_image(uni_images, uni_labels, uni_org_sizes)"
   ]
  },
  {
   "cell_type": "markdown",
   "metadata": {},
   "source": [
    "Now we just construct the data **X** and groundtruth **y** by just stacking the fetched images lists together and converting them to numpy arrays, as well as the labels lists.\n",
    "\n",
    "<a href=\"#1_1\" style=\"float: right\">Return to Beggining of Section</a>\n",
    "<br>\n",
    "<a href=\"#head\" style=\"float: right\">Return to Table of Contents</a>"
   ]
  },
  {
   "cell_type": "code",
   "execution_count": 8,
   "metadata": {},
   "outputs": [],
   "source": [
    "# constructing the dataset X (contains all images from class 0 and 1) and coreesponding groundtruth y\n",
    "X = np.array(uni_images + nonuni_images)\n",
    "y = np.array(uni_labels + nonuni_labels)"
   ]
  },
  {
   "cell_type": "markdown",
   "metadata": {},
   "source": [
    "Here I implement a function that returns a random permutation and set that so the data permutation can be consistent throughout the whole assignment.\n",
    "\n",
    "<a href=\"#1_1\" style=\"float: right\">Return to Beggining of Section</a>\n",
    "<br>\n",
    "<a href=\"#head\" style=\"float: right\">Return to Table of Contents</a>"
   ]
  },
  {
   "cell_type": "code",
   "execution_count": 9,
   "metadata": {},
   "outputs": [],
   "source": [
    "def get_random_permutation(n):\n",
    "    return np.random.permutation(n)\n",
    "\n",
    "p = get_random_permutation(len(X))"
   ]
  },
  {
   "cell_type": "markdown",
   "metadata": {},
   "source": [
    "Now I shuffle the data that will be used for ***task 1*** using the defined permutation **p**\n",
    "\n",
    "<a href=\"#1_1\" style=\"float: right\">Return to Beggining of Section</a>\n",
    "<br>\n",
    "<a href=\"#head\" style=\"float: right\">Return to Table of Contents</a>"
   ]
  },
  {
   "cell_type": "code",
   "execution_count": 10,
   "metadata": {},
   "outputs": [],
   "source": [
    "shuffled_X, shuffled_y = X[p], y[p]"
   ]
  },
  {
   "cell_type": "markdown",
   "metadata": {},
   "source": [
    "### <a name=\"1_1_3\">1.1.3 Splitting the data into train/dev/test sets</a>\n",
    "***\n",
    "- The first step is to split the data into separate training and testing sets, so that the training set is ***only*** used for training the model, and the testing set is ***only*** used for testing the model's generalization performance on **unseen** data points. <br>\n",
    "- I have chosen the **80/20** split, that means I will have 80% of the images for training and 20% of the images for testing. <br>\n",
    "- For the **validation set**, I am going to use a class in **sklearn** called **StratifiedKFold**, that simply takes the number of splits and splits the data into K folds using stratisfied technique, and then I will embedd this cross validation class into my learning model, so the training process will include cross validation implicitly. <br>\n",
    "- I will choose the number of splits as **10**, that means the training data will be divided into **10** parts, that is equivalent to setting the validation set to **10%** of the whole **training data**.\n",
    "\n",
    "<a href=\"#1_1\" style=\"float: right\">Return to Beggining of Section</a>\n",
    "<br>\n",
    "<a href=\"#head\" style=\"float: right\">Return to Table of Contents</a>"
   ]
  },
  {
   "cell_type": "code",
   "execution_count": 11,
   "metadata": {},
   "outputs": [
    {
     "name": "stdout",
     "output_type": "stream",
     "text": [
      "Number of examples in the training set is 180.\n",
      "Number of examples in the testing set is 45.\n"
     ]
    }
   ],
   "source": [
    "test_size = len(shuffled_X) // 5\n",
    "train_size = len(shuffled_X) - test_size\n",
    "X_train, X_test, y_train, y_test = shuffled_X[:train_size], shuffled_X[train_size:], shuffled_y[:train_size], shuffled_y[train_size:]\n",
    "assert len(X_train) == len(y_train)\n",
    "assert len(X_test) == len(y_test)\n",
    "print(\"Number of examples in the training set is {0}.\".format(len(X_train)))\n",
    "print(\"Number of examples in the testing set is {0}.\".format(len(X_test)))"
   ]
  },
  {
   "cell_type": "markdown",
   "metadata": {},
   "source": [
    "Initializing the Stratisfied K-flods geenrator to be used implicitly during training, then number of splits is 10 to split the training data into a 90/10 split when using validation set."
   ]
  },
  {
   "cell_type": "code",
   "execution_count": 12,
   "metadata": {},
   "outputs": [],
   "source": [
    "from sklearn.model_selection import StratifiedKFold\n",
    "\n",
    "skfold = StratifiedKFold(n_splits=10, shuffle=False)"
   ]
  },
  {
   "cell_type": "markdown",
   "metadata": {},
   "source": [
    "## <a name=\"1_2\">1.2 Binary Classifier</a>\n",
    "***\n",
    "- #### [1.2.1 Model selection and training](#1_2_1)\n",
    "- #### [1.2.2 Measuring perfomance metrics (accuracy, percision, recall, F1 score, and confusion matrix)](#1_2_2)\n",
    "- #### [1.2.3 Plotting ROC curve](#1_2_3)"
   ]
  },
  {
   "cell_type": "markdown",
   "metadata": {},
   "source": [
    "### <a name=\"1_2_1\">1.2.1 Model selection and training</a>\n",
    "***\n",
    "Here I am going to use LogisticRegressionCV class provided by **sklearn** to train it to predict the illumination class of the images ***(either non-uniform or uniform, 0 or 1 respectively)***. <br>\n",
    "The LogisticRegressionCV class takes ***cv*** as a parameter, and it is a cross-validation generator, it was already defined in the section [1.1.3](#1_1_3). <br>\n",
    "\n",
    "<a href=\"#1_2\" style=\"float: right\">Return to Beggining of Section</a>\n",
    "<br>\n",
    "<a href=\"#head\" style=\"float: right\">Return to Table of Contents</a>"
   ]
  },
  {
   "cell_type": "code",
   "execution_count": 13,
   "metadata": {},
   "outputs": [
    {
     "data": {
      "text/plain": [
       "LogisticRegressionCV(Cs=10, class_weight=None,\n",
       "                     cv=StratifiedKFold(n_splits=10, random_state=None, shuffle=False),\n",
       "                     dual=False, fit_intercept=True, intercept_scaling=1.0,\n",
       "                     l1_ratios=None, max_iter=40, multi_class='warn',\n",
       "                     n_jobs=None, penalty='l2', random_state=42, refit=True,\n",
       "                     scoring=None, solver='liblinear', tol=0.01, verbose=0)"
      ]
     },
     "execution_count": 13,
     "metadata": {},
     "output_type": "execute_result"
    }
   ],
   "source": [
    "from sklearn.linear_model import LogisticRegressionCV\n",
    "\n",
    "bin_clf = LogisticRegressionCV(max_iter=40, \n",
    "                               tol=0.01, \n",
    "                               cv=skfold, \n",
    "                               solver='liblinear', \n",
    "                               random_state=42)\n",
    "bin_clf.fit(X_train, y_train)"
   ]
  },
  {
   "cell_type": "markdown",
   "metadata": {},
   "source": [
    "### <a name=\"1_2_2\">1.2.2 Measuring perfomance metrics (accuracy, percision, recall, and confusion matrix)</a>\n",
    "***\n",
    "I am going to use **sklearn** predefined performance metrics to compute the perfomance of the trained model on both the **training** and **testing** sets.\n",
    "\n",
    "Here as we can see after training the model with **80%** of the data and setting a **10%** of this data as validation in the stratisfied cross validation process, it just fits the training data perfectly with no misclassifications at all, **100%** accuracy. <br>\n",
    "The next step is to test the classifier's performance on the testing data \"**unseen data**\".\n",
    "\n",
    "\n",
    "***The output of the performance metrics on the testing set may not be consisted as it will be affected by the permutation every time we run the jupyter notebook.*** <br>\n",
    "\n",
    "Here we can observe that the classifier's perfomance on the unseen data is very good, that also means that the model does generalize well from the training data. <br>\n",
    "But by observing the confusion matrix, we can say that the classifier sometimes confuses that non-uniform illumination images as uniform ones (false positives). <br>\n",
    "- **Accuracy:** Here is the accuracy is measured a little bit high **(>90%)**, which means that the logistic regression model is **accuracte on predicting true positives (uniform illuminations) and true negatives (non-uniform illumination)**, but this metric does not describe the false positive or false negatives at all, that is why we need to observe the precision and recall as well.\n",
    "- **Precision:** Here the precision is high as well, **(>90%)**, which means that whithin all the positives classifications (uniform illumination) our model made, there is more than 90% chance that these classifications are correct, and not false positives (non-uniform illumination), as we can observe from the confusion matrix, the number in the top right corner does contribute in the percision value.\n",
    "- **Recall:** Here the recall is **(>95%)**, which means that the model has a high true positive rate, which also means it rarely predict false negatives, which we can already observe from the confusion matrix, that the model has a very small number in the bottom left corner, which are the misclassifiction of the uniform illumination images as non-uniform illumination.\n",
    "\n",
    "<a href=\"#1_2\" style=\"float: right\">Return to Beggining of Section</a>\n",
    "<br>\n",
    "<a href=\"#head\" style=\"float: right\">Return to Table of Contents</a>"
   ]
  },
  {
   "cell_type": "code",
   "execution_count": 14,
   "metadata": {
    "scrolled": true
   },
   "outputs": [
    {
     "name": "stdout",
     "output_type": "stream",
     "text": [
      "Classifier scores on the whole training set: \n",
      "Accuracy is 1.0\n",
      "Precision is 1.0\n",
      "Recall is 1.0\n",
      "Confusion matrix: \n",
      " [[ 76   0]\n",
      " [  0 104]]\n",
      "---------------------------------------------------------\n",
      "Classifier scores on the testing set: \n",
      "Accuracy is 0.9777777777777777\n",
      "Precision is 0.96875\n",
      "Recall is 1.0\n",
      "Confusion matrix: \n",
      " [[13  1]\n",
      " [ 0 31]]\n"
     ]
    }
   ],
   "source": [
    "from sklearn.metrics import accuracy_score, precision_score, recall_score, f1_score, confusion_matrix\n",
    "\n",
    "y_train_pred = bin_clf.predict(X_train)\n",
    "train_conf_matrix = confusion_matrix(y_train, y_train_pred)\n",
    "print('Classifier scores on the whole training set: ')\n",
    "print(\"Accuracy is \" + str(accuracy_score(y_train, y_train_pred)))\n",
    "print(\"Precision is \" + str(precision_score(y_train, y_train_pred)))\n",
    "print(\"Recall is \" + str(recall_score(y_train, y_train_pred)))\n",
    "print(\"Confusion matrix: \\n \" + str(train_conf_matrix))\n",
    "\n",
    "print('---------------------------------------------------------')\n",
    "\n",
    "y_test_pred = bin_clf.predict(X_test)\n",
    "test_conf_matrix = confusion_matrix(y_test, y_test_pred)\n",
    "print('Classifier scores on the testing set: ')\n",
    "print(\"Accuracy is \" + str(accuracy_score(y_test, y_test_pred)))\n",
    "print(\"Precision is \" + str(precision_score(y_test, y_test_pred)))\n",
    "print(\"Recall is \" + str(recall_score(y_test, y_test_pred)))\n",
    "print(\"Confusion matrix: \\n \" + str(test_conf_matrix))"
   ]
  },
  {
   "cell_type": "markdown",
   "metadata": {},
   "source": [
    "### <a name=\"1_2_3\">1.2.3 Plotting ROC curve</a>\n",
    "***\n",
    "I am going to use **sklearn** predefined ROC curve function to plot the relationship between the **True Positive rate** and the **False Positive rate** on the classifier predictions on the testing set.\n",
    "\n",
    "As we can observe here from the ROC curve, the more the curve is near to the top left corner, the more it performs better, so our trained model performs very well on the testing set. <br>\n",
    "This plot can get better if we have more data points to train our model to.\n",
    "\n",
    "<a href=\"#1_2\" style=\"float: right\">Return to Beggining of Section</a>\n",
    "<br>\n",
    "<a href=\"#head\" style=\"float: right\">Return to Table of Contents</a>"
   ]
  },
  {
   "cell_type": "code",
   "execution_count": 15,
   "metadata": {},
   "outputs": [
    {
     "data": {
      "image/png": "[encoded data removed]",
      "text/plain": [
       "<Figure size 432x360 with 1 Axes>"
      ]
     },
     "metadata": {
      "needs_background": "light"
     },
     "output_type": "display_data"
    }
   ],
   "source": [
    "from sklearn.metrics import roc_curve\n",
    "\n",
    "def plot_roc_curve(fpr, tpr, label=None):\n",
    "    plt.plot(fpr, tpr, linewidth=5, label=label)\n",
    "    plt.plot([0, 1], [0, 1], 'k--')\n",
    "    plt.axis([0, 1, 0, 1])\n",
    "    plt.xlabel('False Positive Rate', fontsize=16)\n",
    "    plt.ylabel('True Positive Rate', fontsize=16)\n",
    "\n",
    "fpr, tpr, thresholds = roc_curve(y_test, y_test_pred)\n",
    "plt.figure(figsize=(6, 5))\n",
    "plot_roc_curve(fpr, tpr)"
   ]
  },
  {
   "cell_type": "markdown",
   "metadata": {},
   "source": [
    "## <a name=\"1_3\">1.3 Multiclass Classifier</a>\n",
    "***\n",
    "- #### [1.3.1 Preparing the classification data](#1_3_1)\n",
    "- #### [1.3.2 Model selection and training](#1_3_2)\n",
    "- #### [1.3.3 Measuring perfomance metrics (accuracy and confusion matrix)](#1_3_3)"
   ]
  },
  {
   "cell_type": "markdown",
   "metadata": {},
   "source": [
    "### <a name=\"1_3_1\">1.3.1 Preparing the classification data</a>\n",
    "***\n",
    "Here I am going to use the function discussed in the [first section](#1_1) for fetching and labelling the data for the new classification task. <br>\n",
    "The data must be collected and grouped into three different classes:\n",
    "- Overexposed illumniation | **Class 0**  \n",
    "- Underexposed illumniation | **Class 1**\n",
    "- Regular illumniation (non-uniform and uniform with F-stop equals to 0) | **Class 2**\n",
    "\n",
    "<a href=\"#1_3\" style=\"float: right\">Return to beggining of section</a>\n",
    "<br>\n",
    "<a href=\"#head\" style=\"float: right\">Return to table of contents</a>"
   ]
  },
  {
   "cell_type": "code",
   "execution_count": 16,
   "metadata": {},
   "outputs": [
    {
     "name": "stdout",
     "output_type": "stream",
     "text": [
      "Number of examples in over-exposed illumination pictures is 60\n",
      "Number of examples in under-exposed illumination pictures is 60\n",
      "Number of examples in regular illumination pictures is 105\n"
     ]
    }
   ],
   "source": [
    "# fetching non-uniform illumination images by searching for the \"nonuni\" keyword in the images' filenames \n",
    "overexp_images, overexp_org_sizes = get_images_by_keywords(grayscale_data, OVEREXPOSED_KEYWORDS)\n",
    "overexp_labels = generate_labels_list(len(overexp_images), 0)\n",
    "\n",
    "# fetching non-uniform illumination images by searching for the \"nonuni\" keyword in the images' filenames \n",
    "underexp_images, underexp_org_sizes = get_images_by_keywords(grayscale_data, UNDEREXPOSED_KEYWORDS)\n",
    "underexp_labels = generate_labels_list(len(underexp_images), 1)\n",
    "\n",
    "# fetching non-uniform illumination images by searching for the \"nonuni\" keyword in the images' filenames \n",
    "reg_images, reg_org_sizes = get_images_by_keywords(grayscale_data, REGULAR_KEYWORDS)\n",
    "reg_labels = generate_labels_list(len(reg_images), 2)\n",
    "\n",
    "# fetching non-uniform illumination images by searching for the \"nonuni\" keyword in the images' filenames \n",
    "nonuni_images, nonuni_org_sizes = get_images_by_keywords(grayscale_data, NONUNI_KEYWORDS)\n",
    "nonuni_labels = generate_labels_list(len(nonuni_images), 2)\n",
    "\n",
    "# defining length of the data\n",
    "overexp_len = len(overexp_images)\n",
    "underexp_len = len(underexp_images)\n",
    "reg_len = len(reg_images) + len(nonuni_images)\n",
    "print(\"Number of examples in over-exposed illumination pictures is {0}\".format(overexp_len))\n",
    "print(\"Number of examples in under-exposed illumination pictures is {0}\".format(underexp_len))\n",
    "print(\"Number of examples in regular illumination pictures is {0}\".format(reg_len))"
   ]
  },
  {
   "cell_type": "code",
   "execution_count": 17,
   "metadata": {},
   "outputs": [
    {
     "name": "stdout",
     "output_type": "stream",
     "text": [
      "Number of examples in the training set is 180.\n",
      "Number of examples in the testing set is 45.\n"
     ]
    }
   ],
   "source": [
    "'''\n",
    "    Constructing the input data (X) and the groundtruth (y)\n",
    "'''\n",
    "X = np.asarray(overexp_images + underexp_images + reg_images + nonuni_images)\n",
    "y = np.asarray(overexp_labels + underexp_labels + reg_labels + nonuni_labels)\n",
    "\n",
    "'''\n",
    "    Shuffling the data with the same predefined permutation in section 1.1.2\n",
    "'''\n",
    "shuffled_X, shuffled_y = X[p], y[p]\n",
    "\n",
    "'''\n",
    "    Splitting the data the same split as in section 1.1.3\n",
    "'''\n",
    "test_size = len(shuffled_X) // 5\n",
    "train_size = len(shuffled_X) - test_size\n",
    "X_train, X_test, y_train, y_test = shuffled_X[:train_size], shuffled_X[train_size:], shuffled_y[:train_size], shuffled_y[train_size:]\n",
    "assert len(X_train) == len(y_train)\n",
    "assert len(X_test) == len(y_test)\n",
    "print(\"Number of examples in the training set is {0}.\".format(len(X_train)))\n",
    "print(\"Number of examples in the testing set is {0}.\".format(len(X_test)))"
   ]
  },
  {
   "cell_type": "markdown",
   "metadata": {},
   "source": [
    "### <a name=\"1_3_2\">1.3.2 Model selection and training</a>\n",
    "* * *\n",
    "Here I've used the same Logistic Regression use in [section 1.2](#1_2) model as my classifier, and will compare two **multiclass** classifiers performances:\n",
    "- **OneVsOne**.\n",
    "- **OneVsRest**.\n",
    "\n",
    "<a href=\"#1_3\" style=\"float: right\">Return to beggining of section</a>\n",
    "<br>\n",
    "<a href=\"#head\" style=\"float: right\">Return to table of contents</a>"
   ]
  },
  {
   "cell_type": "code",
   "execution_count": 18,
   "metadata": {},
   "outputs": [
    {
     "data": {
      "text/plain": [
       "OneVsRestClassifier(estimator=LogisticRegressionCV(Cs=10, class_weight=None,\n",
       "                                                   cv=StratifiedKFold(n_splits=10, random_state=None, shuffle=False),\n",
       "                                                   dual=False,\n",
       "                                                   fit_intercept=True,\n",
       "                                                   intercept_scaling=1.0,\n",
       "                                                   l1_ratios=None, max_iter=40,\n",
       "                                                   multi_class='warn',\n",
       "                                                   n_jobs=None, penalty='l2',\n",
       "                                                   random_state=42, refit=True,\n",
       "                                                   scoring=None,\n",
       "                                                   solver='liblinear', tol=0.01,\n",
       "                                                   verbose=0),\n",
       "                    n_jobs=None)"
      ]
     },
     "execution_count": 18,
     "metadata": {},
     "output_type": "execute_result"
    }
   ],
   "source": [
    "from sklearn.multiclass import OneVsOneClassifier, OneVsRestClassifier\n",
    "\n",
    "# Defining the LogisticRegression classifier\n",
    "multi_clf = LogisticRegressionCV(max_iter=40, tol=0.01, cv=skfold, solver='liblinear', random_state=42)\n",
    "########################################\n",
    "# OneVsOne training\n",
    "ovo_clf = OneVsOneClassifier(multi_clf)\n",
    "ovo_clf.fit(X_train, y_train)\n",
    "########################################\n",
    "# OneVsRest training\n",
    "ovr_clf = OneVsRestClassifier(multi_clf)\n",
    "ovr_clf.fit(X_train, y_train)"
   ]
  },
  {
   "cell_type": "markdown",
   "metadata": {},
   "source": [
    "### <a name=\"1_3_3\">1.3.3 Measuring perfomance metrics (accuracy and confusion matrix)</a>\n",
    "* * *\n",
    "Here we can observe that the **OneVsOne** classifier has perfected the training set by getting **100%** accuracy score, and no misclassifications in the confusion matrix.\n",
    "\n",
    "***The output of the performance metrics on the testing set will be affected slightly by the permutation every time we run the jupyter notebook.*** <br>\n",
    "\n",
    "\n",
    "But it doesn't seem to generalize its knowledge well to the testing set using the **OneVsOne** classifier, as the accuracy drops from **100%** in training set to **(82%-88%)**. <br>\n",
    "This means that our models did not have enough training data and does not generalize well to the testing data **(unseen during training)**. The small size of the dataset contributes in that accuracy decay so much. <br>\n",
    "\n",
    "By observing the confusion matrix for the testing set, we can conclude the following: <br>\n",
    "- Some of the overexposed images are sometimes misclassified as regular images. That may be happening because of a presence of ambiguity between the difference in those images. But overexposed images are never misclassified as underexposed.\n",
    "- Some of the underexposed images are sometimes as well misclassified as regular images. That may be happening because of the same reason as the overexposed images. But underexposed images are never misclassified as overexposed. \n",
    "- Some of regular images are sometimes classified as either overexposed or underexposed.\n",
    "\n",
    "<a href=\"#1_3\" style=\"float: right\">Return to beggining of section</a>\n",
    "<br>\n",
    "<a href=\"#head\" style=\"float: right\">Return to table of contents</a>"
   ]
  },
  {
   "cell_type": "code",
   "execution_count": 19,
   "metadata": {
    "scrolled": true
   },
   "outputs": [
    {
     "name": "stdout",
     "output_type": "stream",
     "text": [
      "Classifier scores on the whole training set: \n",
      "Training Accuracy is 1.0 \n",
      "Training Confusion matrix: \n",
      " [[44  0  0]\n",
      " [ 0 48  0]\n",
      " [ 0  0 88]]\n",
      "-------------------------------------------------\n",
      "Classifier scores on the testing set: \n",
      "Testing Accuracy is 0.8444444444444444 \n",
      "Confusion matrix: \n",
      " [[13  0  3]\n",
      " [ 0 10  2]\n",
      " [ 2  0 15]]\n"
     ]
    }
   ],
   "source": [
    "y_train_pred = ovo_clf.predict(X_train)\n",
    "train_conf_matrix = confusion_matrix(y_train, y_train_pred)\n",
    "ovo_train_acc = accuracy_score(y_train, y_train_pred)\n",
    "print('Classifier scores on the whole training set: ')\n",
    "print('Training Accuracy is {0} '.format(ovo_train_acc))\n",
    "print('Training Confusion matrix: \\n {0}'.format(train_conf_matrix))\n",
    "\n",
    "print('-------------------------------------------------')\n",
    "\n",
    "y_test_pred = ovo_clf.predict(X_test)\n",
    "test_conf_matrix = confusion_matrix(y_test, y_test_pred)\n",
    "ovo_test_acc = accuracy_score(y_test, y_test_pred)\n",
    "print('Classifier scores on the testing set: ')\n",
    "print('Testing Accuracy is {0} '.format(ovo_test_acc))\n",
    "print('Confusion matrix: \\n {0}'.format(test_conf_matrix))"
   ]
  },
  {
   "cell_type": "markdown",
   "metadata": {},
   "source": [
    "It seems that the **OneVsRest** classifier fits the training data perfectly as well. But let's inspect its performance on the testing data.\n",
    "\n",
    "But it doesn't seem to generalize its knowledge to the testing set using the **OneVsRest** classifier, as the accuracy drops from **100%** to **84%-88%**, but it performs slightly better than the **OneVsOne** classifier. <br>\n",
    "This means that our models lacks the training data and does not generalize well to the testing data. Also the dataset's small size contributes to the decrease in the accuracy. <br>\n",
    "\n",
    "By observing the confusion matrix for the testing set, we can conclude the following: <br>\n",
    "- Some of the overexposed images are sometimes misclassified as regular images. That may be happening because of a presence of ambiguity between the difference in those images. But overexposed images are never misclassified as underexposed.\n",
    "- Some of the underexposed images are sometimes as well misclassified as regular images. That may be happening because of the same reason as the overexposed images. But underexposed images are never misclassified as overexposed. \n",
    "- Some of regular images are sometimes classified as either overexposed or underexposed.\n",
    "\n",
    "These observations may be the same as for the **OneVsOne** classifier.\n",
    "\n",
    "<a href=\"#1_3\" style=\"float: right\">Return to beggining of section</a>\n",
    "<br>\n",
    "<a href=\"#head\" style=\"float: right\">Return to table of contents</a>"
   ]
  },
  {
   "cell_type": "code",
   "execution_count": 20,
   "metadata": {},
   "outputs": [
    {
     "name": "stdout",
     "output_type": "stream",
     "text": [
      "Classifier scores on the whole training set: \n",
      "Training Accuracy is 1.0 \n",
      "Training Confusion matrix: \n",
      " [[44  0  0]\n",
      " [ 0 48  0]\n",
      " [ 0  0 88]]\n",
      "-------------------------------------------------\n",
      "Classifier scores on the testing set: \n",
      "Testing Accuracy is 0.8444444444444444 \n",
      "Confusion matrix: \n",
      " [[13  0  3]\n",
      " [ 0 11  1]\n",
      " [ 2  1 14]]\n"
     ]
    }
   ],
   "source": [
    "y_train_pred = ovr_clf.predict(X_train)\n",
    "train_conf_matrix = confusion_matrix(y_train, y_train_pred)\n",
    "ovo_train_acc = accuracy_score(y_train, y_train_pred)\n",
    "print('Classifier scores on the whole training set: ')\n",
    "print('Training Accuracy is {0} '.format(ovo_train_acc))\n",
    "print('Training Confusion matrix: \\n {0}'.format(train_conf_matrix))\n",
    "\n",
    "print('-------------------------------------------------')\n",
    "\n",
    "y_test_pred = ovr_clf.predict(X_test)\n",
    "test_conf_matrix = confusion_matrix(y_test, y_test_pred)\n",
    "ovo_test_acc = accuracy_score(y_test, y_test_pred)\n",
    "print('Classifier scores on the testing set: ')\n",
    "print('Testing Accuracy is {0} '.format(ovo_test_acc))\n",
    "print('Confusion matrix: \\n {0}'.format(test_conf_matrix))"
   ]
  },
  {
   "cell_type": "markdown",
   "metadata": {},
   "source": [
    "## <a name=\"1_4\">1.4 Improved Classification of Colour Images (Bonus) | (100%) accuracy </a>\n",
    "***\n",
    "- #### [1.4.1 Testing the model from **1.3** with external images](#1_4_1)\n",
    "- #### [1.4.2 Preparing the classification color data](#1_4_2)\n",
    "- #### [1.4.3 Feature selection and extraction](#1_4_3)\n",
    "- #### [1.4.4 Model selection and training](#1_4_4)\n",
    "- #### [1.4.5 Measuring perfomance metrics (accuracy and confusion matrix)](#1_4_5)"
   ]
  },
  {
   "cell_type": "markdown",
   "metadata": {},
   "source": [
    "### <a name=\"1_4_1\">1.4.1 Testing the model from 1.3 with external images</a>\n",
    "***\n",
    "Here I am going to use the model trained from exercise [1.3](1_3) with images not in the main dataset. <br>\n",
    "These images are randomly selected from the internet, and are not from the same distribution as the training or testing sets.\n",
    "\n",
    "Source of the overexposed image: https://photo.stackexchange.com/questions/67848/why-are-all-my-photos-overexposed <br>\n",
    "Source of the underexposed image: https://www.flickr.com/photos/32451477@N02/7374864048 <br>\n",
    "Source of regular image: https://www.rte.ie/news/2015/1126/749334-alcohol-ads/ <br>\n",
    "\n",
    "<a href=\"#1_4\" style=\"float: right\">Return to beggining of section</a>\n",
    "<br>\n",
    "<a href=\"#head\" style=\"float: right\">Return to table of contents</a>"
   ]
  },
  {
   "cell_type": "code",
   "execution_count": 21,
   "metadata": {},
   "outputs": [
    {
     "name": "stderr",
     "output_type": "stream",
     "text": [
      "c:\\users\\administrator\\anaconda3\\envs\\ottawa\\lib\\site-packages\\skimage\\transform\\_warps.py:23: UserWarning: The default multichannel argument (None) is deprecated.  Please specify either True or False explicitly.  multichannel will default to False starting with release 0.16.\n",
      "  warn('The default multichannel argument (None) is deprecated.  Please '\n"
     ]
    },
    {
     "data": {
      "image/png": "[encoded data removed]",
      "text/plain": [
       "<Figure size 1224x1224 with 3 Axes>"
      ]
     },
     "metadata": {
      "needs_background": "light"
     },
     "output_type": "display_data"
    }
   ],
   "source": [
    "# Reading the data\n",
    "external_data_filenames = get_files_within_dir('test_images', '.jpg')\n",
    "external_data = read_images_from_files(external_data_filenames, 1., rgb=True, flatten=False)\n",
    "external_images = []\n",
    "\n",
    "# Resizing the data\n",
    "for image, _, _ in external_data:\n",
    "    image = skimage.transform.resize(image, (68, 102))\n",
    "    external_images.append(image)\n",
    "    \n",
    "# Defining each image class\n",
    "overexp_image = external_images[0]\n",
    "reg_image = external_images[1]\n",
    "underexp_image = external_images[2]\n",
    "\n",
    "# Plotting them for visualization\n",
    "fig = plt.figure(figsize=(17, 17))\n",
    "fig.add_subplot(1, 3, 1)\n",
    "plot_image(underexp_image, title=\"underexposed\")\n",
    "fig.add_subplot(1, 3, 2)\n",
    "plot_image(overexp_image, title=\"overexposed\")\n",
    "fig.add_subplot(1, 3, 3)\n",
    "plot_image(reg_image, title=\"regular\")"
   ]
  },
  {
   "cell_type": "markdown",
   "metadata": {},
   "source": [
    "Here I am going to use the **OneVsOne** trained in [section 1.3](1_3_2) classifier to test these random images.\n",
    "\n",
    "<a href=\"#1_4\" style=\"float: right\">Return to beggining of section</a>\n",
    "<br>\n",
    "<a href=\"#head\" style=\"float: right\">Return to table of contents</a>"
   ]
  },
  {
   "cell_type": "code",
   "execution_count": 22,
   "metadata": {},
   "outputs": [
    {
     "name": "stdout",
     "output_type": "stream",
     "text": [
      "The OvO classifier classified the overexposed image right!\n",
      "-------------------------------------------------------------------\n",
      "The OvO classifier classified the underexposed image right!\n",
      "-------------------------------------------------------------------\n",
      "The OvO classifier made a mistake when classifying the regular image!\n",
      "Expected [2] and got [0]\n"
     ]
    }
   ],
   "source": [
    "for i, image, y_expected, label in [(0, overexp_image, [0], \"overexposed\"),\n",
    "                                    (1, underexp_image, [1], \"underexposed\"), \n",
    "                                    (2, reg_image, [2], \"regular\")]:\n",
    "    y_pred = ovo_clf.predict([skimage.color.rgb2gray(image).flatten()])\n",
    "    if (y_expected == y_pred):\n",
    "        print(\"The OvO classifier classified the {0} image right!\".format(label))\n",
    "    else:\n",
    "        print(\"The OvO classifier made a mistake when classifying the {0} image!\".format(label))\n",
    "        print(\"Expected {0} and got {1}\".format(y_expected, y_pred))\n",
    "    if i != 2:\n",
    "        print('-------------------------------------------------------------------')"
   ]
  },
  {
   "cell_type": "markdown",
   "metadata": {},
   "source": [
    "This misclassification is expected as the testing images are not from the same distribution as the dataset. <br> \n",
    "As the training dataset is very small to make the classifier generalize very well on all differenet illumination classes. <br> \n",
    "Also in the confusion matrix, always the classifier seems to classify the 3rd class in a wrong way\n",
    "\n",
    "<a href=\"#1_4\" style=\"float: right\">Return to beggining of section</a>\n",
    "<br>\n",
    "<a href=\"#head\" style=\"float: right\">Return to table of contents</a>"
   ]
  },
  {
   "cell_type": "markdown",
   "metadata": {},
   "source": [
    "### <a name=\"1_4_2\">1.4.2 Preparing the classification color data</a>\n",
    "***\n",
    "Here I am going to use the function discussed in the [first section 1.1](#1_1) for fetching and labelling the data for the new classification task using color images. <br>\n",
    "The data must be collected and grouped into three different classes:\n",
    "- Overexposed illumniation | **Class 0**  \n",
    "- Underexposed illumniation | **Class 1**\n",
    "- Rgular illumniation (non-uniform and uniform with F-score equals to 0) | **Class 2**\n",
    "\n",
    "<a href=\"#1_4\" style=\"float: right\">Return to beggining of section</a>\n",
    "<br>\n",
    "<a href=\"#head\" style=\"float: right\">Return to table of contents</a>"
   ]
  },
  {
   "cell_type": "code",
   "execution_count": 23,
   "metadata": {},
   "outputs": [
    {
     "name": "stderr",
     "output_type": "stream",
     "text": [
      "c:\\users\\administrator\\anaconda3\\envs\\ottawa\\lib\\site-packages\\skimage\\transform\\_warps.py:23: UserWarning: The default multichannel argument (None) is deprecated.  Please specify either True or False explicitly.  multichannel will default to False starting with release 0.16.\n",
      "  warn('The default multichannel argument (None) is deprecated.  Please '\n"
     ]
    }
   ],
   "source": [
    "color_images = get_all_images(DATASET_DIRNAME, RESCALING_FACTOR, RGB=True, flatten=False)"
   ]
  },
  {
   "cell_type": "code",
   "execution_count": 24,
   "metadata": {},
   "outputs": [
    {
     "name": "stdout",
     "output_type": "stream",
     "text": [
      "Number of examples in over-exposed illumination pictures is 60\n",
      "Number of examples in under-exposed illumination pictures is 60\n",
      "Number of examples in regular illumination pictures is 105\n"
     ]
    }
   ],
   "source": [
    "# fetching overexposed illumination images by searching for the \"plus\" keyword in the images' filenames \n",
    "overexp_images, overexp_org_sizes = get_images_by_keywords(color_images, OVEREXPOSED_KEYWORDS)\n",
    "overexp_labels = generate_labels_list(len(overexp_images), 0)\n",
    "\n",
    "# fetching underexposed illumination images by searching for the \"minus\" keyword in the images' filenames \n",
    "underexp_images, underexp_org_sizes = get_images_by_keywords(color_images, UNDEREXPOSED_KEYWORDS)\n",
    "underexp_labels = generate_labels_list(len(underexp_images), 1)\n",
    "\n",
    "# fetching regular illumination images by searching for the \"uni\" and \"0\" (that indicats the F-stop) keyword in the images' filenames \n",
    "reg_images, reg_org_sizes = get_images_by_keywords(color_images, REGULAR_KEYWORDS)\n",
    "reg_labels = generate_labels_list(len(reg_images), 2)\n",
    "\n",
    "# fetching non-uniform illumination images by searching for the \"nonuni\" keyword in the images' filenames \n",
    "nonuni_images, nonuni_org_sizes = get_images_by_keywords(color_images, NONUNI_KEYWORDS)\n",
    "nonuni_labels = generate_labels_list(len(nonuni_images), 2)\n",
    "\n",
    "# defining length of the data\n",
    "overexp_len = len(overexp_images)\n",
    "underexp_len = len(underexp_images)\n",
    "reg_len = len(reg_images) + len(nonuni_images)\n",
    "print(\"Number of examples in over-exposed illumination pictures is {0}\".format(overexp_len))\n",
    "print(\"Number of examples in under-exposed illumination pictures is {0}\".format(underexp_len))\n",
    "print(\"Number of examples in regular illumination pictures is {0}\".format(reg_len))"
   ]
  },
  {
   "cell_type": "markdown",
   "metadata": {},
   "source": [
    "### <a name=\"1_4_3\">1.4.3 Feature selection and extraction</a>\n",
    "***\n",
    "By considering the **classical computer vision pipeline**, we can conclude that we will need to extract representative features of the color images and train a classifier to these features, instead of infereing the image as a whole directly to the classifier during either training or testing. <br>\n",
    "For this task, I have chosen the color histogram as a feature to extract from the image and train my classifier on that feature. <br>\n",
    "\n",
    "#### Color Histogram Extraction:\n",
    "- As I am going to use color images as my training data, I am going to extract color histograms from images, and treat these histograms as the features to be inferred into the multiclass classifier.\n",
    "- Each image has 3 channels (RGB), so I am going to extract a histogram for each of these channels.\n",
    "- The color histogram features are very useful in that task as they represent the distribution of color intensities accross all the image pixels.\n",
    "- **skimage** reads the images and store each pixel value as a floating point value between 0 and 1.\n",
    "- Using **numpy**'s **histogram** function, it takes the following:\n",
    "    - The array that I need to compute its histogram.\n",
    "    - The range of values inspected, which in our case will be from 0 to 1\n",
    "    - The number of bins to represent the data, if we chose a big number of bins, it will result in more information about the pixel data, and the less the bins number, the less information we extract, I will be choosing 128 as the number of bins to represent my histogram\n",
    "- Now to extract the features from the image I need to do the following:\n",
    "    - Iterate over all the images\n",
    "    - The image's shape should be (w, h, 3)\n",
    "    - For each image, extract its channels, R channel, G channel and B channel separately\n",
    "    - After extracting each channel's data, I will have three new arrays, each will have a shape of (w, h) only\n",
    "    - For each of the three image channels, calculate its histogram using **np.histogram** function\n",
    "    - Now I will have three different arrays, each of shape (bins) which is already specified by 128\n",
    "    - Now I will stack these arrays after each other, so I will get a new arary of shape (bins * 3) which is in our case (128 * 3) -> (384)\n",
    "    - Save that array as the image's extracted color histogram data\n",
    "- Now we have to process all the image in the training set that way for training\n",
    "- For the testing phase (inference), we will need to transform each image to its histogram equivalent as well before giving it as an input to the trained model\n",
    "    \n",
    "\n",
    "<a href=\"#1_4\" style=\"float: right\">Return to beggining of section</a>\n",
    "<br>\n",
    "<a href=\"#head\" style=\"float: right\">Return to table of contents</a>"
   ]
  },
  {
   "cell_type": "code",
   "execution_count": 25,
   "metadata": {},
   "outputs": [],
   "source": [
    "def extract_rgb_image_hist(images, bins=512):\n",
    "    '''\n",
    "        This function takes a list of images and returns a list of the images' equivalent extracted histogram data\n",
    "        \n",
    "        params: \n",
    "            List[np.ndarray] -> (image.shape == (w, h, 3))\n",
    "        return:\n",
    "            List[np.ndarray] -> (histogram.shape == (bins * 3))\n",
    "    '''\n",
    "    histograms = []\n",
    "    for image in images:\n",
    "        r_hist, _ = np.histogram(image[:, :, 0], bins=bins, range=(0., 1.))\n",
    "        g_hist, _ = np.histogram(image[:, :, 1], bins=bins, range=(0., 1.))\n",
    "        b_hist, _ = np.histogram(image[:, :, 2], bins=bins, range=(0., 1.))\n",
    "        hist = np.array(r_hist.tolist() + g_hist.tolist() + b_hist.tolist())\n",
    "        histograms.append(hist)\n",
    "    return np.asarray(histograms)"
   ]
  },
  {
   "cell_type": "code",
   "execution_count": 26,
   "metadata": {},
   "outputs": [
    {
     "name": "stdout",
     "output_type": "stream",
     "text": [
      "Number of examples in the training set is 180.\n",
      "Number of examples in the testing set is 45.\n"
     ]
    }
   ],
   "source": [
    "'''\n",
    "    Constructing the input data (X) and the groundtruth data (y) using the prede\n",
    "'''\n",
    "X_hist = extract_rgb_image_hist(np.asarray(overexp_images + underexp_images + reg_images + nonuni_images), bins=512)\n",
    "y_hist = np.asarray(overexp_labels + underexp_labels + reg_labels + nonuni_labels)\n",
    "\n",
    "'''\n",
    "    Shuffling the data with the same predefined permutation in section 1.1.2\n",
    "'''\n",
    "shuffled_X, shuffled_y = X_hist[p], y_hist[p]\n",
    "\n",
    "'''\n",
    "    Splitting the data according to the process described in section 1.1.3\n",
    "'''\n",
    "test_size = len(shuffled_X) // 5\n",
    "train_size = len(shuffled_X) - test_size\n",
    "X_train, X_test, y_train, y_test = shuffled_X[:train_size], shuffled_X[train_size:], shuffled_y[:train_size], shuffled_y[train_size:]\n",
    "assert len(X_train) == len(y_train)\n",
    "assert len(X_test) == len(y_test)\n",
    "print(\"Number of examples in the training set is {0}.\".format(len(X_train)))\n",
    "print(\"Number of examples in the testing set is {0}.\".format(len(X_test)))"
   ]
  },
  {
   "cell_type": "markdown",
   "metadata": {},
   "source": [
    "### <a name=\"1_4_4\">1.4.4 Model selection and training</a>\n",
    "***\n",
    "Here I am going to use both the **OneVsOne** and **OneVsRest** as classifier for the training process.\n",
    "\n",
    "<a href=\"#1_4\" style=\"float: right\">Return to beggining of section</a>\n",
    "<br>\n",
    "<a href=\"#head\" style=\"float: right\">Return to table of contents</a>"
   ]
  },
  {
   "cell_type": "code",
   "execution_count": 27,
   "metadata": {},
   "outputs": [
    {
     "data": {
      "text/plain": [
       "OneVsRestClassifier(estimator=LogisticRegressionCV(Cs=10, class_weight=None,\n",
       "                                                   cv=StratifiedKFold(n_splits=10, random_state=None, shuffle=False),\n",
       "                                                   dual=False,\n",
       "                                                   fit_intercept=True,\n",
       "                                                   intercept_scaling=1.0,\n",
       "                                                   l1_ratios=None, max_iter=40,\n",
       "                                                   multi_class='warn',\n",
       "                                                   n_jobs=None, penalty='l2',\n",
       "                                                   random_state=42, refit=True,\n",
       "                                                   scoring=None,\n",
       "                                                   solver='liblinear', tol=0.01,\n",
       "                                                   verbose=0),\n",
       "                    n_jobs=None)"
      ]
     },
     "execution_count": 27,
     "metadata": {},
     "output_type": "execute_result"
    }
   ],
   "source": [
    "# OneVsOne\n",
    "ovo_clf = OneVsOneClassifier(LogisticRegressionCV(max_iter=40, tol=0.01, cv=skfold, solver='liblinear', random_state=42))\n",
    "ovo_clf.fit(X_train, y_train)\n",
    "#############################\n",
    "# OneVsRest\n",
    "ovr_clf = OneVsRestClassifier(LogisticRegressionCV(max_iter=40, tol=0.01, cv=skfold, solver='liblinear', random_state=42))\n",
    "ovr_clf.fit(X_train, y_train)"
   ]
  },
  {
   "cell_type": "markdown",
   "metadata": {},
   "source": [
    "### <a name=\"1_4_5\">1.4.5 Measuring performance metrics (accuracy and confusion matrix)</a>\n",
    "***\n",
    "As we can see the following blocks, the color histogram features extraction resulted in perfection **100%** in performance metrics either using the **OneVsOne** or the **OneVsRest** classifier. <br>\n",
    "That means that the color histograms are very rich and descriptive features when it comes to classify exposure/contrast/brightness of images. <br>\n",
    "It means also the the small size of the data did not affect the model's performance and generalization on the **unseen data** of the testing set.\n",
    "\n",
    "<a href=\"#1_4\" style=\"float: right\">Return to beggining of section</a>\n",
    "<br>\n",
    "<a href=\"#head\" style=\"float: right\">Return to table of contents</a>"
   ]
  },
  {
   "cell_type": "code",
   "execution_count": 28,
   "metadata": {},
   "outputs": [
    {
     "name": "stdout",
     "output_type": "stream",
     "text": [
      "Classifier scores on the whole training set: \n",
      "Accuracy is 1.0 \n",
      "Confusion matrix: \n",
      " [[44  0  0]\n",
      " [ 0 48  0]\n",
      " [ 0  0 88]]\n",
      "------------------------------------------------------\n",
      "Classification Report for training set:\n",
      "              precision    recall  f1-score   support\n",
      "\n",
      " overexposed       1.00      1.00      1.00        44\n",
      "underexposed       1.00      1.00      1.00        48\n",
      "     regular       1.00      1.00      1.00        88\n",
      "\n",
      "    accuracy                           1.00       180\n",
      "   macro avg       1.00      1.00      1.00       180\n",
      "weighted avg       1.00      1.00      1.00       180\n",
      "\n",
      "#######################################################\n",
      "Classifier scores on the testing set: \n",
      "Accuracy is 1.0 \n",
      "Confusion matrix: \n",
      " [[16  0  0]\n",
      " [ 0 12  0]\n",
      " [ 0  0 17]]\n",
      "------------------------------------------------------\n",
      "Classification Report for Testing set:\n",
      "              precision    recall  f1-score   support\n",
      "\n",
      " overexposed       1.00      1.00      1.00        44\n",
      "underexposed       1.00      1.00      1.00        48\n",
      "     regular       1.00      1.00      1.00        88\n",
      "\n",
      "    accuracy                           1.00       180\n",
      "   macro avg       1.00      1.00      1.00       180\n",
      "weighted avg       1.00      1.00      1.00       180\n",
      "\n"
     ]
    }
   ],
   "source": [
    "from sklearn.metrics import classification_report\n",
    "\n",
    "target_names = [\"overexposed\", \"underexposed\", \"regular\"]\n",
    "\n",
    "y_train_pred = ovo_clf.predict(X_train)\n",
    "ovo_train_conf_mat = confusion_matrix(y_train, y_train_pred)\n",
    "print('Classifier scores on the whole training set: ')\n",
    "print('Accuracy is {0} '.format(accuracy_score(y_train, y_train_pred)))\n",
    "print('Confusion matrix: \\n {0}'.format(ovo_train_conf_mat))\n",
    "print('------------------------------------------------------')\n",
    "\n",
    "print(\"Classification Report for training set:\")\n",
    "print(classification_report(y_train, y_train_pred, target_names=target_names))\n",
    "\n",
    "print('#######################################################')\n",
    "\n",
    "y_test_pred = ovo_clf.predict(X_test)\n",
    "ovo_test_conf_mat = confusion_matrix(y_test, y_test_pred)\n",
    "print('Classifier scores on the testing set: ')\n",
    "print('Accuracy is {0} '.format(accuracy_score(y_test, y_test_pred)))\n",
    "print('Confusion matrix: \\n {0}'.format(ovo_test_conf_mat))\n",
    "\n",
    "print('------------------------------------------------------')\n",
    "\n",
    "print(\"Classification Report for Testing set:\")\n",
    "print(classification_report(y_train, y_train_pred, target_names=target_names))"
   ]
  },
  {
   "cell_type": "code",
   "execution_count": 29,
   "metadata": {},
   "outputs": [
    {
     "name": "stdout",
     "output_type": "stream",
     "text": [
      "Classifier scores on the whole training set: \n",
      "Accuracy is 1.0 \n",
      "Confusion matrix: \n",
      " [[44  0  0]\n",
      " [ 0 48  0]\n",
      " [ 0  0 88]]\n",
      "------------------------------------------------------\n",
      "Classification Report for training set:\n",
      "              precision    recall  f1-score   support\n",
      "\n",
      " overexposed       1.00      1.00      1.00        44\n",
      "underexposed       1.00      1.00      1.00        48\n",
      "     regular       1.00      1.00      1.00        88\n",
      "\n",
      "    accuracy                           1.00       180\n",
      "   macro avg       1.00      1.00      1.00       180\n",
      "weighted avg       1.00      1.00      1.00       180\n",
      "\n",
      "#######################################################\n",
      "Classifier scores on the testing set: \n",
      "Accuracy is 1.0 \n",
      "Confusion matrix: \n",
      " [[16  0  0]\n",
      " [ 0 12  0]\n",
      " [ 0  0 17]]\n",
      "------------------------------------------------------\n",
      "Classification Report for Testing set:\n",
      "              precision    recall  f1-score   support\n",
      "\n",
      " overexposed       1.00      1.00      1.00        44\n",
      "underexposed       1.00      1.00      1.00        48\n",
      "     regular       1.00      1.00      1.00        88\n",
      "\n",
      "    accuracy                           1.00       180\n",
      "   macro avg       1.00      1.00      1.00       180\n",
      "weighted avg       1.00      1.00      1.00       180\n",
      "\n"
     ]
    }
   ],
   "source": [
    "y_train_pred = ovr_clf.predict(X_train)\n",
    "ovo_train_conf_mat = confusion_matrix(y_train, y_train_pred)\n",
    "print('Classifier scores on the whole training set: ')\n",
    "print('Accuracy is {0} '.format(accuracy_score(y_train, y_train_pred)))\n",
    "print('Confusion matrix: \\n {0}'.format(ovo_train_conf_mat))\n",
    "print('------------------------------------------------------')\n",
    "\n",
    "print(\"Classification Report for training set:\")\n",
    "print(classification_report(y_train, y_train_pred, target_names=target_names))\n",
    "\n",
    "print('#######################################################')\n",
    "\n",
    "y_test_pred = ovr_clf.predict(X_test)\n",
    "ovo_test_conf_mat = confusion_matrix(y_test, y_test_pred)\n",
    "print('Classifier scores on the testing set: ')\n",
    "print('Accuracy is {0} '.format(accuracy_score(y_test, y_test_pred)))\n",
    "print('Confusion matrix: \\n {0}'.format(ovo_test_conf_mat))\n",
    "\n",
    "print('------------------------------------------------------')\n",
    "\n",
    "print(\"Classification Report for Testing set:\")\n",
    "print(classification_report(y_train, y_train_pred, target_names=target_names))"
   ]
  },
  {
   "cell_type": "markdown",
   "metadata": {},
   "source": [
    "But here the training and testing sets are from the same distribution, now let's try to infer some random image from outside of that distribution to one of these models (trained on color histograms), and see how the model performs on that.\n",
    "\n",
    "<a href=\"#1_4\" style=\"float: right\">Return to beggining of section</a>\n",
    "<br>\n",
    "<a href=\"#head\" style=\"float: right\">Return to table of contents</a>"
   ]
  },
  {
   "cell_type": "code",
   "execution_count": 30,
   "metadata": {},
   "outputs": [
    {
     "name": "stdout",
     "output_type": "stream",
     "text": [
      "The OvO classifier classified the overexposed image right!\n",
      "-------------------------------------------------------------------\n",
      "The OvO classifier made a mistake when classifying the underexposed image!\n",
      "Expected [1] and got [2]\n",
      "-------------------------------------------------------------------\n",
      "The OvO classifier classified the regular image right!\n"
     ]
    }
   ],
   "source": [
    "img = extract_rgb_image_hist([overexp_image, underexp_image, reg_image], 512)\n",
    "\n",
    "for i, image, y_expected, label in [(0, np.array(img[0]), [0], \"overexposed\"),\n",
    "                                    (1, np.array(img[1]), [1], \"underexposed\"), \n",
    "                                    (2, np.array(img[2]), [2], \"regular\")]:\n",
    "    y_pred = ovo_clf.predict([image])\n",
    "    if (y_expected == y_pred):\n",
    "        print(\"The OvO classifier classified the {0} image right!\".format(label))\n",
    "    else:\n",
    "        print(\"The OvO classifier made a mistake when classifying the {0} image!\".format(label))\n",
    "        print(\"Expected {0} and got {1}\".format(y_expected, y_pred))\n",
    "    if i != 2:\n",
    "        print('-------------------------------------------------------------------')"
   ]
  },
  {
   "cell_type": "markdown",
   "metadata": {},
   "source": [
    "## <a name=\"conc\">Conclusion</a>\n",
    "***\n",
    "- Using the image grayscale pixels directly to train a binary classifier gave us good results, but that reflects how the problem is easy to separate only two classes using only grayscale pixel values.\n",
    "- When trying to classify 3 different classes, its harder for a multi class classifier to separate these three classes using only grayscale images' pixel values.\n",
    "- Considering the classical computer vision pipeline, and trying to carefully extract features from images and train the model on them instead of directly infering the pixels shows a huge improvments in the multi class classifier performance **(100% on both training and testing sets)**\n",
    "\n",
    "<a href=\"#head\" style=\"float: right\">Return to table of contents</a>"
   ]
  }
 ],
 "metadata": {
  "kernelspec": {
   "display_name": "Python 3",
   "language": "python",
   "name": "python3"
  },
  "language_info": {
   "codemirror_mode": {
    "name": "ipython",
    "version": 3
   },
   "file_extension": ".py",
   "mimetype": "text/x-python",
   "name": "python",
   "nbconvert_exporter": "python",
   "pygments_lexer": "ipython3",
   "version": "3.6.9"
  }
 },
 "nbformat": 4,
 "nbformat_minor": 2
}
