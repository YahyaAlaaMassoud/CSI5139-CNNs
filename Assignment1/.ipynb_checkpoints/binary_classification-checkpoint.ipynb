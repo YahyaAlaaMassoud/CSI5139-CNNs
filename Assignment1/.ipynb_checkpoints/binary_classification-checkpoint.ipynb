{
 "cells": [
  {
   "cell_type": "markdown",
   "metadata": {},
   "source": [
    "# CSI5139\n",
    "* * *\n",
    "# Assignment 1 | Image Labelling - Linear Classification\n",
    "* * * "
   ]
  },
  {
   "cell_type": "markdown",
   "metadata": {},
   "source": [
    "### In this jupyter notebook, I will be discussing the following:\n",
    "1. Generic data gathering from the dataset directories\n",
    "2. Data preparation and preprocessing (RGB images to grayscale images, image rescaling, image falttening)\n",
    "3. Visualizing random images from the data set\n",
    "4. Binary Classifier\n",
    "    1. train/val/test sets splits\n",
    "    - Performance metrics (accuracy, percision, recall, confusion matrix, ROC curve)\n",
    "* * * "
   ]
  },
  {
   "cell_type": "markdown",
   "metadata": {},
   "source": [
    "### Getting started by imporing the libraries that I will be using throughout my assignment\n",
    "- os -> reading and manipulating the file system (files and directories)\n",
    "- skimage -> for using built-in functions for image pre-processing (rgb2gray, rescale, etc.)\n",
    "- numpy -> for optimized numerical containers and computations\n",
    "- ntpath -> to manipulate the string of a directory's path"
   ]
  },
  {
   "cell_type": "code",
   "execution_count": 1,
   "metadata": {},
   "outputs": [],
   "source": [
    "%matplotlib inline\n",
    "import os\n",
    "import skimage\n",
    "from skimage.transform import rescale, resize\n",
    "import matplotlib\n",
    "import matplotlib.pyplot as plt\n",
    "import ntpath\n",
    "import numpy as np"
   ]
  },
  {
   "cell_type": "markdown",
   "metadata": {},
   "source": [
    "### Defining some global varibales"
   ]
  },
  {
   "cell_type": "code",
   "execution_count": 2,
   "metadata": {},
   "outputs": [],
   "source": [
    "# Global Variables\n",
    "DATASET_DIRNAME = \"Phos2_0_2MP\"\n",
    "RESCALING_FACTOR = 1. / 5.\n",
    "NONUNI_KEYWORDS = [\"_nonuni_\"]\n",
    "UNI_KEYWORDS = [\"_uni_\"]"
   ]
  },
  {
   "cell_type": "markdown",
   "metadata": {},
   "source": [
    "### Since I want my implementation to be as generic and reusable as possible, I have implemented some helper functions that I will be using to gather and prepare the images from the dataset's folders.\n",
    "\n",
    "#### Here are a set of function that I thought will help me to acheive a certain level of reusability\n",
    "1. Function that returns all the subdirectories in a given directory.\n",
    "2. Function that returns all the images' paths that has a specific extension in a given directory .\n",
    "3. Function that returns an image as a numpy array given the image's path.\n",
    "4. Function that rescales an image (if applicable).\n",
    "5. Function that flattens an image (e.g. (5, 5, 3) -> (5 * 5 * 3)) (if applicable).\n",
    "6. Function that tranforms an RGB image to grayscal (if applicable).\n",
    "7. Finally, a function that takes advantage of all the above functions in order to read all the images in the data set.\n",
    "\n",
    "### By doing that, we will have ONE a high-level API function that is responsible for gathering and preparing the images within a dataset directories (not just for this dataset, it can also work with any other dataset with the same structure), that is given only the dataset directory name, and some options to follow (image color channel, rescaling factor, etc.) "
   ]
  },
  {
   "cell_type": "markdown",
   "metadata": {},
   "source": [
    "This function returns a list of all subdirectories of a given directory name as a function parameter."
   ]
  },
  {
   "cell_type": "code",
   "execution_count": 3,
   "metadata": {},
   "outputs": [],
   "source": [
    "# returns a list of subdirectories under a specific directory\n",
    "def get_subdirectories(dir_name):\n",
    "    if (os.path.isdir(dir_name)):\n",
    "        return [os.path.join(dir_name, subdir_name) for subdir_name in os.listdir(dir_name) if os.path.isdir(os.path.join(dir_name, subdir_name))]\n",
    "    else:\n",
    "        return []"
   ]
  },
  {
   "cell_type": "markdown",
   "metadata": {},
   "source": [
    "This function returns a list of all images' files that have '.png' extension of a given directory name as a function parameter."
   ]
  },
  {
   "cell_type": "code",
   "execution_count": 4,
   "metadata": {},
   "outputs": [],
   "source": [
    "# returns a list of all image files ending with '.png' in that specific directory\n",
    "def get_files_within_dir(dir_name):\n",
    "    if (os.path.isdir(dir_name)):\n",
    "        return [os.path.join(dir_name, file_name) for file_name in os.listdir(dir_name) if file_name.endswith('.png')]\n",
    "    else:\n",
    "        return []"
   ]
  },
  {
   "cell_type": "markdown",
   "metadata": {},
   "source": [
    "This function returns a list of tuples, each pair is consisting of (rescaled image, original size of the image, path of the image). <br>\n",
    "It takes one mandatory function parameters which is the rescaling factor that will be performed over the image. <br>\n",
    "It takes some optional function parameters as: whether the image should be returned as RGB or grayscal, whether the image data should be flattened or not."
   ]
  },
  {
   "cell_type": "code",
   "execution_count": 5,
   "metadata": {},
   "outputs": [],
   "source": [
    "# gets a list of images' filenames, rescaling factor, and either the images will be RGB or grayscale\n",
    "# returns a pair (image's np.ndarray either RGB or grayscale, filename)\n",
    "def read_images_from_files(filenames, rescale_factor, rgb=True, flatten=False):\n",
    "    # get a single image's filename to read it\n",
    "    # returns the rescaled image\n",
    "    def read_image_from_file(filename):\n",
    "        img = skimage.io.imread(filename)\n",
    "        org_size = img.shape\n",
    "        img = rescale(img, rescale_factor, anti_aliasing=True)\n",
    "        \n",
    "        if (rgb == False):\n",
    "            img = skimage.color.rgb2gray(img)\n",
    "        \n",
    "        if (flatten==True):\n",
    "            img = img.flatten()\n",
    "        return img, org_size\n",
    "        \n",
    "    images = []\n",
    "    for filename in filenames:\n",
    "        img, org_size = read_image_from_file(filename)\n",
    "        images.append((img, org_size, filename))\n",
    "    return images"
   ]
  },
  {
   "cell_type": "markdown",
   "metadata": {},
   "source": [
    "This function uses all the functions above to return all the images given the dataset directory name as a function parameter. <br>\n",
    "It also takes one mandatory function parameter which is the rescaling factor that will be perfomed over the image data. <br>\n",
    "It takes two other optional parameters which are whether the images will be returned as RGB or grascale, and the images will be flattened or not."
   ]
  },
  {
   "cell_type": "code",
   "execution_count": 6,
   "metadata": {},
   "outputs": [],
   "source": [
    "# get dataset directory name, rescaling factor to be applied for all the images and whether the dataset will be RGB or grayscale\n",
    "# return a list of all images found along with each image filename\n",
    "def get_all_images(dataset_dirname, rescale_factor, RGB=True, flatten=False):\n",
    "    subdirectories = get_subdirectories(dataset_dirname)\n",
    "    all_images = []\n",
    "    for subdir in subdirectories:\n",
    "        images_filenames = get_files_within_dir(subdir)\n",
    "        subdir_images = read_images_from_files(filenames=images_filenames, rescale_factor=rescale_factor, rgb=RGB, flatten=flatten)\n",
    "        all_images += subdir_images\n",
    "    return all_images"
   ]
  },
  {
   "cell_type": "markdown",
   "metadata": {},
   "source": [
    "This function is very important for any dataset that is labeled by a file naming convention. <br>\n",
    "It simply gatheres images based on the presence of some keywords in these images' filenames."
   ]
  },
  {
   "cell_type": "code",
   "execution_count": 7,
   "metadata": {},
   "outputs": [],
   "source": [
    "def get_images_by_keywords(all_images, keywords):\n",
    "    \n",
    "    def keywords_found(filename):\n",
    "        found = True\n",
    "        image_filename = ntpath.basename(filename)\n",
    "        for keyword in keywords:\n",
    "            found = (found and (keyword in image_filename))\n",
    "        return found\n",
    "    \n",
    "    images = [image[0] for image in all_images if keywords_found(image[2]) == True]\n",
    "    org_sizes = [image[1] for image in all_images if keywords_found(image[2]) == True]\n",
    "    return images, org_sizes"
   ]
  },
  {
   "cell_type": "markdown",
   "metadata": {},
   "source": [
    "Now we are ready to use the ***get_all_images*** function to get all the dataset images, sizes and filenames in one list."
   ]
  },
  {
   "cell_type": "code",
   "execution_count": 8,
   "metadata": {},
   "outputs": [
    {
     "name": "stderr",
     "output_type": "stream",
     "text": [
      "c:\\users\\administrator\\anaconda3\\envs\\ottawa\\lib\\site-packages\\skimage\\transform\\_warps.py:23: UserWarning: The default multichannel argument (None) is deprecated.  Please specify either True or False explicitly.  multichannel will default to False starting with release 0.16.\n",
      "  warn('The default multichannel argument (None) is deprecated.  Please '\n"
     ]
    }
   ],
   "source": [
    "grayscale_data = get_all_images(DATASET_DIRNAME, RESCALING_FACTOR, RGB=False, flatten=True)"
   ]
  },
  {
   "cell_type": "markdown",
   "metadata": {},
   "source": [
    "This function simply generates a list with a specific length and a constant value for all the list elements."
   ]
  },
  {
   "cell_type": "code",
   "execution_count": 9,
   "metadata": {},
   "outputs": [],
   "source": [
    "def generate_labels_list(list_len, label):\n",
    "    return np.full(list_len, label).tolist()"
   ]
  },
  {
   "cell_type": "markdown",
   "metadata": {},
   "source": [
    "Now we can use the ***get_images_by_keywords*** function to get the images based on their illumination, e.g. uniform and non-uniform images. <br>\n",
    "We always need the original sizes of the images for the purpose of visualizing the data."
   ]
  },
  {
   "cell_type": "code",
   "execution_count": 62,
   "metadata": {},
   "outputs": [],
   "source": [
    "# defining the non-uniform images and labels\n",
    "nonuni_images, nonuni_org_sizes = get_images_by_keywords(grayscale_data, NONUNI_KEYWORDS)\n",
    "nonuni_labels = generate_labels_list(len(nonuni_images), 0)\n",
    "# defining the uniform images and labels\n",
    "uni_images, uni_org_sizes = get_images_by_keywords(grayscale_data, UNI_KEYWORDS)\n",
    "uni_labels = generate_labels_list(len(uni_images), 1)\n",
    "# defining length of the data\n",
    "nonuni_len = len(nonuni_images)\n",
    "uni_len = len(uni_images)"
   ]
  },
  {
   "cell_type": "code",
   "execution_count": 11,
   "metadata": {},
   "outputs": [
    {
     "name": "stdout",
     "output_type": "stream",
     "text": [
      "Number of examples on non-uniform illumination pictures is: 90 with label 0\n",
      "Number of examples on uniform illumination pictures is: 135 with label 1\n"
     ]
    }
   ],
   "source": [
    "print(\"Number of examples on non-uniform illumination pictures is: \" + str(nonuni_len) + \" with label \" + str(nonuni_labels[0]))\n",
    "print(\"Number of examples on uniform illumination pictures is: \" + str(uni_len) + \" with label \" + str(uni_labels[0]))"
   ]
  },
  {
   "cell_type": "markdown",
   "metadata": {},
   "source": [
    "This function simply plots an image and puts a title on that image."
   ]
  },
  {
   "cell_type": "code",
   "execution_count": 12,
   "metadata": {},
   "outputs": [],
   "source": [
    "def plot_image(image, title=None):\n",
    "    plt.title(title)\n",
    "    plt.imshow(image,\n",
    "               cmap = matplotlib.cm.binary,\n",
    "               interpolation=\"nearest\")"
   ]
  },
  {
   "cell_type": "code",
   "execution_count": 13,
   "metadata": {},
   "outputs": [
    {
     "data": {
      "image/png": "[encoded data removed]",
      "text/plain": [
       "<Figure size 432x288 with 1 Axes>"
      ]
     },
     "metadata": {
      "needs_background": "light"
     },
     "output_type": "display_data"
    }
   ],
   "source": [
    "''' \n",
    "    plotting a random image from the images with non-uniform illumination\n",
    "    first we generate a random index bounded by the non-uniform illumination images data length\n",
    "    then we get that image's original size\n",
    "    then we rescale that size using the golbally defined RESCALING FACTOR\n",
    "    then we reshape the random image using that rescaled shape\n",
    "    finally we plot the image\n",
    "'''\n",
    "rand_idx = np.random.randint(low=0, high=nonuni_len-1)\n",
    "org_size = nonuni_org_sizes[rand_idx]\n",
    "rescaled_shape = (int(org_size[0] * RESCALING_FACTOR), int(org_size[1] * RESCALING_FACTOR))\n",
    "plot_image(nonuni_images[rand_idx].reshape(rescaled_shape), \"Non-uniform illumination\")"
   ]
  },
  {
   "cell_type": "code",
   "execution_count": 14,
   "metadata": {},
   "outputs": [
    {
     "data": {
      "image/png": "[encoded data removed]",
      "text/plain": [
       "<Figure size 432x288 with 1 Axes>"
      ]
     },
     "metadata": {
      "needs_background": "light"
     },
     "output_type": "display_data"
    }
   ],
   "source": [
    "''' \n",
    "    plotting a random image from the images uniform illumination\n",
    "    first we generate a random index bounded by the uniform illumination images data length\n",
    "    then we get that image's original size\n",
    "    then we rescale that size using the golbally defined RESCALING FACTOR\n",
    "    then we reshape the random image using that rescaled shape\n",
    "    finally we plot the image\n",
    "'''\n",
    "rand_idx = np.random.randint(low=0, high=uni_len-1)\n",
    "org_size = uni_org_sizes[rand_idx]\n",
    "rescaled_shape = (int(org_size[0] * RESCALING_FACTOR), int(org_size[1] * RESCALING_FACTOR))\n",
    "plot_image(uni_images[rand_idx].reshape(rescaled_shape), \"Uniform illumination\")"
   ]
  },
  {
   "cell_type": "markdown",
   "metadata": {},
   "source": [
    "### Now we construct the X (input), y (ground truth data) by adding the uniform and non-uniform images and labels lists "
   ]
  },
  {
   "cell_type": "code",
   "execution_count": 15,
   "metadata": {},
   "outputs": [],
   "source": [
    "# defining the dataset's X (input) and y (groundtruth)\n",
    "X = np.asarray(uni_images + nonuni_images)\n",
    "y = np.asarray(uni_labels + nonuni_labels)\n",
    "# defining original sizes array\n",
    "# we need that in case we will plot an image within the all the data combined\n",
    "org_sizes = uni_org_sizes + nonuni_org_sizes"
   ]
  },
  {
   "cell_type": "code",
   "execution_count": 16,
   "metadata": {},
   "outputs": [
    {
     "name": "stdout",
     "output_type": "stream",
     "text": [
      "(68, 102)\n"
     ]
    },
    {
     "data": {
      "image/png": "[encoded data removed]",
      "text/plain": [
       "<Figure size 432x288 with 1 Axes>"
      ]
     },
     "metadata": {
      "needs_background": "light"
     },
     "output_type": "display_data"
    }
   ],
   "source": [
    "''' \n",
    "    plotting a random image from all the dataset X\n",
    "    first we generate a random index bounded by the length of dataset X\n",
    "    then we get that image's original size\n",
    "    then we rescale that size using the golbally defined RESCALING FACTOR\n",
    "    then we reshape the random image using that rescaled shape\n",
    "    finally we plot the image\n",
    "'''\n",
    "random_idx = np.random.randint(low=0, high=len(X)-1)\n",
    "random_image = X[random_idx]\n",
    "org_size = org_sizes[random_idx]\n",
    "rescaled_shape = (int(org_size[0] * RESCALING_FACTOR), int(org_size[1] * RESCALING_FACTOR))\n",
    "print(rescaled_shape)\n",
    "image_title = \"Uniform illumination\" if (y[random_idx] == 1) else \"Non-uniform illumination\"\n",
    "plot_image(random_image.reshape(rescaled_shape), title=image_title)"
   ]
  },
  {
   "cell_type": "markdown",
   "metadata": {},
   "source": [
    "This function simply shuffles the data so that it is not balanced in any way, without doing that, the data would have all the uniform data then all the non-uniform data."
   ]
  },
  {
   "cell_type": "code",
   "execution_count": 17,
   "metadata": {},
   "outputs": [],
   "source": [
    "def shuffle_data(X, y):\n",
    "    if (len(X) != len(y)):\n",
    "        return None\n",
    "    p = np.random.permutation(len(X))\n",
    "    return X[p], y[p]"
   ]
  },
  {
   "cell_type": "markdown",
   "metadata": {},
   "source": [
    "Now we are ready to use the function ***shuffle_data*** to shuffle our X and y numpy ndarrays."
   ]
  },
  {
   "cell_type": "code",
   "execution_count": 18,
   "metadata": {},
   "outputs": [],
   "source": [
    "shuffled_X, shuffled_y = shuffle_data(X, y)"
   ]
  },
  {
   "cell_type": "markdown",
   "metadata": {},
   "source": [
    "Now it is time to split the data into separate training and testing sets. <br>\n",
    "For the splits size, I am going to split it 80% of the data for training and 20% is for testing. <br>\n",
    "Thus we have 180 images for training the linear model, and 45 images for testing its performance. <br>"
   ]
  },
  {
   "cell_type": "code",
   "execution_count": 19,
   "metadata": {},
   "outputs": [],
   "source": [
    "from sklearn.model_selection import train_test_split\n",
    "\n",
    "X_train, X_test, y_train, y_test = train_test_split(shuffled_X, shuffled_y, test_size=0.2)"
   ]
  },
  {
   "cell_type": "markdown",
   "metadata": {},
   "source": [
    "For the training phase, I am going to use **3-fold cross-validation with stratisfied sampling** and then compare it to 3-fold cross-validation without stratisfied sampling."
   ]
  },
  {
   "cell_type": "code",
   "execution_count": 20,
   "metadata": {},
   "outputs": [],
   "source": [
    "from sklearn.model_selection import StratifiedKFold, KFold\n",
    "\n",
    "skfolds = StratifiedKFold(n_splits=3, random_state=42)\n",
    "kfolds = KFold(n_splits=3, random_state=42)"
   ]
  },
  {
   "cell_type": "markdown",
   "metadata": {},
   "source": [
    "## Binary Classifier\n",
    "***\n",
    "Here I am going to use LogisticRegressionCV class provided by sklearn to train it to predict the illumination class of my data. <br>\n",
    "The LogisticRegressionCV class takes *cv* as a parameter, and it is a cross-validation generator. <br>\n",
    "I am going to train the model two times, one with stratisfied sampling and one without it."
   ]
  },
  {
   "cell_type": "markdown",
   "metadata": {},
   "source": [
    "First, training a linear classifier with stratisfied k-fold cross-validation"
   ]
  },
  {
   "cell_type": "code",
   "execution_count": 21,
   "metadata": {},
   "outputs": [
    {
     "data": {
      "text/plain": [
       "LogisticRegressionCV(Cs=10, class_weight=None,\n",
       "                     cv=StratifiedKFold(n_splits=3, random_state=42, shuffle=False),\n",
       "                     dual=False, fit_intercept=True, intercept_scaling=1.0,\n",
       "                     l1_ratios=None, max_iter=10, multi_class='warn',\n",
       "                     n_jobs=None, penalty='l2', random_state=None, refit=True,\n",
       "                     scoring=None, solver='liblinear', tol=0.01, verbose=0)"
      ]
     },
     "execution_count": 21,
     "metadata": {},
     "output_type": "execute_result"
    }
   ],
   "source": [
    "from sklearn.linear_model import LogisticRegressionCV\n",
    "\n",
    "bin_clf_skfolds = LogisticRegressionCV(max_iter=10, tol=0.01, cv=skfolds, solver='liblinear')\n",
    "bin_clf_skfolds.fit(X_train, y_train)"
   ]
  },
  {
   "cell_type": "markdown",
   "metadata": {},
   "source": [
    "These are the training performance results after training the linear model."
   ]
  },
  {
   "cell_type": "code",
   "execution_count": 22,
   "metadata": {
    "scrolled": true
   },
   "outputs": [
    {
     "name": "stdout",
     "output_type": "stream",
     "text": [
      "Classifier scores on the whole training set: \n",
      "Accuracy is 1.0\n",
      "Precision is 1.0\n",
      "Recall is 1.0\n",
      "F1 is 1.0\n",
      "And the confusion matrix: \n",
      " [[ 70   0]\n",
      " [  0 110]]\n"
     ]
    }
   ],
   "source": [
    "from sklearn.metrics import accuracy_score, precision_score, recall_score, f1_score, confusion_matrix\n",
    "\n",
    "y_train_pred_skfolds = bin_clf_skfolds.predict(X_train)\n",
    "train_conf_matrix_skfolds = confusion_matrix(y_train, y_train_pred_skfolds)\n",
    "print('Classifier scores on the whole training set: ')\n",
    "print(\"Accuracy is \" + str(accuracy_score(y_train, y_train_pred_skfolds)))\n",
    "print(\"Precision is \" + str(precision_score(y_train, y_train_pred_skfolds)))\n",
    "print(\"Recall is \" + str(recall_score(y_train, y_train_pred_skfolds)))\n",
    "print(\"F1 is \" + str(f1_score(y_train, y_train_pred_skfolds)))\n",
    "print(\"And the confusion matrix: \\n \" + str(train_conf_matrix_skfolds))"
   ]
  },
  {
   "cell_type": "markdown",
   "metadata": {},
   "source": [
    "These are the test set performance results after training the linear model."
   ]
  },
  {
   "cell_type": "code",
   "execution_count": 23,
   "metadata": {},
   "outputs": [
    {
     "name": "stdout",
     "output_type": "stream",
     "text": [
      "Classifier scores on the testing set: \n",
      "Accuracy is 0.9333333333333333\n",
      "Precision is 0.8928571428571429\n",
      "Recall is 1.0\n",
      "F1 is 0.9433962264150945\n",
      "And the confusion matrix: \n",
      " [[17  3]\n",
      " [ 0 25]]\n"
     ]
    }
   ],
   "source": [
    "from sklearn.metrics import accuracy_score, precision_score, recall_score, f1_score, confusion_matrix\n",
    "\n",
    "y_test_pred_skfolds = bin_clf_skfolds.predict(X_test)\n",
    "test_conf_matrix_skfolds = confusion_matrix(y_test, y_test_pred_skfolds)\n",
    "print('Classifier scores on the testing set: ')\n",
    "print(\"Accuracy is \" + str(accuracy_score(y_test, y_test_pred_skfolds)))\n",
    "print(\"Precision is \" + str(precision_score(y_test, y_test_pred_skfolds)))\n",
    "print(\"Recall is \" + str(recall_score(y_test, y_test_pred_skfolds)))\n",
    "print(\"F1 is \" + str(f1_score(y_test, y_test_pred_skfolds)))\n",
    "print(\"And the confusion matrix: \\n \" + str(test_conf_matrix_skfolds))"
   ]
  },
  {
   "cell_type": "code",
   "execution_count": 24,
   "metadata": {},
   "outputs": [],
   "source": [
    "def plot_confusion_matrix(matrix):\n",
    "    fig = plt.figure(figsize=(8,8))\n",
    "    ax = fig.add_subplot(111)\n",
    "    cax = ax.matshow(matrix)\n",
    "    fig.colorbar(cax)"
   ]
  },
  {
   "cell_type": "code",
   "execution_count": 25,
   "metadata": {},
   "outputs": [
    {
     "name": "stdout",
     "output_type": "stream",
     "text": [
      "Confusion matrix based on the performance on the whole training set\n"
     ]
    },
    {
     "data": {
      "image/png": "[encoded data removed]",
      "text/plain": [
       "<Figure size 576x576 with 2 Axes>"
      ]
     },
     "metadata": {
      "needs_background": "light"
     },
     "output_type": "display_data"
    }
   ],
   "source": [
    "plot_confusion_matrix(train_conf_matrix_skfolds)\n",
    "print(\"Confusion matrix based on the performance on the whole training set\")"
   ]
  },
  {
   "cell_type": "code",
   "execution_count": 26,
   "metadata": {},
   "outputs": [
    {
     "name": "stdout",
     "output_type": "stream",
     "text": [
      "Confusion matrix based on the performance on testing set\n"
     ]
    },
    {
     "data": {
      "image/png": "[encoded data removed]",
      "text/plain": [
       "<Figure size 576x576 with 2 Axes>"
      ]
     },
     "metadata": {
      "needs_background": "light"
     },
     "output_type": "display_data"
    }
   ],
   "source": [
    "plot_confusion_matrix(test_conf_matrix_skfolds)\n",
    "print(\"Confusion matrix based on the performance on testing set\")"
   ]
  },
  {
   "cell_type": "code",
   "execution_count": 27,
   "metadata": {},
   "outputs": [
    {
     "name": "stdout",
     "output_type": "stream",
     "text": [
      "[0.   0.15 1.  ] [0. 1. 1.] [2 1 0]\n"
     ]
    }
   ],
   "source": [
    "from sklearn.metrics import roc_curve\n",
    "\n",
    "fpr, tpr, thresholds = roc_curve(y_test, y_test_pred_skfolds)\n",
    "print(fpr, tpr, thresholds)"
   ]
  },
  {
   "cell_type": "code",
   "execution_count": 28,
   "metadata": {},
   "outputs": [
    {
     "data": {
      "image/png": "[encoded data removed]",
      "text/plain": [
       "<Figure size 576x432 with 1 Axes>"
      ]
     },
     "metadata": {
      "needs_background": "light"
     },
     "output_type": "display_data"
    }
   ],
   "source": [
    "def plot_roc_curve(fpr, tpr, label=None):\n",
    "    plt.plot(fpr, tpr, linewidth=2, label=label)\n",
    "    plt.plot([0, 1], [0, 1], 'k--')\n",
    "    plt.axis([0, 1, 0, 1])\n",
    "    plt.xlabel('False Positive Rate', fontsize=16)\n",
    "    plt.ylabel('True Positive Rate', fontsize=16)\n",
    "\n",
    "plt.figure(figsize=(8, 6))\n",
    "plot_roc_curve(fpr, tpr)"
   ]
  },
  {
   "cell_type": "markdown",
   "metadata": {},
   "source": [
    "Now we need to train another linear model with the same configuration but now with the standard k-fold crossvalidation."
   ]
  },
  {
   "cell_type": "code",
   "execution_count": 29,
   "metadata": {},
   "outputs": [
    {
     "data": {
      "text/plain": [
       "LogisticRegressionCV(Cs=10, class_weight=None,\n",
       "                     cv=KFold(n_splits=3, random_state=42, shuffle=False),\n",
       "                     dual=False, fit_intercept=True, intercept_scaling=1.0,\n",
       "                     l1_ratios=None, max_iter=10, multi_class='warn',\n",
       "                     n_jobs=None, penalty='l2', random_state=None, refit=True,\n",
       "                     scoring=None, solver='liblinear', tol=0.01, verbose=0)"
      ]
     },
     "execution_count": 29,
     "metadata": {},
     "output_type": "execute_result"
    }
   ],
   "source": [
    "bin_clf_kfolds = LogisticRegressionCV(max_iter=10, tol=0.01, cv=kfolds, solver='liblinear')\n",
    "bin_clf_kfolds.fit(X_train, y_train)"
   ]
  },
  {
   "cell_type": "code",
   "execution_count": 30,
   "metadata": {},
   "outputs": [
    {
     "name": "stdout",
     "output_type": "stream",
     "text": [
      "Classifier scores on the whole training set: \n",
      "Accuracy is 1.0\n",
      "Precision is 1.0\n",
      "Recall is 1.0\n",
      "F1 is 1.0\n",
      "And the confusion matrix: \n",
      " [[ 70   0]\n",
      " [  0 110]]\n"
     ]
    }
   ],
   "source": [
    "from sklearn.metrics import accuracy_score, precision_score, recall_score, f1_score, confusion_matrix\n",
    "\n",
    "y_train_pred_kfolds = bin_clf_kfolds.predict(X_train)\n",
    "train_conf_matrix_kfolds = confusion_matrix(y_train, y_train_pred_kfolds)\n",
    "print('Classifier scores on the whole training set: ')\n",
    "print(\"Accuracy is \" + str(accuracy_score(y_train, y_train_pred_kfolds)))\n",
    "print(\"Precision is \" + str(precision_score(y_train, y_train_pred_kfolds)))\n",
    "print(\"Recall is \" + str(recall_score(y_train, y_train_pred_kfolds)))\n",
    "print(\"F1 is \" + str(f1_score(y_train, y_train_pred_kfolds)))\n",
    "print(\"And the confusion matrix: \\n \" + str(train_conf_matrix_kfolds))"
   ]
  },
  {
   "cell_type": "code",
   "execution_count": 31,
   "metadata": {},
   "outputs": [
    {
     "name": "stdout",
     "output_type": "stream",
     "text": [
      "Classifier scores on the testing set: \n",
      "Accuracy is 0.9333333333333333\n",
      "Precision is 0.8928571428571429\n",
      "Recall is 1.0\n",
      "F1 is 0.9433962264150945\n",
      "And the confusion matrix: \n",
      " [[17  3]\n",
      " [ 0 25]]\n"
     ]
    }
   ],
   "source": [
    "from sklearn.metrics import accuracy_score, precision_score, recall_score, f1_score, confusion_matrix\n",
    "\n",
    "y_test_pred_kfolds = bin_clf_kfolds.predict(X_test)\n",
    "test_conf_matrix_kfolds = confusion_matrix(y_test, y_test_pred_kfolds)\n",
    "print('Classifier scores on the testing set: ')\n",
    "print(\"Accuracy is \" + str(accuracy_score(y_test, y_test_pred_kfolds)))\n",
    "print(\"Precision is \" + str(precision_score(y_test, y_test_pred_kfolds)))\n",
    "print(\"Recall is \" + str(recall_score(y_test, y_test_pred_kfolds)))\n",
    "print(\"F1 is \" + str(f1_score(y_test, y_test_pred_kfolds)))\n",
    "print(\"And the confusion matrix: \\n \" + str(test_conf_matrix_kfolds))"
   ]
  },
  {
   "cell_type": "markdown",
   "metadata": {},
   "source": [
    "## Multiclass Classifier\n",
    "***\n",
    "Now we need to prepare the data for this new task of multiclass classification"
   ]
  },
  {
   "cell_type": "markdown",
   "metadata": {},
   "source": [
    "First we define the keywords for each of the images we are going to gather"
   ]
  },
  {
   "cell_type": "code",
   "execution_count": 32,
   "metadata": {},
   "outputs": [],
   "source": [
    "OVEREXPOSED_KEYWORDS = [\"_plus_\"]   # class 0\n",
    "UNDEREXPOSED_KEYWORDS = [\"_minus_\"] # class 1\n",
    "REGULAR_KEYWORDS = [\"_uni_\", \"_0\"]  # class 2\n",
    "NONUNI_KEYWORDS = [\"_nonuni_\"]      # class 2"
   ]
  },
  {
   "cell_type": "markdown",
   "metadata": {},
   "source": [
    "Then we gather each class of images into a list, and generate the corresponding label for it."
   ]
  },
  {
   "cell_type": "code",
   "execution_count": 33,
   "metadata": {},
   "outputs": [],
   "source": [
    "# defining the over-exposed images and labels\n",
    "overexp_images, overexp_org_sizes = get_images_by_keywords(grayscale_data, OVEREXPOSED_KEYWORDS)\n",
    "overexp_labels = generate_labels_list(len(overexp_images), 0)\n",
    "# defining the under-exposed images and labels\n",
    "underexp_images, underexp_org_sizes = get_images_by_keywords(grayscale_data, UNDEREXPOSED_KEYWORDS)\n",
    "underexp_labels = generate_labels_list(len(underexp_images), 1)\n",
    "# defining the regular images and labels\n",
    "reg_images, reg_org_sizes = get_images_by_keywords(grayscale_data, REGULAR_KEYWORDS)\n",
    "reg_labels = generate_labels_list(len(reg_images), 2)\n",
    "# defining the non-uniform images and labels\n",
    "nonuni_images, nonuni_org_sizes = get_images_by_keywords(grayscale_data, NONUNI_KEYWORDS)\n",
    "nonuni_labels = generate_labels_list(len(nonuni_images), 2)\n",
    "# defining length of the data\n",
    "overexp_len = len(overexp_images)\n",
    "underexp_len = len(underexp_images)\n",
    "reg_len = len(reg_images) + len(nonuni_images)"
   ]
  },
  {
   "cell_type": "code",
   "execution_count": 34,
   "metadata": {},
   "outputs": [
    {
     "name": "stdout",
     "output_type": "stream",
     "text": [
      "Number of examples in over-exposed illumination pictures is: 60\n",
      "Number of examples in under-exposed illumination pictures is: 60\n",
      "Number of examples in regular illumination pictures is: 105\n"
     ]
    }
   ],
   "source": [
    "print(\"Number of examples in over-exposed illumination pictures is: \" + str(overexp_len))\n",
    "print(\"Number of examples in under-exposed illumination pictures is: \" + str(underexp_len))\n",
    "print(\"Number of examples in regular illumination pictures is: \" + str(reg_len))"
   ]
  },
  {
   "cell_type": "code",
   "execution_count": 35,
   "metadata": {},
   "outputs": [
    {
     "data": {
      "image/png": "[encoded data removed]",
      "text/plain": [
       "<Figure size 432x288 with 1 Axes>"
      ]
     },
     "metadata": {
      "needs_background": "light"
     },
     "output_type": "display_data"
    }
   ],
   "source": [
    "''' \n",
    "    plotting a random image from the images over-exposed illumination\n",
    "    first we generate a random index bounded by the uniform illumination images data length\n",
    "    then we get that image's original size\n",
    "    then we rescale that size using the golbally defined RESCALING FACTOR\n",
    "    then we reshape the random image using that rescaled shape\n",
    "    finally we plot the image\n",
    "'''\n",
    "rand_idx = np.random.randint(low=0, high=overexp_len-1)\n",
    "org_size = overexp_org_sizes[rand_idx]\n",
    "rescaled_shape = (int(org_size[0] * RESCALING_FACTOR), int(org_size[1] * RESCALING_FACTOR))\n",
    "plot_image(overexp_images[rand_idx].reshape(rescaled_shape), \"Over-exposed Image\")"
   ]
  },
  {
   "cell_type": "code",
   "execution_count": 36,
   "metadata": {},
   "outputs": [
    {
     "data": {
      "image/png": "[encoded data removed]",
      "text/plain": [
       "<Figure size 432x288 with 1 Axes>"
      ]
     },
     "metadata": {
      "needs_background": "light"
     },
     "output_type": "display_data"
    }
   ],
   "source": [
    "''' \n",
    "    plotting a random image from the images over-exposed illumination\n",
    "    first we generate a random index bounded by the uniform illumination images data length\n",
    "    then we get that image's original size\n",
    "    then we rescale that size using the golbally defined RESCALING FACTOR\n",
    "    then we reshape the random image using that rescaled shape\n",
    "    finally we plot the image\n",
    "'''\n",
    "rand_idx = np.random.randint(low=0, high=underexp_len-1)\n",
    "org_size = underexp_org_sizes[rand_idx]\n",
    "rescaled_shape = (int(org_size[0] * RESCALING_FACTOR), int(org_size[1] * RESCALING_FACTOR))\n",
    "plot_image(underexp_images[rand_idx].reshape(rescaled_shape), \"Under-exposed Image\")"
   ]
  },
  {
   "cell_type": "code",
   "execution_count": 37,
   "metadata": {},
   "outputs": [
    {
     "data": {
      "image/png": "[encoded data removed]",
      "text/plain": [
       "<Figure size 432x288 with 1 Axes>"
      ]
     },
     "metadata": {
      "needs_background": "light"
     },
     "output_type": "display_data"
    }
   ],
   "source": [
    "''' \n",
    "    plotting a random image from the images over-exposed illumination\n",
    "    first we generate a random index bounded by the uniform illumination images data length\n",
    "    then we get that image's original size\n",
    "    then we rescale that size using the golbally defined RESCALING FACTOR\n",
    "    then we reshape the random image using that rescaled shape\n",
    "    finally we plot the image\n",
    "'''\n",
    "rand_idx = np.random.randint(low=0, high=len(reg_images)-1)\n",
    "org_size = reg_org_sizes[rand_idx]\n",
    "rescaled_shape = (int(org_size[0] * RESCALING_FACTOR), int(org_size[1] * RESCALING_FACTOR))\n",
    "plot_image(reg_images[rand_idx].reshape(rescaled_shape), \"Regular Image\")"
   ]
  },
  {
   "cell_type": "code",
   "execution_count": 38,
   "metadata": {},
   "outputs": [],
   "source": [
    "X = np.asarray(overexp_images + underexp_images + reg_images + nonuni_images)\n",
    "y = np.asarray(overexp_labels + underexp_labels + reg_labels + nonuni_labels)"
   ]
  },
  {
   "cell_type": "code",
   "execution_count": 39,
   "metadata": {},
   "outputs": [
    {
     "name": "stdout",
     "output_type": "stream",
     "text": [
      "(68, 102)\n"
     ]
    },
    {
     "data": {
      "image/png": "[encoded data removed]",
      "text/plain": [
       "<Figure size 432x288 with 1 Axes>"
      ]
     },
     "metadata": {
      "needs_background": "light"
     },
     "output_type": "display_data"
    }
   ],
   "source": [
    "''' \n",
    "    plotting a random image from all the dataset X\n",
    "    first we generate a random index bounded by the length of dataset X\n",
    "    then we get that image's original size\n",
    "    then we rescale that size using the golbally defined RESCALING FACTOR\n",
    "    then we reshape the random image using that rescaled shape\n",
    "    finally we plot the image\n",
    "'''\n",
    "random_idx = np.random.randint(low=0, high=len(X)-1)\n",
    "random_image = X[random_idx]\n",
    "org_size = org_sizes[random_idx]\n",
    "rescaled_shape = (int(org_size[0] * RESCALING_FACTOR), int(org_size[1] * RESCALING_FACTOR))\n",
    "print(rescaled_shape)\n",
    "if (y[random_idx] == 0):\n",
    "    image_title = \"Over-exposed illumination\"\n",
    "elif (y[random_idx] == 1):\n",
    "    image_title = \"Under-exposed illumination\"\n",
    "else:\n",
    "    image_title = \"Regular illumination\"\n",
    "plot_image(random_image.reshape(rescaled_shape), title=image_title)"
   ]
  },
  {
   "cell_type": "code",
   "execution_count": 40,
   "metadata": {},
   "outputs": [],
   "source": [
    "shuffled_X, shuffled_y = shuffle_data(X, y)"
   ]
  },
  {
   "cell_type": "code",
   "execution_count": 41,
   "metadata": {},
   "outputs": [],
   "source": [
    "from sklearn.model_selection import train_test_split\n",
    "\n",
    "X_train, X_test, y_train, y_test = train_test_split(shuffled_X, shuffled_y, test_size=0.2, random_state=41)"
   ]
  },
  {
   "cell_type": "code",
   "execution_count": 42,
   "metadata": {},
   "outputs": [
    {
     "data": {
      "text/plain": [
       "OneVsOneClassifier(estimator=LogisticRegressionCV(Cs=10, class_weight=None,\n",
       "                                                  cv=StratifiedKFold(n_splits=3, random_state=42, shuffle=False),\n",
       "                                                  dual=False,\n",
       "                                                  fit_intercept=True,\n",
       "                                                  intercept_scaling=1.0,\n",
       "                                                  l1_ratios=None, max_iter=30,\n",
       "                                                  multi_class='warn',\n",
       "                                                  n_jobs=None, penalty='l2',\n",
       "                                                  random_state=41, refit=True,\n",
       "                                                  scoring=None,\n",
       "                                                  solver='liblinear', tol=0.01,\n",
       "                                                  verbose=0),\n",
       "                   n_jobs=None)"
      ]
     },
     "execution_count": 42,
     "metadata": {},
     "output_type": "execute_result"
    }
   ],
   "source": [
    "from sklearn.linear_model import LogisticRegressionCV\n",
    "from sklearn.multiclass import OneVsOneClassifier, OneVsRestClassifier\n",
    "\n",
    "ovo_clf = OneVsOneClassifier(LogisticRegressionCV(max_iter=30, tol=0.01, cv=skfolds, solver='liblinear', random_state=41))\n",
    "ovo_clf.fit(X_train, y_train)"
   ]
  },
  {
   "cell_type": "code",
   "execution_count": 43,
   "metadata": {
    "scrolled": true
   },
   "outputs": [
    {
     "name": "stdout",
     "output_type": "stream",
     "text": [
      "Classifier scores on the whole training set: \n",
      "Accuracy is 0.9666666666666667 \n",
      "And the confusion matrix: \n",
      " [[43  0  4]\n",
      " [ 0 44  0]\n",
      " [ 2  0 87]]\n"
     ]
    }
   ],
   "source": [
    "from sklearn.metrics import accuracy_score, confusion_matrix\n",
    "\n",
    "y_train_pred = ovo_clf.predict(X_train)\n",
    "print('Classifier scores on the whole training set: ')\n",
    "print('Accuracy is {0} '.format(accuracy_score(y_train, y_train_pred)))\n",
    "print('And the confusion matrix: \\n {0}'.format(confusion_matrix(y_train, y_train_pred)))"
   ]
  },
  {
   "cell_type": "code",
   "execution_count": 44,
   "metadata": {},
   "outputs": [
    {
     "name": "stdout",
     "output_type": "stream",
     "text": [
      "Classifier scores on the testing set: \n",
      "Accuracy is 0.8666666666666667 \n",
      "And the confusion matrix: \n",
      " [[12  0  1]\n",
      " [ 0 13  3]\n",
      " [ 1  1 14]]\n"
     ]
    }
   ],
   "source": [
    "from sklearn.metrics import accuracy_score, confusion_matrix\n",
    "\n",
    "y_test_pred = ovo_clf.predict(X_test)\n",
    "print('Classifier scores on the testing set: ')\n",
    "print('Accuracy is {0} '.format(accuracy_score(y_test, y_test_pred)))\n",
    "print('And the confusion matrix: \\n {0}'.format(confusion_matrix(y_test, y_test_pred)))"
   ]
  },
  {
   "cell_type": "code",
   "execution_count": 45,
   "metadata": {},
   "outputs": [
    {
     "name": "stdout",
     "output_type": "stream",
     "text": [
      "[0]\n"
     ]
    }
   ],
   "source": [
    "random_idx = np.random.randint(low=0, high=overexp_len-1)\n",
    "overexp_img = overexp_images[random_idx]\n",
    "org_size = overexp_org_sizes[random_idx]\n",
    "rescaled_shape = (int(org_size[0] * RESCALING_FACTOR), int(org_size[1] * RESCALING_FACTOR)) \n",
    "print(ovo_clf.predict([overexp_img]))"
   ]
  },
  {
   "cell_type": "code",
   "execution_count": 46,
   "metadata": {},
   "outputs": [
    {
     "name": "stderr",
     "output_type": "stream",
     "text": [
      "c:\\users\\administrator\\anaconda3\\envs\\ottawa\\lib\\site-packages\\skimage\\transform\\_warps.py:23: UserWarning: The default multichannel argument (None) is deprecated.  Please specify either True or False explicitly.  multichannel will default to False starting with release 0.16.\n",
      "  warn('The default multichannel argument (None) is deprecated.  Please '\n"
     ]
    }
   ],
   "source": [
    "color_images = get_all_images(DATASET_DIRNAME, RESCALING_FACTOR, RGB=True, flatten=False)"
   ]
  },
  {
   "cell_type": "code",
   "execution_count": 52,
   "metadata": {},
   "outputs": [],
   "source": [
    "# defining the over-exposed images and labels\n",
    "overexp_images, overexp_org_sizes = get_images_by_keywords(color_images, OVEREXPOSED_KEYWORDS)\n",
    "overexp_labels = generate_labels_list(len(overexp_images), 0)\n",
    "# defining the under-exposed images and labels\n",
    "underexp_images, underexp_org_sizes = get_images_by_keywords(color_images, UNDEREXPOSED_KEYWORDS)\n",
    "underexp_labels = generate_labels_list(len(underexp_images), 1)\n",
    "# defining the regular images and labels\n",
    "reg_images, reg_org_sizes = get_images_by_keywords(color_images, REGULAR_KEYWORDS)\n",
    "reg_labels = generate_labels_list(len(reg_images), 2)\n",
    "# defining the non-uniform images and labels\n",
    "nonuni_images, nonuni_org_sizes = get_images_by_keywords(color_images, NONUNI_KEYWORDS)\n",
    "nonuni_labels = generate_labels_list(len(nonuni_images), 2)\n",
    "# defining length of the data\n",
    "overexp_len = len(overexp_images)\n",
    "underexp_len = len(underexp_images)\n",
    "reg_len = len(reg_images) + len(nonuni_images)"
   ]
  },
  {
   "cell_type": "code",
   "execution_count": 61,
   "metadata": {},
   "outputs": [
    {
     "name": "stdout",
     "output_type": "stream",
     "text": [
      "(256,)\n",
      "False\n"
     ]
    }
   ],
   "source": [
    "print(skimage.exposure.histogram(overexp_images[0])[0].shape)"
   ]
  },
  {
   "cell_type": "code",
   "execution_count": 53,
   "metadata": {},
   "outputs": [
    {
     "data": {
      "image/png": "[encoded data removed]",
      "text/plain": [
       "<Figure size 432x288 with 1 Axes>"
      ]
     },
     "metadata": {
      "needs_background": "light"
     },
     "output_type": "display_data"
    }
   ],
   "source": [
    "plot_image(overexp_images[0])"
   ]
  }
 ],
 "metadata": {
  "kernelspec": {
   "display_name": "Python 3",
   "language": "python",
   "name": "python3"
  },
  "language_info": {
   "codemirror_mode": {
    "name": "ipython",
    "version": 3
   },
   "file_extension": ".py",
   "mimetype": "text/x-python",
   "name": "python",
   "nbconvert_exporter": "python",
   "pygments_lexer": "ipython3",
   "version": "3.6.9"
  }
 },
 "nbformat": 4,
 "nbformat_minor": 2
}
