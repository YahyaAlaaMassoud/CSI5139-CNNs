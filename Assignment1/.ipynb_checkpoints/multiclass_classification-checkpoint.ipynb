{
 "cells": [
  {
   "cell_type": "code",
   "execution_count": 1,
   "metadata": {},
   "outputs": [],
   "source": [
    "%matplotlib inline\n",
    "import os\n",
    "import skimage\n",
    "from skimage.transform import rescale, resize\n",
    "import matplotlib\n",
    "import matplotlib.pyplot as plt\n",
    "import ntpath\n",
    "import numpy as np"
   ]
  },
  {
   "cell_type": "code",
   "execution_count": 22,
   "metadata": {},
   "outputs": [],
   "source": [
    "# Global Variables\n",
    "DATASET_DIRNAME = \"Phos2_0_2MP\"\n",
    "RESCALING_FACTOR = 1. / 5.\n",
    "OVEREXPOSED_KEYWORDS = [\"_plus_\"]\n",
    "UNDEREXPOSED_KEYWORDS = [\"_minus_\"]\n",
    "REGULAR_KEYWORDS = [\"_uni_\", \"_0\"]\n",
    "NONUNI_KEYWORDS = [\"_nonuni_\"]"
   ]
  },
  {
   "cell_type": "code",
   "execution_count": 10,
   "metadata": {},
   "outputs": [],
   "source": [
    "# returns a list of subdirectories under a specific directory\n",
    "def get_subdirectories(dir_name):\n",
    "    if (os.path.isdir(dir_name)):\n",
    "        return [os.path.join(dir_name, subdir_name) for subdir_name in os.listdir(dir_name) if os.path.isdir(os.path.join(dir_name, subdir_name))]\n",
    "    else:\n",
    "        return []"
   ]
  },
  {
   "cell_type": "code",
   "execution_count": 11,
   "metadata": {},
   "outputs": [],
   "source": [
    "# returns a list of all image files ending with '.png' in that specific directory\n",
    "def get_files_within_dir(dir_name):\n",
    "    if (os.path.isdir(dir_name)):\n",
    "        return [os.path.join(dir_name, file_name) for file_name in os.listdir(dir_name) if file_name.endswith('.png')]\n",
    "    else:\n",
    "        return []"
   ]
  },
  {
   "cell_type": "code",
   "execution_count": 12,
   "metadata": {},
   "outputs": [],
   "source": [
    "# gets a list of images' filenames, rescaling factor, and either the images will be RGB or grayscale\n",
    "# returns a pair (image's np.ndarray either RGB or grayscale, filename)\n",
    "def read_images_from_files(filenames, rescale_factor, rgb=True, flatten=False):\n",
    "    # get a single image's filename to read it\n",
    "    # returns the rescaled image\n",
    "    def read_image_from_file(filename):\n",
    "        img = skimage.io.imread(filename)\n",
    "        img = rescale(img, rescale_factor, anti_aliasing=True)\n",
    "        if (flatten==True):\n",
    "            img = img.flatten()\n",
    "        if (rgb == True):\n",
    "            return img\n",
    "        else:\n",
    "            return skimage.color.rgb2gray(img)\n",
    "        \n",
    "    return [(read_image_from_file(filename), filename) for filename in filenames]"
   ]
  },
  {
   "cell_type": "code",
   "execution_count": 13,
   "metadata": {},
   "outputs": [],
   "source": [
    "# get dataset directory name, rescaling factor to be applied for all the images and whether the dataset will be RGB or grayscale\n",
    "# return a list of all images found along with each image filename\n",
    "def get_all_images(dataset_dirname, rescale_factor, RGB=True):\n",
    "    subdirectories = get_subdirectories(dataset_dirname)\n",
    "    all_images = []\n",
    "    for subdir in subdirectories:\n",
    "        images_filenames = get_files_within_dir(subdir)\n",
    "        subdir_images = read_images_from_files(filenames=images_filenames, rescale_factor=rescale_factor, rgb=RGB)\n",
    "        all_images += subdir_images\n",
    "    return all_images"
   ]
  },
  {
   "cell_type": "code",
   "execution_count": 14,
   "metadata": {},
   "outputs": [],
   "source": [
    "def get_images_by_keywords(all_images, keywords):\n",
    "    \n",
    "    def keywords_found(filename):\n",
    "        found = True\n",
    "        image_filename = ntpath.basename(filename)\n",
    "        for keyword in keywords:\n",
    "            found = (found and (keyword in image_filename))\n",
    "        return found\n",
    "    \n",
    "    return [image[0] for image in all_images if keywords_found(image[1]) == True]"
   ]
  },
  {
   "cell_type": "code",
   "execution_count": 15,
   "metadata": {},
   "outputs": [],
   "source": [
    "images_data = get_all_images(DATASET_DIRNAME, RESCALING_FACTOR, RGB=False)"
   ]
  },
  {
   "cell_type": "code",
   "execution_count": 23,
   "metadata": {},
   "outputs": [],
   "source": [
    "# defining the over-exposed images and labels\n",
    "overexp_images = get_images_by_keywords(images_data, OVEREXPOSED_KEYWORDS)\n",
    "overexp_labels = np.zeros(len(overexp_images)).tolist()\n",
    "# defining the under-exposed images and labels\n",
    "underexp_images = get_images_by_keywords(images_data, UNDEREXPOSED_KEYWORDS)\n",
    "underexp_labels = np.ones(len(underexp_images)).tolist()\n",
    "# defining the regular images and labels\n",
    "reg_images = get_images_by_keywords(images_data, REGULAR_KEYWORDS)\n",
    "reg_labels = np.full(len(reg_images), 2).tolist()\n",
    "# defining the non-uniform images and labels\n",
    "nonuni_images = get_images_by_keywords(images_data, NONUNI_KEYWORDS)\n",
    "nonuni_labels = np.full(len(nonuni_images), 2).tolist()"
   ]
  },
  {
   "cell_type": "code",
   "execution_count": 24,
   "metadata": {},
   "outputs": [
    {
     "name": "stdout",
     "output_type": "stream",
     "text": [
      "Number of examples in over-exposed illumination pictures is: 60\n",
      "Number of examples in under-exposed illumination pictures is: 60\n",
      "Number of examples in non-uniform illumination pictures is: 90\n",
      "Number of examples in regular illumination pictures is: 15\n"
     ]
    }
   ],
   "source": [
    "print(\"Number of examples in over-exposed illumination pictures is: \" + str(len(overexp_images)))\n",
    "print(\"Number of examples in under-exposed illumination pictures is: \" + str(len(underexp_images)))\n",
    "print(\"Number of examples in non-uniform illumination pictures is: \" + str(len(nonuni_images)))\n",
    "print(\"Number of examples in regular illumination pictures is: \" + str(len(reg_images)))"
   ]
  },
  {
   "cell_type": "code",
   "execution_count": 25,
   "metadata": {},
   "outputs": [],
   "source": [
    "def plot_image(image, title=None):\n",
    "    plt.title(title)\n",
    "    plt.imshow(image,\n",
    "               cmap = matplotlib.cm.binary,\n",
    "               interpolation=\"nearest\")"
   ]
  },
  {
   "cell_type": "code",
   "execution_count": 27,
   "metadata": {},
   "outputs": [
    {
     "data": {
      "image/png": "[encoded data removed]",
      "text/plain": [
       "<Figure size 432x288 with 1 Axes>"
      ]
     },
     "metadata": {
      "needs_background": "light"
     },
     "output_type": "display_data"
    }
   ],
   "source": [
    "# plotting a random image from the images with over-exposed illumination\n",
    "plot_image(overexp_images[np.random.randint(low=0, high=len(overexp_images)-1)])"
   ]
  },
  {
   "cell_type": "code",
   "execution_count": 28,
   "metadata": {},
   "outputs": [
    {
     "data": {
      "image/png": "[encoded data removed]",
      "text/plain": [
       "<Figure size 432x288 with 1 Axes>"
      ]
     },
     "metadata": {
      "needs_background": "light"
     },
     "output_type": "display_data"
    }
   ],
   "source": [
    "# plotting a random image from the images with under-exposed illumination\n",
    "plot_image(underexp_images[np.random.randint(low=0, high=len(underexp_images)-1)])"
   ]
  },
  {
   "cell_type": "code",
   "execution_count": 29,
   "metadata": {},
   "outputs": [
    {
     "data": {
      "image/png": "[encoded data removed]",
      "text/plain": [
       "<Figure size 432x288 with 1 Axes>"
      ]
     },
     "metadata": {
      "needs_background": "light"
     },
     "output_type": "display_data"
    }
   ],
   "source": [
    "# plotting a random image from the images with regular illumination\n",
    "plot_image(reg_images[np.random.randint(low=0, high=len(reg_images)-1)])"
   ]
  },
  {
   "cell_type": "code",
   "execution_count": 30,
   "metadata": {},
   "outputs": [
    {
     "data": {
      "image/png": "[encoded data removed]",
      "text/plain": [
       "<Figure size 432x288 with 1 Axes>"
      ]
     },
     "metadata": {
      "needs_background": "light"
     },
     "output_type": "display_data"
    }
   ],
   "source": [
    "# plotting a random image from the images with non-uniform illumination\n",
    "plot_image(nonuni_images[np.random.randint(low=0, high=len(nonuni_images)-1)])"
   ]
  },
  {
   "cell_type": "code",
   "execution_count": 31,
   "metadata": {},
   "outputs": [],
   "source": [
    "X = np.asarray(overexp_images + underexp_images + reg_images + nonuni_images)\n",
    "y = np.asarray(overexp_labels + underexp_labels + reg_labels + nonuni_labels)"
   ]
  },
  {
   "cell_type": "code",
   "execution_count": 60,
   "metadata": {},
   "outputs": [
    {
     "name": "stdout",
     "output_type": "stream",
     "text": [
      "(68, 102)\n"
     ]
    },
    {
     "data": {
      "image/png": "[encoded data removed]",
      "text/plain": [
       "<Figure size 432x288 with 1 Axes>"
      ]
     },
     "metadata": {
      "needs_background": "light"
     },
     "output_type": "display_data"
    }
   ],
   "source": [
    "# plotting a random image from the whole dataset and stating its label\n",
    "random_idx = np.random.randint(low=0, high=len(X)-1)\n",
    "random_image = X[random_idx]\n",
    "print(random_image.shape)\n",
    "if (y[random_idx] == 0):\n",
    "    image_title = \"Over-exposed illumination\"\n",
    "elif (y[random_idx] == 1):\n",
    "    image_title = \"Under-exposed illumination\"\n",
    "else:\n",
    "    image_title = \"Regular illumination\"\n",
    "plot_image(random_image, title=image_title)"
   ]
  },
  {
   "cell_type": "code",
   "execution_count": 61,
   "metadata": {},
   "outputs": [],
   "source": [
    "def flatten_images(images):\n",
    "    return [image.flatten() for image in images]"
   ]
  },
  {
   "cell_type": "code",
   "execution_count": 62,
   "metadata": {},
   "outputs": [],
   "source": [
    "def shuffle_data(X, y):\n",
    "    if (len(X) != len(y)):\n",
    "        return None\n",
    "    p = np.random.permutation(len(X))\n",
    "    return X[p], y[p]"
   ]
  },
  {
   "cell_type": "code",
   "execution_count": 63,
   "metadata": {},
   "outputs": [
    {
     "name": "stdout",
     "output_type": "stream",
     "text": [
      "Shape of X matrix after flatteining all the images is: (225, 6936)\n"
     ]
    }
   ],
   "source": [
    "flattened_X = np.asarray(flatten_images(X))\n",
    "print(\"Shape of X matrix after flatteining all the images is: \" + str(flattened_X.shape))"
   ]
  },
  {
   "cell_type": "code",
   "execution_count": 64,
   "metadata": {},
   "outputs": [],
   "source": [
    "shuffled_X, shuffled_y = shuffle_data(flattened_X, y)"
   ]
  },
  {
   "cell_type": "code",
   "execution_count": 65,
   "metadata": {},
   "outputs": [],
   "source": [
    "from sklearn.model_selection import train_test_split\n",
    "\n",
    "X_train, X_test, y_train, y_test = train_test_split(shuffled_X, shuffled_y, test_size=0.2, random_state=42)"
   ]
  },
  {
   "cell_type": "code",
   "execution_count": 68,
   "metadata": {},
   "outputs": [
    {
     "name": "stderr",
     "output_type": "stream",
     "text": [
      "c:\\users\\administrator\\anaconda3\\envs\\ottawa\\lib\\site-packages\\sklearn\\linear_model\\stochastic_gradient.py:561: ConvergenceWarning: Maximum number of iteration reached before convergence. Consider increasing max_iter to improve the fit.\n",
      "  ConvergenceWarning)\n"
     ]
    },
    {
     "data": {
      "text/plain": [
       "OneVsOneClassifier(estimator=SGDClassifier(alpha=0.0001, average=False,\n",
       "                                           class_weight=None,\n",
       "                                           early_stopping=False, epsilon=0.1,\n",
       "                                           eta0=0.0, fit_intercept=True,\n",
       "                                           l1_ratio=0.15,\n",
       "                                           learning_rate='optimal',\n",
       "                                           loss='hinge', max_iter=30,\n",
       "                                           n_iter_no_change=5, n_jobs=None,\n",
       "                                           penalty='l2', power_t=0.5,\n",
       "                                           random_state=42, shuffle=True,\n",
       "                                           tol=0.001, validation_fraction=0.1,\n",
       "                                           verbose=0, warm_start=False),\n",
       "                   n_jobs=None)"
      ]
     },
     "execution_count": 68,
     "metadata": {},
     "output_type": "execute_result"
    }
   ],
   "source": [
    "from sklearn.linear_model import SGDClassifier\n",
    "from sklearn.multiclass import OneVsOneClassifier\n",
    "\n",
    "ovo_clf = OneVsOneClassifier(SGDClassifier(max_iter=30, random_state=42))\n",
    "ovo_clf.fit(X_train, y_train)"
   ]
  },
  {
   "cell_type": "code",
   "execution_count": 77,
   "metadata": {
    "scrolled": true
   },
   "outputs": [
    {
     "name": "stdout",
     "output_type": "stream",
     "text": [
      "Classifier scores on training set: \n",
      "Accuracy is 0.8388888888888889 \n",
      "And the confusion matrix: \n",
      " [[39  0  8]\n",
      " [ 0 30 19]\n",
      " [ 2  0 82]]\n"
     ]
    }
   ],
   "source": [
    "from sklearn.metrics import accuracy_score, precision_score, recall_score, f1_score, confusion_matrix\n",
    "\n",
    "y_pred = ovo_clf.predict(X_train)\n",
    "print('Classifier scores on training set: ')\n",
    "print('Accuracy is {0} '.format(accuracy_score(y_train, y_pred)))\n",
    "print('And the confusion matrix: \\n {0}'.format(confusion_matrix(y_train, y_pred)))"
   ]
  },
  {
   "cell_type": "code",
   "execution_count": 79,
   "metadata": {},
   "outputs": [
    {
     "name": "stdout",
     "output_type": "stream",
     "text": [
      "Classifier scores on training set: \n",
      "Accuracy is 0.7333333333333333 \n",
      "And the confusion matrix: \n",
      " [[ 9  0  4]\n",
      " [ 0  5  6]\n",
      " [ 2  0 19]]\n"
     ]
    }
   ],
   "source": [
    "from sklearn.metrics import accuracy_score, precision_score, recall_score, f1_score, confusion_matrix\n",
    "\n",
    "y_pred = ovo_clf.predict(X_test)\n",
    "print('Classifier scores on training set: ')\n",
    "print('Accuracy is {0} '.format(accuracy_score(y_test, y_pred)))\n",
    "print('And the confusion matrix: \\n {0}'.format(confusion_matrix(y_test, y_pred)))"
   ]
  }
 ],
 "metadata": {
  "kernelspec": {
   "display_name": "Python 3",
   "language": "python",
   "name": "python3"
  },
  "language_info": {
   "codemirror_mode": {
    "name": "ipython",
    "version": 3
   },
   "file_extension": ".py",
   "mimetype": "text/x-python",
   "name": "python",
   "nbconvert_exporter": "python",
   "pygments_lexer": "ipython3",
   "version": "3.6.9"
  }
 },
 "nbformat": 4,
 "nbformat_minor": 2
}
