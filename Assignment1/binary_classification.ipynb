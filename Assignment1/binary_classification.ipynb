{
 "cells": [
  {
   "cell_type": "code",
   "execution_count": 291,
   "metadata": {},
   "outputs": [],
   "source": [
    "%matplotlib inline\n",
    "import os\n",
    "import skimage\n",
    "from skimage.transform import rescale, resize\n",
    "import matplotlib\n",
    "import matplotlib.pyplot as plt\n",
    "import ntpath\n",
    "import numpy as np"
   ]
  },
  {
   "cell_type": "code",
   "execution_count": 292,
   "metadata": {},
   "outputs": [],
   "source": [
    "# Global Variables\n",
    "DATASET_DIRNAME = \"Phos2_0_2MP\"\n",
    "RESCALING_FACTOR = 1. / 5.\n",
    "NONUNI_KEYWORDS = [\"_nonuni_\"]\n",
    "UNI_KEYWORDS = [\"_uni_\"]"
   ]
  },
  {
   "cell_type": "code",
   "execution_count": 293,
   "metadata": {},
   "outputs": [],
   "source": [
    "# returns a list of subdirectories under a specific directory\n",
    "def get_subdirectories(dir_name):\n",
    "    if (os.path.isdir(dir_name)):\n",
    "        return [os.path.join(dir_name, subdir_name) for subdir_name in os.listdir(dir_name) if os.path.isdir(os.path.join(dir_name, subdir_name))]\n",
    "    else:\n",
    "        return []"
   ]
  },
  {
   "cell_type": "code",
   "execution_count": 294,
   "metadata": {},
   "outputs": [],
   "source": [
    "# returns a list of all image files ending with '.png' in that specific directory\n",
    "def get_files_within_dir(dir_name):\n",
    "    if (os.path.isdir(dir_name)):\n",
    "        return [os.path.join(dir_name, file_name) for file_name in os.listdir(dir_name) if file_name.endswith('.png')]\n",
    "    else:\n",
    "        return []"
   ]
  },
  {
   "cell_type": "code",
   "execution_count": 295,
   "metadata": {},
   "outputs": [],
   "source": [
    "# gets a list of images' filenames, rescaling factor, and either the images will be RGB or grayscale\n",
    "# returns a pair (image's np.ndarray either RGB or grayscale, filename)\n",
    "def read_images_from_files(filenames, rescale_factor, rgb=True, flatten=False):\n",
    "    # get a single image's filename to read it\n",
    "    # returns the rescaled image\n",
    "    def read_image_from_file(filename):\n",
    "        img = skimage.io.imread(filename)\n",
    "        img = rescale(img, rescale_factor, anti_aliasing=True)\n",
    "        if (flatten==True):\n",
    "            img = img.flatten()\n",
    "        if (rgb == True):\n",
    "            return img\n",
    "        else:\n",
    "            return skimage.color.rgb2gray(img)\n",
    "        \n",
    "    return [(read_image_from_file(filename), filename) for filename in filenames]"
   ]
  },
  {
   "cell_type": "code",
   "execution_count": 296,
   "metadata": {},
   "outputs": [],
   "source": [
    "# get dataset directory name, rescaling factor to be applied for all the images and whether the dataset will be RGB or grayscale\n",
    "# return a list of all images found along with each image filename\n",
    "def get_all_images(dataset_dirname, rescale_factor, RGB=True):\n",
    "    subdirectories = get_subdirectories(dataset_dirname)\n",
    "    all_images = []\n",
    "    for subdir in subdirectories:\n",
    "        images_filenames = get_files_within_dir(subdir)\n",
    "        subdir_images = read_images_from_files(filenames=images_filenames, rescale_factor=rescale_factor, rgb=RGB)\n",
    "        all_images += subdir_images\n",
    "    return all_images"
   ]
  },
  {
   "cell_type": "code",
   "execution_count": 297,
   "metadata": {},
   "outputs": [],
   "source": [
    "def get_images_by_keywords(all_images, keywords):\n",
    "    \n",
    "    def keywords_found(filename):\n",
    "        found = True\n",
    "        image_filename = ntpath.basename(filename)\n",
    "        for keyword in keywords:\n",
    "            found = (found and (keyword in image_filename))\n",
    "        return found\n",
    "    \n",
    "    return [image[0] for image in all_images if keywords_found(image[1]) == True]"
   ]
  },
  {
   "cell_type": "code",
   "execution_count": 298,
   "metadata": {},
   "outputs": [
    {
     "name": "stderr",
     "output_type": "stream",
     "text": [
      "c:\\users\\administrator\\anaconda3\\envs\\ottawa\\lib\\site-packages\\skimage\\transform\\_warps.py:23: UserWarning: The default multichannel argument (None) is deprecated.  Please specify either True or False explicitly.  multichannel will default to False starting with release 0.16.\n",
      "  warn('The default multichannel argument (None) is deprecated.  Please '\n"
     ]
    }
   ],
   "source": [
    "images_data = get_all_images(DATASET_DIRNAME, RESCALING_FACTOR, RGB=False)"
   ]
  },
  {
   "cell_type": "code",
   "execution_count": 299,
   "metadata": {},
   "outputs": [],
   "source": [
    "# defining the uniform images and labels\n",
    "uni_images = get_images_by_keywords(images_data, UNI_KEYWORDS)\n",
    "uni_labels = np.ones(len(uni_images)).tolist()\n",
    "# defining the non-uniform images and labels\n",
    "nonuni_images = get_images_by_keywords(images_data, NONUNI_KEYWORDS)\n",
    "nonuni_labels = np.zeros(len(nonuni_images)).tolist()"
   ]
  },
  {
   "cell_type": "code",
   "execution_count": 300,
   "metadata": {},
   "outputs": [
    {
     "name": "stdout",
     "output_type": "stream",
     "text": [
      "Number of examples on uniform illumination pictures is: 135\n",
      "Number of examples on non-uniform illumination pictures is: 90\n"
     ]
    }
   ],
   "source": [
    "print(\"Number of examples on uniform illumination pictures is: \" + str(len(uni_images)))\n",
    "print(\"Number of examples on non-uniform illumination pictures is: \" + str(len(nonuni_images)))"
   ]
  },
  {
   "cell_type": "code",
   "execution_count": 301,
   "metadata": {},
   "outputs": [],
   "source": [
    "def plot_image(image, title=None):\n",
    "    plt.title(title)\n",
    "    plt.imshow(image,\n",
    "               cmap = matplotlib.cm.binary,\n",
    "               interpolation=\"nearest\")"
   ]
  },
  {
   "cell_type": "code",
   "execution_count": 302,
   "metadata": {},
   "outputs": [
    {
     "data": {
      "image/png": "[encoded data removed]",
      "text/plain": [
       "<Figure size 432x288 with 1 Axes>"
      ]
     },
     "metadata": {
      "needs_background": "light"
     },
     "output_type": "display_data"
    }
   ],
   "source": [
    "# plotting a random image from the images with uniform illumination\n",
    "plot_image(uni_images[np.random.randint(low=0, high=len(uni_images)-1)])"
   ]
  },
  {
   "cell_type": "code",
   "execution_count": 303,
   "metadata": {},
   "outputs": [
    {
     "data": {
      "image/png": "[encoded data removed]",
      "text/plain": [
       "<Figure size 432x288 with 1 Axes>"
      ]
     },
     "metadata": {
      "needs_background": "light"
     },
     "output_type": "display_data"
    }
   ],
   "source": [
    "# plotting a random image from the images with non-uniform illumination\n",
    "plot_image(nonuni_images[np.random.randint(low=0, high=len(nonuni_images)-1)])"
   ]
  },
  {
   "cell_type": "code",
   "execution_count": 304,
   "metadata": {},
   "outputs": [],
   "source": [
    "X = np.asarray(uni_images + nonuni_images)\n",
    "y = np.asarray(uni_labels + nonuni_labels)"
   ]
  },
  {
   "cell_type": "code",
   "execution_count": 305,
   "metadata": {},
   "outputs": [
    {
     "name": "stdout",
     "output_type": "stream",
     "text": [
      "(68, 102)\n"
     ]
    },
    {
     "data": {
      "image/png": "[encoded data removed]",
      "text/plain": [
       "<Figure size 432x288 with 1 Axes>"
      ]
     },
     "metadata": {
      "needs_background": "light"
     },
     "output_type": "display_data"
    }
   ],
   "source": [
    "# plotting a random image from the whole dataset and stating its label\n",
    "random_idx = np.random.randint(low=0, high=len(X)-1)\n",
    "random_image = X[random_idx]\n",
    "print(random_image.shape)\n",
    "image_title = \"Uniform illumination\" if (y[random_idx] == 1) else \"Non-uniform illumination\"\n",
    "plot_image(random_image, title=image_title)"
   ]
  },
  {
   "cell_type": "code",
   "execution_count": 306,
   "metadata": {},
   "outputs": [],
   "source": [
    "def flatten_images(images):\n",
    "    return [image.flatten() for image in images]"
   ]
  },
  {
   "cell_type": "code",
   "execution_count": 307,
   "metadata": {},
   "outputs": [],
   "source": [
    "def shuffle_data(X, y):\n",
    "    if (len(X) != len(y)):\n",
    "        return None\n",
    "    p = np.random.permutation(len(X))\n",
    "    return X[p], y[p]"
   ]
  },
  {
   "cell_type": "code",
   "execution_count": 308,
   "metadata": {},
   "outputs": [
    {
     "name": "stdout",
     "output_type": "stream",
     "text": [
      "Shape of X matrix after flatteining all the images is: (225, 6936)\n"
     ]
    }
   ],
   "source": [
    "flattened_X = np.asarray(flatten_images(X))\n",
    "print(\"Shape of X matrix after flatteining all the images is: \" + str(flattened_X.shape))"
   ]
  },
  {
   "cell_type": "code",
   "execution_count": 309,
   "metadata": {},
   "outputs": [],
   "source": [
    "shuffled_X, shuffled_y = shuffle_data(flattened_X, y)"
   ]
  },
  {
   "cell_type": "code",
   "execution_count": 310,
   "metadata": {},
   "outputs": [],
   "source": [
    "from sklearn.model_selection import train_test_split\n",
    "\n",
    "X_train, X_test, y_train, y_test = train_test_split(shuffled_X, shuffled_y, test_size=0.2, random_state=42)"
   ]
  },
  {
   "cell_type": "code",
   "execution_count": 311,
   "metadata": {},
   "outputs": [
    {
     "data": {
      "text/plain": [
       "LogisticRegression(C=1.0, class_weight=None, dual=False, fit_intercept=True,\n",
       "                   intercept_scaling=1, l1_ratio=None, max_iter=30,\n",
       "                   multi_class='warn', n_jobs=None, penalty='l2',\n",
       "                   random_state=None, solver='liblinear', tol=0.01, verbose=0,\n",
       "                   warm_start=False)"
      ]
     },
     "execution_count": 311,
     "metadata": {},
     "output_type": "execute_result"
    }
   ],
   "source": [
    "from sklearn.linear_model import LogisticRegression\n",
    "\n",
    "bin_clf = LogisticRegression(max_iter=30, tol=0.01, solver='liblinear')\n",
    "bin_clf.fit(X_train, y_train)"
   ]
  },
  {
   "cell_type": "code",
   "execution_count": 312,
   "metadata": {
    "scrolled": true
   },
   "outputs": [
    {
     "name": "stdout",
     "output_type": "stream",
     "text": [
      "Classifier scores on training set: \n",
      "Accuracy is 0.9944444444444445 \n",
      "Precision is 0.9904761904761905 \n",
      "Recall is 1.0 \n",
      "F1 is 0.9952153110047847 \n",
      "And the confusion matrix: \n",
      " [[ 75   1]\n",
      " [  0 104]]\n"
     ]
    }
   ],
   "source": [
    "from sklearn.metrics import accuracy_score, precision_score, recall_score, f1_score, confusion_matrix\n",
    "\n",
    "y_pred = bin_clf.predict(X_train)\n",
    "print('Classifier scores on training set: ')\n",
    "print('Accuracy is {0} '.format(accuracy_score(y_train, y_pred)))\n",
    "print('Precision is {0} '.format(precision_score(y_train, y_pred)))\n",
    "print('Recall is {0} '.format(recall_score(y_train, y_pred)))\n",
    "print('F1 is {0} '.format(f1_score(y_train, y_pred)))\n",
    "print('And the confusion matrix: \\n {0}'.format(confusion_matrix(y_train, y_pred)))"
   ]
  },
  {
   "cell_type": "code",
   "execution_count": 313,
   "metadata": {},
   "outputs": [
    {
     "name": "stdout",
     "output_type": "stream",
     "text": [
      "Classifier scores on training set: \n",
      "Accuracy is 0.9555555555555556 \n",
      "Precision is 0.9393939393939394 \n",
      "Recall is 1.0 \n",
      "F1 is 0.96875 \n",
      "And the confusion matrix: \n",
      " [[12  2]\n",
      " [ 0 31]]\n"
     ]
    }
   ],
   "source": [
    "from sklearn.metrics import accuracy_score, precision_score, recall_score, f1_score, confusion_matrix\n",
    "\n",
    "y_pred = bin_clf.predict(X_test)\n",
    "print('Classifier scores on training set: ')\n",
    "print('Accuracy is {0} '.format(accuracy_score(y_test, y_pred)))\n",
    "print('Precision is {0} '.format(precision_score(y_test, y_pred)))\n",
    "print('Recall is {0} '.format(recall_score(y_test, y_pred)))\n",
    "print('F1 is {0} '.format(f1_score(y_test, y_pred)))\n",
    "print('And the confusion matrix: \\n {0}'.format(confusion_matrix(y_test, y_pred)))"
   ]
  }
 ],
 "metadata": {
  "kernelspec": {
   "display_name": "Python 3",
   "language": "python",
   "name": "python3"
  },
  "language_info": {
   "codemirror_mode": {
    "name": "ipython",
    "version": 3
   },
   "file_extension": ".py",
   "mimetype": "text/x-python",
   "name": "python",
   "nbconvert_exporter": "python",
   "pygments_lexer": "ipython3",
   "version": "3.6.9"
  }
 },
 "nbformat": 4,
 "nbformat_minor": 2
}
