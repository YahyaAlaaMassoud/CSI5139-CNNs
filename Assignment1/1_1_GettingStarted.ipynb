{
 "cells": [
  {
   "cell_type": "code",
   "execution_count": 1,
   "metadata": {},
   "outputs": [],
   "source": [
    "%matplotlib inline\n",
    "import os\n",
    "import skimage\n",
    "from skimage.transform import rescale, resize\n",
    "import matplotlib\n",
    "import matplotlib.pyplot as plt\n",
    "import ntpath"
   ]
  },
  {
   "cell_type": "code",
   "execution_count": 2,
   "metadata": {},
   "outputs": [],
   "source": [
    "# Global Variables\n",
    "DATASET_DIRNAME = \"Phos2_0_2MP\"\n",
    "RESCALING_FACTOR = 1. / 5.\n",
    "NONUNI_KEYWORD = \"nonuni\"\n",
    "UNI_KEYWORD = \"uni\""
   ]
  },
  {
   "cell_type": "code",
   "execution_count": 3,
   "metadata": {},
   "outputs": [],
   "source": [
    "# returns a list of subdirectories under a specific directory\n",
    "def get_subdirectories(dir_name):\n",
    "    if (os.path.isdir(dir_name)):\n",
    "        return [os.path.join(dir_name, subdir_name) for subdir_name in os.listdir(dir_name) if os.path.isdir(os.path.join(dir_name, subdir_name))]\n",
    "    else:\n",
    "        return []"
   ]
  },
  {
   "cell_type": "code",
   "execution_count": 4,
   "metadata": {},
   "outputs": [],
   "source": [
    "# returns a list of all image files ending with '.png' in that specific directory\n",
    "def get_files_within_dir(dir_name):\n",
    "    if (os.path.isdir(dir_name)):\n",
    "        return [os.path.join(dir_name, file_name) for file_name in os.listdir(dir_name) if file_name.endswith('.png')]\n",
    "    else:\n",
    "        return []"
   ]
  },
  {
   "cell_type": "code",
   "execution_count": 5,
   "metadata": {},
   "outputs": [],
   "source": [
    "# gets a list of images' filenames, rescaling factor, and either the images will be RGB or grayscale\n",
    "# returns a pair (image's np.ndarray either RGB or grayscale, filename)\n",
    "def read_images_from_files(filenames, rescale_factor, rgb=True):\n",
    "    # get a single image's filename to read it\n",
    "    # returns the rescaled image\n",
    "    def read_image_from_file(filename):\n",
    "        img = skimage.io.imread(filename)\n",
    "        img = rescale(img, rescale_factor, anti_aliasing=True)\n",
    "        if (rgb == True):\n",
    "            return img\n",
    "        else:\n",
    "            return skimage.color.rgb2gray(img)\n",
    "        \n",
    "    return [(read_image_from_file(filename), filename) for filename in filenames]"
   ]
  },
  {
   "cell_type": "code",
   "execution_count": 6,
   "metadata": {},
   "outputs": [],
   "source": [
    "# get dataset directory name, rescaling factor to be applied for all the images and whether the dataset will be RGB or grayscale\n",
    "# return a list of all images found along with each image filename\n",
    "def get_all_images(dataset_dirname, rescale_factor, RGB=True):\n",
    "    subdirectories = get_subdirectories(dataset_dirname)\n",
    "    all_images = []\n",
    "    for subdir in subdirectories:\n",
    "        images_filenames = get_files_within_dir(subdir)\n",
    "        subdir_images = read_images_from_files(images_filenames, rescale_factor, RGB)\n",
    "        all_images += subdir_images\n",
    "    return all_images"
   ]
  },
  {
   "cell_type": "code",
   "execution_count": 11,
   "metadata": {},
   "outputs": [],
   "source": [
    "def get_images_by_keywords(all_images, keywords):\n",
    "    \n",
    "    def keywords_found(filename):\n",
    "        found = True\n",
    "        image_filename = ntpath.basename(filename)\n",
    "        for keyword in keywords:\n",
    "            found = (found and (keyword in image_filename))\n",
    "        if (found):\n",
    "            print()\n",
    "        return found\n",
    "    \n",
    "    return [image[0] for image in all_images if keywords_found(image[1]) == True]"
   ]
  },
  {
   "cell_type": "code",
   "execution_count": 8,
   "metadata": {},
   "outputs": [
    {
     "name": "stderr",
     "output_type": "stream",
     "text": [
      "c:\\users\\administrator\\anaconda3\\envs\\ottawa\\lib\\site-packages\\skimage\\transform\\_warps.py:23: UserWarning: The default multichannel argument (None) is deprecated.  Please specify either True or False explicitly.  multichannel will default to False starting with release 0.16.\n",
      "  warn('The default multichannel argument (None) is deprecated.  Please '\n"
     ]
    }
   ],
   "source": [
    "images_data = get_all_images(DATASET_DIRNAME, RESCALING_FACTOR, RGB=True)\n",
    "#     print(\"subdirectory: \" + subdir + \" contains \" + str(len(images_filenames)) + \" images\")\n",
    "#     plt.imshow(images[0][0], cmap = matplotlib.cm.binary, interpolation=\"nearest\")"
   ]
  },
  {
   "cell_type": "code",
   "execution_count": 12,
   "metadata": {},
   "outputs": [],
   "source": [
    "uni_images = get_images_by_keywords(images_data, [\"_uni_\", \"0\"])\n",
    "# nonuni_images = get_images_by_keywords(images_data, [\"_nonuni_\"])\n",
    "# underexposed_images = get_images_by_keywords(images_data, [\"_minus_\"])\n",
    "# overexposed_images = get_images_by_keywords(images_data, [\"_plus_\"])"
   ]
  },
  {
   "cell_type": "code",
   "execution_count": 13,
   "metadata": {},
   "outputs": [
    {
     "name": "stdout",
     "output_type": "stream",
     "text": [
      "23 90 60 60\n"
     ]
    }
   ],
   "source": [
    "print(len(uni_images), len(nonuni_images), len(underexposed_images), len(overexposed_images))"
   ]
  }
 ],
 "metadata": {
  "kernelspec": {
   "display_name": "Python 3",
   "language": "python",
   "name": "python3"
  },
  "language_info": {
   "codemirror_mode": {
    "name": "ipython",
    "version": 3
   },
   "file_extension": ".py",
   "mimetype": "text/x-python",
   "name": "python",
   "nbconvert_exporter": "python",
   "pygments_lexer": "ipython3",
   "version": "3.6.9"
  }
 },
 "nbformat": 4,
 "nbformat_minor": 2
}
