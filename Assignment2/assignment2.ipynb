{
 "cells": [
  {
   "cell_type": "markdown",
   "metadata": {},
   "source": [
    "# 1"
   ]
  },
  {
   "cell_type": "markdown",
   "metadata": {},
   "source": [
    "### Importing all the packages that are going to be used thoughout the assignment. "
   ]
  },
  {
   "cell_type": "code",
   "execution_count": 1,
   "metadata": {},
   "outputs": [
    {
     "data": {
      "application/javascript": [
       "IPython.notebook.set_autosave_interval(60000)"
      ]
     },
     "metadata": {},
     "output_type": "display_data"
    },
    {
     "name": "stdout",
     "output_type": "stream",
     "text": [
      "Autosaving every 60 seconds\n"
     ]
    }
   ],
   "source": [
    "# ! pip install numpy\n",
    "# ! pip install matplotlib\n",
    "# ! pip install scikit-learn\n",
    "# ! pip install scikit-image\n",
    "\n",
    "%autosave 60\n",
    "%matplotlib inline\n",
    "import os\n",
    "import skimage\n",
    "from skimage.transform import rescale, resize\n",
    "import matplotlib\n",
    "import matplotlib.pyplot as plt\n",
    "import ntpath\n",
    "import numpy as np\n",
    "import cv2\n",
    "from PIL import Image\n",
    "import tensorflow as tf"
   ]
  },
  {
   "cell_type": "markdown",
   "metadata": {},
   "source": [
    "## <a name=\"1_1\">1.1 Getting Started</a>\n",
    "***\n",
    "I've used my implementation of the data reading part from Assignment 1 of this course, as I mentioned before it is generic and could be applied to any other data set."
   ]
  },
  {
   "cell_type": "code",
   "execution_count": 2,
   "metadata": {},
   "outputs": [],
   "source": [
    "def get_subdirectories(dir_name):\n",
    "    '''\n",
    "        This functions returns a list of all subdirectories' paths under a specific directory name.\n",
    "        \n",
    "        params:\n",
    "            dir_name: str\n",
    "        returns:\n",
    "            subdirectories_list: List[str]\n",
    "    '''\n",
    "    if (os.path.isdir(dir_name)):\n",
    "        return [os.path.join(dir_name, subdir_name) for subdir_name in os.listdir(dir_name) if os.path.isdir(os.path.join(dir_name, subdir_name))]\n",
    "    else:\n",
    "        return []\n",
    "\n",
    "def get_files_within_dir(dir_name, ext):\n",
    "    '''\n",
    "        This function returns all the files' paths withing a specific directory with the same extension as [ext]\n",
    "        \n",
    "        params:\n",
    "            dir_name: str\n",
    "            ext: str\n",
    "        returns:\n",
    "            all_files_found_list: List[str]\n",
    "    '''\n",
    "    if (os.path.isdir(dir_name)):\n",
    "        return [os.path.join(dir_name, file_name) for file_name in os.listdir(dir_name) if file_name.endswith(ext)]\n",
    "    else:\n",
    "        return []\n",
    "    \n",
    "def read_images_from_files(filenames, rescale_factor, rgb=True, flatten=False):\n",
    "    '''\n",
    "        This function takes a list of images' filenames, reads all the images, and return them based on some parameters given,\n",
    "        to the function as the rescaling factor, either RGB or grayscale, and either the image will be flattened or not\n",
    "        \n",
    "        params: \n",
    "            filenames: List[str]\n",
    "            rescale_factor: float\n",
    "            rgb: bool (optional) default=True\n",
    "            flatten: bool (optional) default=False\n",
    "        return:\n",
    "            List[Tuple[np.ndarray, Tuple[int, int], str]] -> List[(image, original_size, filename)]\n",
    "    '''\n",
    "    def read_image_from_file(filename):\n",
    "        '''\n",
    "            This function takes an image's filename, read the image pixels in either RGB or grayscale format as specified,\n",
    "            resizes the image with the given rescaling factor, flattens the image so it can be one vector on numbers,\n",
    "            and returns the preprocessed image and its original shape\n",
    "            \n",
    "            params: \n",
    "                filename: str\n",
    "            returns:\n",
    "                img: np.ndarray\n",
    "                org_size: Tuple[int, int]\n",
    "        '''\n",
    "        if rgb:\n",
    "            flag = 1\n",
    "        else:\n",
    "            flag = 0\n",
    "        img = np.asarray(Image.open(filename))#cv2.imread(filename, flag)\n",
    "        org_size = img.shape\n",
    "        img = cv2.resize(img, (int(org_size[0] * rescale_factor), int(org_size[1] * rescale_factor)))\n",
    "        \n",
    "        if (flatten==True):\n",
    "            img = img.flatten()\n",
    "        return img, org_size\n",
    "        \n",
    "    images = []\n",
    "    for filename in filenames:\n",
    "        img, org_size = read_image_from_file(filename)\n",
    "        images.append((img, org_size, filename))\n",
    "    return images\n",
    "\n",
    "def get_all_images(dataset_dirname, rescale_factor, RGB=True, flatten=False):\n",
    "    '''\n",
    "        This function acts as the main API function, and is responsible for fetching and preprocessing all the images\n",
    "        within the dataset directory, it uses the already defined helper functions\n",
    "        \n",
    "        params:\n",
    "            dataset_dirname: str\n",
    "            rescale_factor: float\n",
    "            RGB: bool\n",
    "            flatten: bool\n",
    "        return:\n",
    "            all_images: List[Tuple[np.ndarray, Tuple[int, int], str]] -> List[(image, original_size, filename)]\n",
    "    '''\n",
    "    subdirectories = get_subdirectories(dataset_dirname)\n",
    "    all_images = []\n",
    "    for subdir in subdirectories:\n",
    "        images_filenames = get_files_within_dir(subdir, '.png')\n",
    "        subdir_images = read_images_from_files(filenames=images_filenames, rescale_factor=rescale_factor, rgb=RGB, flatten=flatten)\n",
    "        all_images += subdir_images\n",
    "    return all_images"
   ]
  },
  {
   "cell_type": "code",
   "execution_count": 118,
   "metadata": {},
   "outputs": [],
   "source": [
    "'''\n",
    "    Defining the global variables that I will be using to extract and pre-process the image data\n",
    "        - Dataset directory name (train/test)\n",
    "        - Rescaling factor as mentioned in the assignment PDF (1/4) -> ((256x256) -> (64x64))\n",
    "'''\n",
    "TRAIN_VAL_DIRNAME = \"sub1to10\"\n",
    "TEST_DIRNAME = \"sub31to40\"\n",
    "RESCALING_FACTOR = 1. / 4."
   ]
  },
  {
   "cell_type": "code",
   "execution_count": 4,
   "metadata": {},
   "outputs": [],
   "source": [
    "train_val_data = get_all_images(TRAIN_VAL_DIRNAME, RESCALING_FACTOR, RGB=True, flatten=False)\n",
    "test_data = get_all_images(TEST_DIRNAME, RESCALING_FACTOR, RGB=True, flatten=False)\n",
    "print(\"Number of train/val images {0}\".format(len(train_val_data)))\n",
    "print(\"Number of test images {0}\".format(len(test_data)))"
   ]
  },
  {
   "cell_type": "markdown",
   "metadata": {},
   "source": [
    "## <a name=\"1_2\">1.2 Template Matching</a>\n",
    "***\n",
    "- #### [1.2.1 Construct arrays for all pairs of images](#1_2_1)\n",
    "- #### [1.2.2 Split the data into train/validation sets](#1_2_2)\n",
    "- #### [1.2.3 Defining the similarity function](#1_2_3)\n",
    "- #### [1.2.4 Choosing the right threshold](#1_2_4)\n",
    "- #### [1.2.5 Evaluating the classification threshold](#1_2_5)"
   ]
  },
  {
   "cell_type": "markdown",
   "metadata": {},
   "source": [
    "### <a name=\"1_2_1\">1.2.1 Construct arrays for all pairs of images</a>\n",
    "***\n",
    "Since storing all pairs of images would be a huge load on the memory, so I just construct array of pairs of images using only their indices in the main images array (*train_val_data*) along with the label (whether two images are the same or not). <br>\n",
    "I also make sure that I have array for (same faces, different faces, all faces), to be able to split the data fairly into training and validation data, as there is already a hust data imbalance (10K same faces vs. 95K different faces)"
   ]
  },
  {
   "cell_type": "code",
   "execution_count": 6,
   "metadata": {},
   "outputs": [],
   "source": [
    "train_val_pairs = []\n",
    "train_val_pairs_same = []\n",
    "train_val_pairs_diff = []\n",
    "vis = {}\n",
    "\n",
    "for i in range(len(train_val_data)):\n",
    "    for j in range(len(train_val_data)):\n",
    "        if (i != j and (i, j) not in vis and (j, i) not in vis):\n",
    "            _, _, f1 = train_val_data[i]\n",
    "            _, _, f2 = train_val_data[j]\n",
    "\n",
    "            name1, name2 = f1.split('\\\\')[1][:-1], f2.split('\\\\')[1][:-1]\n",
    "\n",
    "            if (name1 == name2):\n",
    "                same = 1\n",
    "            else:\n",
    "                same = 0\n",
    "\n",
    "            label = tf.keras.utils.to_categorical(same, num_classes=2)\n",
    "            train_val_pairs.append((i, j, same))\n",
    "\n",
    "            if same == 1:\n",
    "                train_val_pairs_same.append((i, j, same))\n",
    "            else:\n",
    "                train_val_pairs_diff.append((i, j, same))\n",
    "            vis[(i, j)] = True\n",
    "\n",
    "test_pairs = []\n",
    "test_pairs_same = []\n",
    "test_pairs_diff = []\n",
    "vis = {}\n",
    "\n",
    "for i in range(len(test_data)):\n",
    "    for j in range(len(test_data)):\n",
    "        if (i != j and (i, j) not in vis and (j, i) not in vis):\n",
    "            _, _, f1 = test_data[i]\n",
    "            _, _, f2 = test_data[j]\n",
    "      \n",
    "            name1, name2 = f1.split('\\\\')[1][:-1], f2.split('\\\\')[1][:-1]\n",
    "      \n",
    "            if (name1 == name2):\n",
    "                same = 1\n",
    "            else:\n",
    "                same = 0\n",
    "\n",
    "            label = tf.keras.utils.to_categorical(same, num_classes=2)\n",
    "            test_pairs.append((i, j, same))\n",
    "\n",
    "            if same == 1:\n",
    "                test_pairs_same.append((i, j, same))\n",
    "            else:\n",
    "                test_pairs_diff.append((i, j, same))\n",
    "            vis[(i, j)] = True"
   ]
  },
  {
   "cell_type": "markdown",
   "metadata": {},
   "source": [
    "### <a name=\"1_2_2\">1.2.2 Split the data into train/validation sets</a>\n",
    "***\n",
    "Here I shuffle the data, then take differnt train portions of both (same/different faces), and the same for the validation portions.<br>\n",
    "Then I construct a training set using a mix of same/difference faces, and a validation set using a mix of same/different faces. <br>\n",
    "Doing that insures that there will always be same/different faces in both training and validation sets."
   ]
  },
  {
   "cell_type": "code",
   "execution_count": 7,
   "metadata": {},
   "outputs": [
    {
     "name": "stdout",
     "output_type": "stream",
     "text": [
      "Train same 10350 - Test diff 95220\n",
      "Validation same 517 - Validation diff 4761\n",
      "train 100292 - val 5278\n"
     ]
    }
   ],
   "source": [
    "import random\n",
    "# shuffle\n",
    "random.shuffle(train_val_pairs_same)\n",
    "random.shuffle(train_val_pairs_diff)\n",
    "# train_val_pairs_diff = random.sample(train_val_pairs_diff, int(len(train_val_pairs_same) * 5))\n",
    "# split\n",
    "print(\"Train same {0} - Test diff {1}\".format(len(train_val_pairs_same), len(train_val_pairs_diff)))\n",
    "\n",
    "val_same = 0.05\n",
    "val_diff = 0.05\n",
    "\n",
    "val_same_sz = int(val_same * len(train_val_pairs_same))\n",
    "val_diff_sz = int(val_diff * len(train_val_pairs_diff))\n",
    "\n",
    "print(\"Validation same {0} - Validation diff {1}\".format(val_same_sz, val_diff_sz))\n",
    "\n",
    "train_same = train_val_pairs_same[:-val_same_sz]\n",
    "train_diff = train_val_pairs_diff[:-val_diff_sz]\n",
    "val_same = train_val_pairs_same[-val_same_sz:]\n",
    "val_diff = train_val_pairs_diff[-val_diff_sz:]\n",
    "\n",
    "train_pairs = train_same + train_diff\n",
    "val_pairs = val_same + val_diff\n",
    "\n",
    "print(\"train {0} - val {1}\".format(len(train_pairs), len(val_pairs)))"
   ]
  },
  {
   "cell_type": "markdown",
   "metadata": {},
   "source": [
    "### <a name=\"1_2_3\">1.2.3 Defining the similarity function</a>\n",
    "***\n",
    "I used *template_match* provided by **skimage**, which uses a fast normalized cross-correlation to find the similarity between a template and an image."
   ]
  },
  {
   "cell_type": "code",
   "execution_count": 119,
   "metadata": {},
   "outputs": [],
   "source": [
    "from skimage.feature import match_template\n",
    "\n",
    "def compute_similarity(img1, img2):\n",
    "    score = match_template(img1, img2)\n",
    "    return np.round(np.squeeze(score), 6)"
   ]
  },
  {
   "cell_type": "markdown",
   "metadata": {},
   "source": [
    "### <a name=\"1_2_4\">1.2.4 Choosing the right threshold</a>\n",
    "***\n",
    "In order to choose the threshold that could give us best classification accuracy:\n",
    "- First I computed the similarity scores for all the pairs in the validation set (same faces / different faces).\n",
    "- Since storing all these pairs of images could take time, I've implemented a generator for that, for an efficient use of memory.\n",
    "- I've saved my results in numpy arrays, to be able to load them whenever I want.\n",
    "- **The commented out code is the code that I already ran and saved its result, I am then loading the results from the numpy file as shown**."
   ]
  },
  {
   "cell_type": "code",
   "execution_count": 120,
   "metadata": {},
   "outputs": [],
   "source": [
    "def similarity_generator(data_pairs, data):\n",
    "    for pair in data_pairs:\n",
    "        i, j, label = pair\n",
    "        left, right = data[i][0], data[j][0]\n",
    "        score = compute_similarity(left, right)\n",
    "        yield score\n",
    "# same_scores = []\n",
    "# for x in similarity_generator(val_same[:500], train_val_data):\n",
    "#     same_scores.append(x)\n",
    "# diff_scores = []\n",
    "# for x in similarity_generator(val_diff[:500], train_val_data):\n",
    "#     diff_scores.append(x)\n",
    "    \n",
    "# np.save('same_scores', same_scores)\n",
    "# np.save('diff_scores', diff_scores)\n",
    "same_scores = np.load('same_scores.npy')\n",
    "diff_scores = np.load('diff_scores.npy')"
   ]
  },
  {
   "cell_type": "markdown",
   "metadata": {},
   "source": [
    "The reason I calculated all the similarity scores of the pairs of faces, is to be able to see how my threshold of choise would affect the classification accuracy. <br>\n",
    "By observing these **box plots**:\n",
    "- The median of all the similirity scores for the same faces is above the 0.8 mark, and most of the scores are above the 0.75 mark.\n",
    "- The median of all the similarity scores for the different faces is below the 0.5 mark, and most of the scores are below the 0.6 mark.\n",
    "- In order to benifit the most from these observation, I chose to have a threshold in between the values 0.6 and 0.8, also to not be affected by the outliers.\n",
    "- **The chosen threshold would be 0.68 (the dotted line in blue).**"
   ]
  },
  {
   "cell_type": "code",
   "execution_count": 121,
   "metadata": {},
   "outputs": [
    {
     "data": {
      "image/png": "[encoded data removed]",
      "text/plain": [
       "<Figure size 432x432 with 1 Axes>"
      ]
     },
     "metadata": {
      "needs_background": "light"
     },
     "output_type": "display_data"
    }
   ],
   "source": [
    "threshold = 0.68\n",
    "data = [same_scores, diff_scores]\n",
    "fig, ax = plt.subplots(figsize=(6, 6))\n",
    "fig.suptitle('Box plots for matching scores \\non same/different faces', fontsize=14, fontweight='bold')\n",
    "bp = ax.boxplot(data, notch=0, sym='+', vert=1, whis=1.5)\n",
    "ax.yaxis.grid(True, linestyle='-', which='major', color='lightgrey', alpha=0.5)\n",
    "ax.set_xticklabels(['same faces scores', 'different faces scores'], fontsize=12)\n",
    "plt.axhline(y=threshold, color='b', linestyle='--')\n",
    "plt.show()"
   ]
  },
  {
   "cell_type": "markdown",
   "metadata": {},
   "source": [
    "### <a name=\"1_2_5\">1.2.5 Evaluating the classification threshold</a>\n",
    "***\n",
    "*The commented out code is a block of code that I already ran an stored its results*.<br><br>\n",
    "We can see that this threshold turns out to balance between the accuracy of the same faces and the different faces."
   ]
  },
  {
   "cell_type": "code",
   "execution_count": 123,
   "metadata": {},
   "outputs": [
    {
     "name": "stdout",
     "output_type": "stream",
     "text": [
      "same faces accuracy: 0.8723 \n",
      "different faces accuracy: 0.9105 \n",
      "overall accuracy: 0.9068\n"
     ]
    }
   ],
   "source": [
    "# same = 0\n",
    "# diff = 0\n",
    "# for pair in val_same:\n",
    "#     i, j, label = pair\n",
    "#     left, right = train_val_data[i][0], train_val_data[j][0]\n",
    "#     score = compute_similarity(left, right)\n",
    "#     if (score > threshold):\n",
    "#         same += 1\n",
    "# for pair in val_diff:\n",
    "#     i, j, label = pair\n",
    "#     left, right = train_val_data[i][0], train_val_data[j][0]\n",
    "#     score = compute_similarity(left, right)\n",
    "#     if (score < threshold):\n",
    "#         diff += 1\n",
    "        \n",
    "# same_acc = np.round(same / len(val_same), 4)\n",
    "# diff_acc = np.round(diff / len(val_diff), 4)\n",
    "# overall_acc = np.round((same + diff) / (len(val_same) + len(val_diff)), 4)\n",
    "\n",
    "# np.save('threshold_68_acc', np.array([same_acc, diff_acc, overall_acc]))\n",
    "accuracies = np.load('threshold_68_acc.npy')\n",
    "print(\"same faces accuracy: {0} \\ndifferent faces accuracy: {1} \\noverall accuracy: {2}\".format(accuracies[0], accuracies[1], accuracies[2]))"
   ]
  },
  {
   "cell_type": "markdown",
   "metadata": {},
   "source": [
    "## <a name=\"1_3\">1.3 Perceptron</a>\n",
    "***\n",
    "- #### [1.3.1 Defining the MLP architecture](#1_3_1)\n",
    "- #### [1.3.2 Split the data into train/validation sets](#1_3_2)\n",
    "- #### [1.3.3 Defining the similarity function](#1_3_3)\n",
    "- #### [1.3.4 Choosing the right threshold](#1_3_4)\n",
    "- #### [1.3.5 Evaluating the classification threshold](#1_3_5)"
   ]
  },
  {
   "cell_type": "markdown",
   "metadata": {},
   "source": [
    "### <a name=\"1_3_1\">1.3.1 Defining the MLP architecture</a>\n",
    "***\n",
    "The inpur representation to the MLP is just a pair of images concatenated. The output contains only 2 units (softmax classification). <br>\n",
    "\n",
    "*The commented out code of the MLP is a code that I ran on Google Colab GPU, and saved the results to be shown here later*"
   ]
  },
  {
   "cell_type": "code",
   "execution_count": 92,
   "metadata": {},
   "outputs": [],
   "source": [
    "# # define two sets of inputs\n",
    "# inputLeft = tf.keras.layers.Input(shape=(64, 64, 3))\n",
    "# flatInputLeft = tf.keras.layers.Flatten()(inputLeft)\n",
    "# inputRight = tf.keras.layers.Input(shape=(64, 64, 3))\n",
    "# flatInputRight = tf.keras.layers.Flatten()(inputRight)\n",
    " \n",
    "# # the first branch operates on the first input\n",
    "# x = tf.keras.layers.Dense(256, activation=\"linear\")(flatInputLeft)\n",
    "# x = tf.keras.layers.BatchNormalization()(x)\n",
    "# x = tf.keras.layers.ReLU()(x)\n",
    "# x = tf.keras.layers.Dropout(0.2)(x)\n",
    "# x = tf.keras.layers.Dense(128, activation=\"linear\")(x)\n",
    "# x = tf.keras.layers.BatchNormalization()(x)\n",
    "# x = tf.keras.layers.ReLU()(x)\n",
    "# x = tf.keras.layers.Dropout(0.2)(x)\n",
    "# x = tf.keras.models.Model(inputs=inputLeft, outputs=x)\n",
    " \n",
    "# # the first branch operates on the first input\n",
    "# y = tf.keras.layers.Dense(256, activation=\"linear\")(flatInputRight)\n",
    "# y = tf.keras.layers.BatchNormalization()(y)\n",
    "# y = tf.keras.layers.ReLU()(y)\n",
    "# y = tf.keras.layers.Dropout(0.2)(y)\n",
    "# y = tf.keras.layers.Dense(128, activation=\"linear\")(y)\n",
    "# y = tf.keras.layers.BatchNormalization()(y)\n",
    "# y = tf.keras.layers.ReLU()(y)\n",
    "# y = tf.keras.layers.Dropout(0.2)(y)\n",
    "# y = tf.keras.models.Model(inputs=inputRight, outputs=y)\n",
    " \n",
    "# # combine the output of the two branches\n",
    "# combined = tf.keras.layers.concatenate([x.output, y.output])\n",
    " \n",
    "# # apply a FC layer and then a regression prediction on the combined outputs\n",
    "# z = tf.keras.layers.Dense(64, activation=\"linear\")(combined)\n",
    "# z = tf.keras.layers.BatchNormalization()(z)\n",
    "# z = tf.keras.layers.ReLU()(z)\n",
    "# z = tf.keras.layers.Dropout(0.1)(z)\n",
    "# z = tf.keras.layers.Dense(32, activation=\"linear\")(z)\n",
    "# z = tf.keras.layers.BatchNormalization()(z)\n",
    "# z = tf.keras.layers.ReLU()(z)\n",
    "# z = tf.keras.layers.Dropout(0.1)(z)\n",
    "# z = tf.keras.layers.Dense(16, activation=\"linear\")(z)\n",
    "# z = tf.keras.layers.BatchNormalization()(z)\n",
    "# z = tf.keras.layers.ReLU()(z)\n",
    "# z = tf.keras.layers.Dense(2, activation=\"softmax\")(z)\n",
    " \n",
    "# # our model will accept the inputs of the two branches and then output a single value\n",
    "# image_mlp = tf.keras.models.Model(inputs=[x.input, y.input], outputs=z)\n",
    "\n",
    "# adam = tf.keras.optimizers.Adam(learning_rate=1e-3,  decay=1e-2, amsgrad=True)\n",
    "# image_mlp.compile(optimizer=adam,\n",
    "#                   loss='categorical_crossentropy',\n",
    "#                   metrics=['accuracy'])\n",
    "\n",
    "# image_mlp.fit_generator(generator=train_generator, \n",
    "#                         validation_data=val_generator, \n",
    "#                         use_multiprocessing=True, \n",
    "#                         workers=6, \n",
    "#                         epochs=30)"
   ]
  },
  {
   "cell_type": "code",
   "execution_count": 174,
   "metadata": {},
   "outputs": [],
   "source": [
    "class DataGenerator(tf.keras.utils.Sequence):\n",
    "  # reference -> https://stanford.edu/~shervine/blog/keras-how-to-generate-data-on-the-fly \n",
    "    def __init__(self, list_IDs, labels, batch_size=64, dim=(64,64), n_channels=3,\n",
    "                       n_classes=2, shuffle=True, data=None):\n",
    "        'Initialization'\n",
    "        self.dim = dim\n",
    "        self.batch_size = batch_size\n",
    "        self.labels = labels\n",
    "        self.list_IDs = list_IDs\n",
    "        self.n_channels = n_channels\n",
    "        self.n_classes = n_classes\n",
    "        self.shuffle = shuffle\n",
    "        self.data = data\n",
    "        self.on_epoch_end()\n",
    "\n",
    "    def on_epoch_end(self):\n",
    "        'Updates indexes after each epoch'\n",
    "        self.indexes = np.arange(len(self.list_IDs))\n",
    "        if self.shuffle == True:\n",
    "            np.random.shuffle(self.indexes)\n",
    "\n",
    "    def __normalize(self, x):\n",
    "        x_min = np.amin(x)\n",
    "        x_max = np.amax(x)\n",
    "        return (x - x_min) / (x_max - x_min)\n",
    "\n",
    "    def __data_generation(self, list_IDs_temp):\n",
    "        'Generates data containing batch_size samples' # X : (n_samples, *dim, n_channels)\n",
    "        # Initialization\n",
    "        X_left = []\n",
    "        X_right = []\n",
    "        X = []\n",
    "        y = []\n",
    "\n",
    "        # Generate data\n",
    "        for i, j, label in list_IDs_temp:\n",
    "            # Store sample\n",
    "\n",
    "            x_left = self.data[i][0]#self.__normalize(self.data[i][0])\n",
    "            x_right = self.data[j][0]#self.__normalize(self.data[j][0])\n",
    "            # print(x_left.shape, x_right.shape, label)\n",
    "            x_left = skimage.color.rgb2gray(x_left)\n",
    "            x_right = skimage.color.rgb2gray(x_right)\n",
    "            X_left.append(x_left)\n",
    "            X_right.append(x_right)\n",
    "\n",
    "            X.append(np.concatenate([x_left, x_right], axis=1))\n",
    "\n",
    "            # Store class\n",
    "            if self.n_classes > 1:\n",
    "                label = tf.keras.utils.to_categorical(label, num_classes=self.n_classes)\n",
    "            y.append(label)\n",
    "\n",
    "        X_left, X_right, X, y = np.array(X_left), np.array(X_right), np.array(X), np.array(y)\n",
    "        return X, y\n",
    "\n",
    "    def __len__(self):\n",
    "        'Denotes the number of batches per epoch'\n",
    "        return int(np.floor(len(self.list_IDs) / self.batch_size))\n",
    "\n",
    "    def __getitem__(self, index):\n",
    "        'Generate one batch of data'\n",
    "        # Generate indexes of the batch\n",
    "        indexes = self.indexes[index*self.batch_size:(index+1)*self.batch_size]\n",
    "\n",
    "        # Find list of IDs\n",
    "        list_IDs_temp = [self.list_IDs[k] for k in indexes]\n",
    "\n",
    "        # Generate data\n",
    "        X, y = self.__data_generation(list_IDs_temp)\n",
    "\n",
    "        return X, y"
   ]
  },
  {
   "cell_type": "code",
   "execution_count": 175,
   "metadata": {},
   "outputs": [],
   "source": [
    "image_mlp_path = 'mlp/image_concat_2'\n",
    "\n",
    "from tensorflow.keras.models import model_from_json\n",
    "from tensorflow.keras.utils import plot_model\n",
    "\n",
    "json_file = open(image_mlp_path + '.json', 'r')\n",
    "loaded_model_json = json_file.read()\n",
    "json_file.close()\n",
    "image_mlp = model_from_json(loaded_model_json)\n",
    "plot_model(image_mlp, to_file='image_mlp.png', show_shapes=True, show_layer_names=False)\n",
    "\n",
    "image_mlp.load_weights(image_mlp_path + '.h5')\n",
    "adam = tf.keras.optimizers.Adam(learning_rate=1e-3,  decay=1e-2, amsgrad=True)\n",
    "image_mlp.compile(optimizer=adam,\n",
    "                  loss='categorical_crossentropy',\n",
    "                  metrics=['accuracy'])"
   ]
  },
  {
   "cell_type": "code",
   "execution_count": 176,
   "metadata": {},
   "outputs": [],
   "source": [
    "train_generator     = DataGenerator(train_pairs,     labels=[], data=train_val_data, batch_size=32,  n_classes=2)\n",
    "val_generator       = DataGenerator(val_pairs,       labels=[], data=train_val_data, batch_size=32,  n_classes=2)\n",
    "test_generator      = DataGenerator(test_pairs,      labels=[], data=test_data,      batch_size=128, n_classes=2)\n",
    "test_generator_same = DataGenerator(test_pairs_same, labels=[], data=test_data,      batch_size=128, n_classes=2)\n",
    "test_generator_diff = DataGenerator(test_pairs_diff, labels=[], data=test_data,      batch_size=128, n_classes=2)"
   ]
  },
  {
   "cell_type": "code",
   "execution_count": 177,
   "metadata": {},
   "outputs": [
    {
     "name": "stdout",
     "output_type": "stream",
     "text": [
      "val loss: 0.34371803702769527 - val accuracy: 0.9197789430618286\n"
     ]
    }
   ],
   "source": [
    "val_loss, val_acc = image_mlp.evaluate_generator(generator=val_generator, verbose=0, max_queue_size=5)\n",
    "print(\"val loss: {0} - val accuracy: {1}\".format(val_loss, val_acc))"
   ]
  },
  {
   "cell_type": "markdown",
   "metadata": {},
   "source": [
    "# 4"
   ]
  },
  {
   "cell_type": "code",
   "execution_count": 178,
   "metadata": {},
   "outputs": [],
   "source": [
    "same_loss, same_acc = image_mlp.evaluate_generator(generator=test_generator_same, verbose=0, max_queue_size=5)\n",
    "diff_loss, diff_acc = image_mlp.evaluate_generator(generator=test_generator_diff, verbose=0, max_queue_size=5)\n",
    "image_mlp_results = [same_loss, same_acc, diff_loss, diff_acc]\n",
    "np.save('image_mlp_results', image_mlp_results)"
   ]
  },
  {
   "cell_type": "code",
   "execution_count": 179,
   "metadata": {},
   "outputs": [
    {
     "name": "stdout",
     "output_type": "stream",
     "text": [
      "same loss: 0.08933231302283028 - same accuracy: 0.9691051244735718\n",
      "different loss: 1.0048775481661474 - different accuracy: 0.5789708495140076\n"
     ]
    }
   ],
   "source": [
    "same_loss, same_acc, diff_loss, diff_acc = np.load('image_mlp_results.npy')\n",
    "print(\"same loss: {0} - same accuracy: {1}\\ndifferent loss: {2} - different accuracy: {3}\".format(same_loss, same_acc, diff_loss, diff_acc))"
   ]
  },
  {
   "cell_type": "code",
   "execution_count": 166,
   "metadata": {},
   "outputs": [
    {
     "ename": "KeyboardInterrupt",
     "evalue": "",
     "output_type": "error",
     "traceback": [
      "\u001b[1;31m---------------------------------------------------------------------------\u001b[0m",
      "\u001b[1;31mKeyboardInterrupt\u001b[0m                         Traceback (most recent call last)",
      "\u001b[1;32m<ipython-input-166-72b883935700>\u001b[0m in \u001b[0;36m<module>\u001b[1;34m\u001b[0m\n\u001b[0;32m      4\u001b[0m     \u001b[0mi\u001b[0m\u001b[1;33m,\u001b[0m \u001b[0mj\u001b[0m\u001b[1;33m,\u001b[0m \u001b[0m_\u001b[0m \u001b[1;33m=\u001b[0m \u001b[0mpair\u001b[0m\u001b[1;33m\u001b[0m\u001b[1;33m\u001b[0m\u001b[0m\n\u001b[0;32m      5\u001b[0m     \u001b[0mleft\u001b[0m\u001b[1;33m,\u001b[0m \u001b[0mright\u001b[0m \u001b[1;33m=\u001b[0m \u001b[0mtest_data\u001b[0m\u001b[1;33m[\u001b[0m\u001b[0mi\u001b[0m\u001b[1;33m]\u001b[0m\u001b[1;33m[\u001b[0m\u001b[1;36m0\u001b[0m\u001b[1;33m]\u001b[0m\u001b[1;33m,\u001b[0m \u001b[0mtest_data\u001b[0m\u001b[1;33m[\u001b[0m\u001b[0mj\u001b[0m\u001b[1;33m]\u001b[0m\u001b[1;33m[\u001b[0m\u001b[1;36m0\u001b[0m\u001b[1;33m]\u001b[0m\u001b[1;33m\u001b[0m\u001b[1;33m\u001b[0m\u001b[0m\n\u001b[1;32m----> 6\u001b[1;33m     \u001b[0mscore\u001b[0m \u001b[1;33m=\u001b[0m \u001b[0mcompute_similarity\u001b[0m\u001b[1;33m(\u001b[0m\u001b[0mleft\u001b[0m\u001b[1;33m,\u001b[0m \u001b[0mright\u001b[0m\u001b[1;33m)\u001b[0m\u001b[1;33m\u001b[0m\u001b[1;33m\u001b[0m\u001b[0m\n\u001b[0m\u001b[0;32m      7\u001b[0m     \u001b[1;32mif\u001b[0m \u001b[1;33m(\u001b[0m\u001b[0mscore\u001b[0m \u001b[1;33m>\u001b[0m \u001b[0mthreshold\u001b[0m\u001b[1;33m)\u001b[0m\u001b[1;33m:\u001b[0m\u001b[1;33m\u001b[0m\u001b[1;33m\u001b[0m\u001b[0m\n\u001b[0;32m      8\u001b[0m         \u001b[0msame\u001b[0m \u001b[1;33m+=\u001b[0m \u001b[1;36m1\u001b[0m\u001b[1;33m\u001b[0m\u001b[1;33m\u001b[0m\u001b[0m\n",
      "\u001b[1;32m<ipython-input-119-5e7354113751>\u001b[0m in \u001b[0;36mcompute_similarity\u001b[1;34m(img1, img2)\u001b[0m\n\u001b[0;32m      2\u001b[0m \u001b[1;33m\u001b[0m\u001b[0m\n\u001b[0;32m      3\u001b[0m \u001b[1;32mdef\u001b[0m \u001b[0mcompute_similarity\u001b[0m\u001b[1;33m(\u001b[0m\u001b[0mimg1\u001b[0m\u001b[1;33m,\u001b[0m \u001b[0mimg2\u001b[0m\u001b[1;33m)\u001b[0m\u001b[1;33m:\u001b[0m\u001b[1;33m\u001b[0m\u001b[1;33m\u001b[0m\u001b[0m\n\u001b[1;32m----> 4\u001b[1;33m     \u001b[0mscore\u001b[0m \u001b[1;33m=\u001b[0m \u001b[0mmatch_template\u001b[0m\u001b[1;33m(\u001b[0m\u001b[0mimg1\u001b[0m\u001b[1;33m,\u001b[0m \u001b[0mimg2\u001b[0m\u001b[1;33m)\u001b[0m\u001b[1;33m\u001b[0m\u001b[1;33m\u001b[0m\u001b[0m\n\u001b[0m\u001b[0;32m      5\u001b[0m     \u001b[1;32mreturn\u001b[0m \u001b[0mnp\u001b[0m\u001b[1;33m.\u001b[0m\u001b[0mround\u001b[0m\u001b[1;33m(\u001b[0m\u001b[0mnp\u001b[0m\u001b[1;33m.\u001b[0m\u001b[0msqueeze\u001b[0m\u001b[1;33m(\u001b[0m\u001b[0mscore\u001b[0m\u001b[1;33m)\u001b[0m\u001b[1;33m,\u001b[0m \u001b[1;36m6\u001b[0m\u001b[1;33m)\u001b[0m\u001b[1;33m\u001b[0m\u001b[1;33m\u001b[0m\u001b[0m\n",
      "\u001b[1;32mc:\\users\\administrator\\anaconda3\\envs\\ottawa\\lib\\site-packages\\skimage\\feature\\template.py\u001b[0m in \u001b[0;36mmatch_template\u001b[1;34m(image, template, pad_input, mode, constant_values)\u001b[0m\n\u001b[0;32m    148\u001b[0m     \u001b[1;32melif\u001b[0m \u001b[0mimage\u001b[0m\u001b[1;33m.\u001b[0m\u001b[0mndim\u001b[0m \u001b[1;33m==\u001b[0m \u001b[1;36m3\u001b[0m\u001b[1;33m:\u001b[0m\u001b[1;33m\u001b[0m\u001b[1;33m\u001b[0m\u001b[0m\n\u001b[0;32m    149\u001b[0m         xcorr = fftconvolve(image, template[::-1, ::-1, ::-1],\n\u001b[1;32m--> 150\u001b[1;33m                             mode=\"valid\")[1:-1, 1:-1, 1:-1]\n\u001b[0m\u001b[0;32m    151\u001b[0m \u001b[1;33m\u001b[0m\u001b[0m\n\u001b[0;32m    152\u001b[0m     \u001b[0mnumerator\u001b[0m \u001b[1;33m=\u001b[0m \u001b[0mxcorr\u001b[0m \u001b[1;33m-\u001b[0m \u001b[0mimage_window_sum\u001b[0m \u001b[1;33m*\u001b[0m \u001b[0mtemplate_mean\u001b[0m\u001b[1;33m\u001b[0m\u001b[1;33m\u001b[0m\u001b[0m\n",
      "\u001b[1;32mc:\\users\\administrator\\anaconda3\\envs\\ottawa\\lib\\site-packages\\scipy\\signal\\signaltools.py\u001b[0m in \u001b[0;36mfftconvolve\u001b[1;34m(in1, in2, mode, axes)\u001b[0m\n\u001b[0;32m    413\u001b[0m             \u001b[0msp1\u001b[0m \u001b[1;33m=\u001b[0m \u001b[0mnp\u001b[0m\u001b[1;33m.\u001b[0m\u001b[0mfft\u001b[0m\u001b[1;33m.\u001b[0m\u001b[0mrfftn\u001b[0m\u001b[1;33m(\u001b[0m\u001b[0min1\u001b[0m\u001b[1;33m,\u001b[0m \u001b[0mfshape\u001b[0m\u001b[1;33m,\u001b[0m \u001b[0maxes\u001b[0m\u001b[1;33m=\u001b[0m\u001b[0maxes\u001b[0m\u001b[1;33m)\u001b[0m\u001b[1;33m\u001b[0m\u001b[1;33m\u001b[0m\u001b[0m\n\u001b[0;32m    414\u001b[0m             \u001b[0msp2\u001b[0m \u001b[1;33m=\u001b[0m \u001b[0mnp\u001b[0m\u001b[1;33m.\u001b[0m\u001b[0mfft\u001b[0m\u001b[1;33m.\u001b[0m\u001b[0mrfftn\u001b[0m\u001b[1;33m(\u001b[0m\u001b[0min2\u001b[0m\u001b[1;33m,\u001b[0m \u001b[0mfshape\u001b[0m\u001b[1;33m,\u001b[0m \u001b[0maxes\u001b[0m\u001b[1;33m=\u001b[0m\u001b[0maxes\u001b[0m\u001b[1;33m)\u001b[0m\u001b[1;33m\u001b[0m\u001b[1;33m\u001b[0m\u001b[0m\n\u001b[1;32m--> 415\u001b[1;33m             \u001b[0mret\u001b[0m \u001b[1;33m=\u001b[0m \u001b[0mnp\u001b[0m\u001b[1;33m.\u001b[0m\u001b[0mfft\u001b[0m\u001b[1;33m.\u001b[0m\u001b[0mirfftn\u001b[0m\u001b[1;33m(\u001b[0m\u001b[0msp1\u001b[0m \u001b[1;33m*\u001b[0m \u001b[0msp2\u001b[0m\u001b[1;33m,\u001b[0m \u001b[0mfshape\u001b[0m\u001b[1;33m,\u001b[0m \u001b[0maxes\u001b[0m\u001b[1;33m=\u001b[0m\u001b[0maxes\u001b[0m\u001b[1;33m)\u001b[0m\u001b[1;33m[\u001b[0m\u001b[0mfslice\u001b[0m\u001b[1;33m]\u001b[0m\u001b[1;33m.\u001b[0m\u001b[0mcopy\u001b[0m\u001b[1;33m(\u001b[0m\u001b[1;33m)\u001b[0m\u001b[1;33m\u001b[0m\u001b[1;33m\u001b[0m\u001b[0m\n\u001b[0m\u001b[0;32m    416\u001b[0m         \u001b[1;32mfinally\u001b[0m\u001b[1;33m:\u001b[0m\u001b[1;33m\u001b[0m\u001b[1;33m\u001b[0m\u001b[0m\n\u001b[0;32m    417\u001b[0m             \u001b[1;32mif\u001b[0m \u001b[1;32mnot\u001b[0m \u001b[0m_rfft_mt_safe\u001b[0m\u001b[1;33m:\u001b[0m\u001b[1;33m\u001b[0m\u001b[1;33m\u001b[0m\u001b[0m\n",
      "\u001b[1;32mc:\\users\\administrator\\anaconda3\\envs\\ottawa\\lib\\site-packages\\mkl_fft\\_numpy_fft.py\u001b[0m in \u001b[0;36mirfftn\u001b[1;34m(a, s, axes, norm)\u001b[0m\n\u001b[0;32m   1178\u001b[0m     \"\"\"\n\u001b[0;32m   1179\u001b[0m     \u001b[0mx\u001b[0m \u001b[1;33m=\u001b[0m \u001b[0m_float_utils\u001b[0m\u001b[1;33m.\u001b[0m\u001b[0m__downcast_float128_array\u001b[0m\u001b[1;33m(\u001b[0m\u001b[0ma\u001b[0m\u001b[1;33m)\u001b[0m\u001b[1;33m\u001b[0m\u001b[1;33m\u001b[0m\u001b[0m\n\u001b[1;32m-> 1180\u001b[1;33m     \u001b[0moutput\u001b[0m \u001b[1;33m=\u001b[0m \u001b[0mmkl_fft\u001b[0m\u001b[1;33m.\u001b[0m\u001b[0mirfftn_numpy\u001b[0m\u001b[1;33m(\u001b[0m\u001b[0mx\u001b[0m\u001b[1;33m,\u001b[0m \u001b[0ms\u001b[0m\u001b[1;33m,\u001b[0m \u001b[0maxes\u001b[0m\u001b[1;33m)\u001b[0m\u001b[1;33m\u001b[0m\u001b[1;33m\u001b[0m\u001b[0m\n\u001b[0m\u001b[0;32m   1181\u001b[0m     \u001b[1;32mif\u001b[0m \u001b[0m_unitary\u001b[0m\u001b[1;33m(\u001b[0m\u001b[0mnorm\u001b[0m\u001b[1;33m)\u001b[0m\u001b[1;33m:\u001b[0m\u001b[1;33m\u001b[0m\u001b[1;33m\u001b[0m\u001b[0m\n\u001b[0;32m   1182\u001b[0m         \u001b[0moutput\u001b[0m \u001b[1;33m*=\u001b[0m \u001b[0msqrt\u001b[0m\u001b[1;33m(\u001b[0m\u001b[0m_tot_size\u001b[0m\u001b[1;33m(\u001b[0m\u001b[0moutput\u001b[0m\u001b[1;33m,\u001b[0m \u001b[0maxes\u001b[0m\u001b[1;33m)\u001b[0m\u001b[1;33m)\u001b[0m\u001b[1;33m\u001b[0m\u001b[1;33m\u001b[0m\u001b[0m\n",
      "\u001b[1;31mKeyboardInterrupt\u001b[0m: "
     ]
    }
   ],
   "source": [
    "same = 0\n",
    "diff = 0\n",
    "for pair in test_pairs_same:\n",
    "    i, j, _ = pair\n",
    "    left, right = test_data[i][0], test_data[j][0]\n",
    "    score = compute_similarity(left, right)\n",
    "    if (score > threshold):\n",
    "        same += 1\n",
    "for pair in test_pairs_diff:\n",
    "    i, j, _ = pair\n",
    "    left, right = test_data[i][0], test_data[j][0]\n",
    "    score = compute_similarity(left, right)\n",
    "    if (score < threshold):\n",
    "        diff += 1\n",
    "        \n",
    "same_acc = np.round(same / len(test_pairs_same), 4)\n",
    "diff_acc = np.round(diff / len(test_pairs_diff), 4)\n",
    "overall_acc = np.round((same + diff) / (len(test_pairs_same) + len(test_pairs_diff)), 4)\n",
    "np.save('test_threshold', [same_acc, diff_acc, overall_acc])"
   ]
  },
  {
   "cell_type": "code",
   "execution_count": null,
   "metadata": {},
   "outputs": [],
   "source": [
    "same_acc, diff_acc, overall_acc = np.load('test_threshold.npy')\n",
    "print(same_acc, diff_acc, overall_acc)"
   ]
  },
  {
   "cell_type": "markdown",
   "metadata": {},
   "source": [
    "# 5"
   ]
  },
  {
   "cell_type": "code",
   "execution_count": 140,
   "metadata": {},
   "outputs": [],
   "source": [
    "sobel_mlp_path = 'mlp/sobel_concat_2'\n",
    "\n",
    "from tensorflow.keras.models import model_from_json\n",
    "from tensorflow.keras.utils import plot_model\n",
    "\n",
    "json_file = open(sobel_mlp_path + '.json', 'r')\n",
    "loaded_model_json = json_file.read()\n",
    "json_file.close()\n",
    "sobel_mlp = model_from_json(loaded_model_json)\n",
    "plot_model(sobel_mlp, to_file='sobel_mlp.png', show_shapes=True, show_layer_names=False)\n",
    "\n",
    "sobel_mlp.load_weights(sobel_mlp_path + '.h5')\n",
    "adam = tf.keras.optimizers.Adam(learning_rate=1e-3,  decay=1e-2, amsgrad=True)\n",
    "sobel_mlp.compile(optimizer=adam,\n",
    "                  loss='categorical_crossentropy',\n",
    "                  metrics=['accuracy'])"
   ]
  },
  {
   "cell_type": "code",
   "execution_count": 141,
   "metadata": {},
   "outputs": [],
   "source": [
    "edges_train_val_data = []\n",
    "edges_test_data = []\n",
    "\n",
    "for item in train_val_data:\n",
    "    img, _, filename = item\n",
    "    edges = cv2.cvtColor(img, cv2.COLOR_RGB2GRAY)\n",
    "    edges = cv2.equalizeHist(edges)\n",
    "    sobel_hor = cv2.Sobel(edges, cv2.CV_64F, 1, 0, ksize=5)\n",
    "    sobel_ver = cv2.Sobel(edges, cv2.CV_64F, 0, 1, ksize=5)\n",
    "    edges = sobel_hor + sobel_ver\n",
    "    edges_train_val_data.append((edges, filename))\n",
    "\n",
    "for item in test_data:\n",
    "    img, _, filename = item\n",
    "    edges = cv2.cvtColor(img, cv2.COLOR_RGB2GRAY)\n",
    "    edges = cv2.equalizeHist(edges)\n",
    "    sobel_hor = cv2.Sobel(edges, cv2.CV_64F, 1, 0, ksize=5)\n",
    "    sobel_ver = cv2.Sobel(edges, cv2.CV_64F, 0, 1, ksize=5)\n",
    "    edges = sobel_hor + sobel_ver\n",
    "    edges_test_data.append((edges, filename))"
   ]
  },
  {
   "cell_type": "code",
   "execution_count": 142,
   "metadata": {},
   "outputs": [],
   "source": [
    "train_generator =     DataGenerator(train_pairs,     labels=[], data=edges_train_val_data, batch_size=32,  n_classes=2)\n",
    "val_generator =       DataGenerator(val_pairs,       labels=[], data=edges_train_val_data, batch_size=32,  n_classes=2)\n",
    "test_generator =      DataGenerator(test_pairs,      labels=[], data=edges_test_data,      batch_size=128, n_classes=2)\n",
    "test_generator_same = DataGenerator(test_pairs_same, labels=[], data=edges_test_data,      batch_size=128, n_classes=2)\n",
    "test_generator_diff = DataGenerator(test_pairs_diff, labels=[], data=edges_test_data,      batch_size=128, n_classes=2)"
   ]
  },
  {
   "cell_type": "code",
   "execution_count": 143,
   "metadata": {},
   "outputs": [],
   "source": [
    "# model = tf.keras.models.Sequential()\n",
    "\n",
    "# model.add(tf.keras.layers.Flatten(input_shape=(64, 128)))\n",
    "# model.add(tf.keras.layers.Dense(units=512, activation='linear')\n",
    "# model.add(tf.keras.layers.BatchNormalization())\n",
    "# model.add(tf.keras.layers.ReLU())\n",
    "# model.add(tf.keras.layers.Dropout(0.4))\n",
    "\n",
    "# model.add(tf.keras.layers.Dense(256, activation='linear')\n",
    "# model.add(tf.keras.layers.BatchNormalization())\n",
    "# model.add(tf.keras.layers.ReLU())\n",
    "# model.add(tf.keras.layers.Dropout(0.4))\n",
    "\n",
    "# model.add(tf.keras.layers.Dense(128, activation='linear')\n",
    "# model.add(tf.keras.layers.BatchNormalization())\n",
    "# model.add(tf.keras.layers.ReLU())\n",
    "# model.add(tf.keras.layers.Dropout(0.4))\n",
    "\n",
    "# model.add(tf.keras.layers.Dense(32, activation='linear')\n",
    "# model.add(tf.keras.layers.BatchNormalization())\n",
    "# model.add(tf.keras.layers.ReLU())\n",
    "# model.add(tf.keras.layers.Dropout(0.2))\n",
    "\n",
    "# model.add(tf.keras.layers.Dense(2, activation='softmax'))"
   ]
  },
  {
   "cell_type": "code",
   "execution_count": 144,
   "metadata": {},
   "outputs": [
    {
     "name": "stdout",
     "output_type": "stream",
     "text": [
      "val loss: 0.311970848460943 - val accuracy: 0.941120445728302\n"
     ]
    }
   ],
   "source": [
    "val_loss, val_acc = sobel_mlp.evaluate_generator(generator=val_generator, verbose=0, max_queue_size=5)\n",
    "print(\"val loss: {0} - val accuracy: {1}\".format(val_loss, val_acc))"
   ]
  },
  {
   "cell_type": "code",
   "execution_count": 145,
   "metadata": {},
   "outputs": [],
   "source": [
    "same_loss, same_acc = sobel_mlp.evaluate_generator(generator=test_generator_same, verbose=0, max_queue_size=5)\n",
    "diff_loss, diff_acc = sobel_mlp.evaluate_generator(generator=test_generator_diff, verbose=0, max_queue_size=5)\n",
    "sobel_mlp_results = [same_loss, same_acc, diff_loss, diff_acc]\n",
    "np.save('sobel_mlp_results', sobel_mlp_results)"
   ]
  },
  {
   "cell_type": "code",
   "execution_count": 146,
   "metadata": {},
   "outputs": [
    {
     "name": "stdout",
     "output_type": "stream",
     "text": [
      "same loss: 0.6883313809380387 - same accuracy: 0.802675187587738\n",
      "different loss: 0.11346024669354826 - different accuracy: 0.9540323615074158\n"
     ]
    }
   ],
   "source": [
    "same_loss, same_acc, diff_loss, diff_acc = np.load('sobel_mlp_results.npy')\n",
    "print(\"same loss: {0} - same accuracy: {1}\\ndifferent loss: {2} - different accuracy: {3}\".format(same_loss, same_acc, diff_loss, diff_acc))"
   ]
  }
 ],
 "metadata": {
  "kernelspec": {
   "display_name": "Python 3",
   "language": "python",
   "name": "python3"
  },
  "language_info": {
   "codemirror_mode": {
    "name": "ipython",
    "version": 3
   },
   "file_extension": ".py",
   "mimetype": "text/x-python",
   "name": "python",
   "nbconvert_exporter": "python",
   "pygments_lexer": "ipython3",
   "version": "3.6.9"
  }
 },
 "nbformat": 4,
 "nbformat_minor": 2
}
